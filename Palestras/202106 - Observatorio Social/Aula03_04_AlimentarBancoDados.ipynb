{
 "cells": [
  {
   "cell_type": "markdown",
   "metadata": {},
   "source": [
    "<center><img width=\"70%\" src=\"img/logo.png\"></center>"
   ]
  },
  {
   "cell_type": "markdown",
   "metadata": {},
   "source": [
    "# **Projeto Observatório Social - Prefeitura Municipal de Indaial / SC**\n",
    "### <font color='#DC143C'> *Webcrapping com Python | Criação e Alimentação de DW*\n",
    "*by [JOVIANO SILVEIRA](https://www.joviano.com)*\n",
    "\n",
    "---"
   ]
  },
  {
   "cell_type": "markdown",
   "metadata": {},
   "source": [
    "# <font color=green> 1. RESUMO DAS FUNÇÕES CRIADAS NA ÚLTIMA AULA\n"
   ]
  },
  {
   "cell_type": "markdown",
   "metadata": {},
   "source": [
    "> Pegamos todas as ``def`` do arquivo da última aula, e reunimos no inicio desse notebook"
   ]
  },
  {
   "cell_type": "code",
   "execution_count": 1,
   "metadata": {},
   "outputs": [],
   "source": [
    "# Importando bibliotecas\n",
    "\n",
    "import time\n",
    "import pandas as pd\n",
    "\n",
    "from urllib.error import URLError, HTTPError\n",
    "from urllib.request import Request, urlopen\n",
    "\n",
    "import bs4"
   ]
  },
  {
   "cell_type": "code",
   "execution_count": 2,
   "metadata": {},
   "outputs": [],
   "source": [
    "# Informando o AGENTE\n",
    "\n",
    "agente = \"Mozilla/5.0 (Windows NT 10.0; Win64; x64) AppleWebKit/537.36 (KHTML, like Gecko) Chrome/91.0.4472.124 Safari/537.36\"\n",
    "headers = {'User-Agent': agente}"
   ]
  },
  {
   "cell_type": "code",
   "execution_count": 3,
   "metadata": {},
   "outputs": [],
   "source": [
    "# Função para chamar a página WEB\n",
    "\n",
    "def ConsultaWebB(url):\n",
    "    try:\n",
    "        req = Request(url, headers = headers)\n",
    "        response = urlopen(req)\n",
    "        return response.read()\n",
    "\n",
    "    except:\n",
    "        pass"
   ]
  },
  {
   "cell_type": "code",
   "execution_count": 4,
   "metadata": {},
   "outputs": [],
   "source": [
    "# Função para pegar a página encontrada e transformar em um objeto utilizável\n",
    "\n",
    "def captura_html_pagina(url):\n",
    "    html = ConsultaWebB(url)\n",
    "    soup = bs4.BeautifulSoup(html, 'html.parser')    \n",
    "    return soup"
   ]
  },
  {
   "cell_type": "code",
   "execution_count": 5,
   "metadata": {},
   "outputs": [],
   "source": [
    "# Função para capturar as informações da \"tabelinha cabeçalho\" da página\n",
    "\n",
    "def Cabecalho(html):\n",
    "    dt = html.find_all('dt')\n",
    "    dd = html.find_all('dd')\n",
    "    dic = {}\n",
    "    for i in range(len(dt)):\n",
    "        x = dt[i].get_text()\n",
    "        y = dd[i].get_text() \n",
    "        dic[x] = y\n",
    "    return dic"
   ]
  },
  {
   "cell_type": "code",
   "execution_count": 6,
   "metadata": {},
   "outputs": [],
   "source": [
    "# Funçao para capturar o conteúdo da página e transformar em um dicionário\n",
    "\n",
    "def Conteudo(proposicao, ano):\n",
    "    url = 'https://www.legislador.com.br//LegisladorWEB.ASP?WCI=ProposicaoTexto&ID=3&TPProposicao=1&nrProposicao='+str(proposicao)+'&aaProposicao='+str(ano)\n",
    "    html = captura_html_pagina(url)\n",
    "    dic = Cabecalho(html)\n",
    "    dic['Proposição'] = proposicao\n",
    "    dic['Ano'] = ano\n",
    "    dic['Texto'] = html.p.get_text()\n",
    "    return dic"
   ]
  },
  {
   "cell_type": "code",
   "execution_count": 7,
   "metadata": {},
   "outputs": [],
   "source": [
    "def TabelaResultados(inicar_em, quantidade, ano, erros_admissiveis, segundos_espera):\n",
    "\n",
    "    ultima_consulta = inicar_em + quantidade - 1\n",
    "\n",
    "    # erros\n",
    "    erros = 0\n",
    "\n",
    "    # variaveis para loop\n",
    "    i = 1\n",
    "    lista = []\n",
    "\n",
    "    while inicar_em <= ultima_consulta and erros <= erros_admissiveis:\n",
    "\n",
    "        try:\n",
    "            x = Conteudo(inicar_em,ano)\n",
    "            lista = lista + [Conteudo(inicar_em,ano)]\n",
    "        except:\n",
    "            erros += 1\n",
    "            pass\n",
    "\n",
    "        time.sleep(segundos_espera)\n",
    "\n",
    "        # carregamento incremental das variáveis\n",
    "        inicar_em+=1 \n",
    "        i+=1\n",
    "\n",
    "\n",
    "    return pd.DataFrame(lista)"
   ]
  },
  {
   "cell_type": "code",
   "execution_count": 8,
   "metadata": {
    "scrolled": true
   },
   "outputs": [
    {
     "data": {
      "text/html": [
       "<div>\n",
       "<style scoped>\n",
       "    .dataframe tbody tr th:only-of-type {\n",
       "        vertical-align: middle;\n",
       "    }\n",
       "\n",
       "    .dataframe tbody tr th {\n",
       "        vertical-align: top;\n",
       "    }\n",
       "\n",
       "    .dataframe thead th {\n",
       "        text-align: right;\n",
       "    }\n",
       "</style>\n",
       "<table border=\"1\" class=\"dataframe\">\n",
       "  <thead>\n",
       "    <tr style=\"text-align: right;\">\n",
       "      <th></th>\n",
       "      <th>Reunião</th>\n",
       "      <th>Deliberação</th>\n",
       "      <th>Situação</th>\n",
       "      <th>Assunto</th>\n",
       "      <th>Autor</th>\n",
       "      <th>Proposição</th>\n",
       "      <th>Ano</th>\n",
       "      <th>Texto</th>\n",
       "    </tr>\n",
       "  </thead>\n",
       "  <tbody>\n",
       "    <tr>\n",
       "      <th>0</th>\n",
       "      <td>08/04/2021</td>\n",
       "      <td>08/04/2021</td>\n",
       "      <td>Proposição Aprovada</td>\n",
       "      <td>Limpeza, Macadamização, Patrolamento, Retifica...</td>\n",
       "      <td>VereadorFlávio Augusto Ferri Molinari.</td>\n",
       "      <td>500</td>\n",
       "      <td>2021</td>\n",
       "      <td>O vereador que está subscreve, no uso das atri...</td>\n",
       "    </tr>\n",
       "    <tr>\n",
       "      <th>1</th>\n",
       "      <td>08/04/2021</td>\n",
       "      <td>08/04/2021</td>\n",
       "      <td>Proposição Aprovada</td>\n",
       "      <td>Pontes, Bueiros, boca de lobo</td>\n",
       "      <td>VereadorFlávio Augusto Ferri Molinari.</td>\n",
       "      <td>501</td>\n",
       "      <td>2021</td>\n",
       "      <td>O vereador que está subscreve, no uso das atri...</td>\n",
       "    </tr>\n",
       "    <tr>\n",
       "      <th>2</th>\n",
       "      <td>08/04/2021</td>\n",
       "      <td>08/04/2021</td>\n",
       "      <td>Proposição Aprovada</td>\n",
       "      <td>Manutenção de via pública</td>\n",
       "      <td>VereadorFernanda dos Santos Cattoni.</td>\n",
       "      <td>502</td>\n",
       "      <td>2021</td>\n",
       "      <td>A vereadora que esta subscreve, no uso das atr...</td>\n",
       "    </tr>\n",
       "  </tbody>\n",
       "</table>\n",
       "</div>"
      ],
      "text/plain": [
       "      Reunião Deliberação             Situação  \\\n",
       "0  08/04/2021  08/04/2021  Proposição Aprovada   \n",
       "1  08/04/2021  08/04/2021  Proposição Aprovada   \n",
       "2  08/04/2021  08/04/2021  Proposição Aprovada   \n",
       "\n",
       "                                             Assunto  \\\n",
       "0  Limpeza, Macadamização, Patrolamento, Retifica...   \n",
       "1                      Pontes, Bueiros, boca de lobo   \n",
       "2                          Manutenção de via pública   \n",
       "\n",
       "                                    Autor  Proposição   Ano  \\\n",
       "0  VereadorFlávio Augusto Ferri Molinari.         500  2021   \n",
       "1  VereadorFlávio Augusto Ferri Molinari.         501  2021   \n",
       "2    VereadorFernanda dos Santos Cattoni.         502  2021   \n",
       "\n",
       "                                               Texto  \n",
       "0  O vereador que está subscreve, no uso das atri...  \n",
       "1  O vereador que está subscreve, no uso das atri...  \n",
       "2  A vereadora que esta subscreve, no uso das atr...  "
      ]
     },
     "execution_count": 8,
     "metadata": {},
     "output_type": "execute_result"
    }
   ],
   "source": [
    "teste = TabelaResultados(500,3,2021,2,0.2)\n",
    "teste"
   ]
  },
  {
   "cell_type": "markdown",
   "metadata": {},
   "source": [
    "> Lembrem bem dessa coluna ``Deliberação``, vamos voltar a falar dela em instantes"
   ]
  },
  {
   "cell_type": "markdown",
   "metadata": {},
   "source": [
    "# <font color=green> 2. CRIANDO O BANCO DE DADOS E TABELAS"
   ]
  },
  {
   "cell_type": "markdown",
   "metadata": {},
   "source": [
    "> Primeiramente você precisa instalar o ``SQL Server`` e o ``Management Studio``, cujos links para as aulas nesta playlist, e na aula 1.\n",
    ">\n",
    "> Mas para facilitar sua vida, coloco aqui mais uma vez: "
   ]
  },
  {
   "cell_type": "code",
   "execution_count": 9,
   "metadata": {},
   "outputs": [
    {
     "data": {
      "text/html": [
       "\n",
       "    <center>\n",
       "        <iframe \n",
       "            width=\"720\" \n",
       "            height=\"405\" \n",
       "            src=\"https://www.youtube.com/embed/NthkdjtEKvc\" \n",
       "            frameborder=\"0\" \n",
       "            allowfullscreen>\n",
       "        </iframe>\n",
       "    </center>\n"
      ],
      "text/plain": [
       "<IPython.core.display.HTML object>"
      ]
     },
     "execution_count": 9,
     "metadata": {},
     "output_type": "execute_result"
    }
   ],
   "source": [
    "# importando biblioteca\n",
    "from IPython.display import HTML\n",
    "\n",
    "# mostrando em tela\n",
    "HTML('''\n",
    "    <center>\n",
    "        <iframe \n",
    "            width=\"720\" \n",
    "            height=\"405\" \n",
    "            src=\"https://www.youtube.com/embed/NthkdjtEKvc\" \n",
    "            frameborder=\"0\" \n",
    "            allowfullscreen>\n",
    "        </iframe>\n",
    "    </center>\n",
    "''')"
   ]
  },
  {
   "cell_type": "code",
   "execution_count": 10,
   "metadata": {},
   "outputs": [
    {
     "data": {
      "image/jpeg": "[encoded data removed]",
      "text/html": [
       "\n",
       "        <iframe\n",
       "            width=\"720\"\n",
       "            height=\"405\"\n",
       "            src=\"https://www.youtube.com/embed/LztOz686m5o\"\n",
       "            frameborder=\"0\"\n",
       "            allowfullscreen\n",
       "        ></iframe>\n",
       "        "
      ],
      "text/plain": [
       "<IPython.lib.display.YouTubeVideo at 0x130ee57ceb8>"
      ]
     },
     "execution_count": 10,
     "metadata": {},
     "output_type": "execute_result"
    }
   ],
   "source": [
    "from IPython.display import YouTubeVideo\n",
    "YouTubeVideo('LztOz686m5o', width=720, height=405)"
   ]
  },
  {
   "cell_type": "markdown",
   "metadata": {},
   "source": [
    "> Caso queira treinar banco de dados, sugerimos fazer isso com dois bancos de dados disponibilizados pela Microsoft, disponíveis a seguir [nesse link](https://github.com/microsoft/sql-server-samples/tree/master/samples/databases)"
   ]
  },
  {
   "cell_type": "markdown",
   "metadata": {},
   "source": [
    "> Eu não poderia deixar de comentar, que alunos da **FORMAÇÃO POWER QUERY 2.0** tem um módulo, de 20 horas (em 2021) só aprendendo a usar o SQL Server como **ANALISTA DE NEGÓCIO** e criando diversas soluções."
   ]
  },
  {
   "cell_type": "markdown",
   "metadata": {},
   "source": [
    "<center><img width=\"40%\" src=\"img/sql.png\"></center>"
   ]
  },
  {
   "cell_type": "markdown",
   "metadata": {},
   "source": [
    "### 2.1 Criando Banco de Dados"
   ]
  },
  {
   "cell_type": "markdown",
   "metadata": {},
   "source": [
    "> Você vai entrar no ``SSMS`` e vai conectar no servidor localhost"
   ]
  },
  {
   "cell_type": "markdown",
   "metadata": {},
   "source": [
    "<center><img width=\"50%\" src=\"img/ssms.png\"></center>"
   ]
  },
  {
   "cell_type": "markdown",
   "metadata": {},
   "source": [
    "> Se você seguiu meu passo a passo, pode selecionar a ``autenticação do Windows`` ou pode usar o usuário configurado na instalação do SQL SERVER (deve ter sido ``sa``) e a senha personalizada. \n",
    ">\n",
    "> Ou, se você tem um servidor (não local) que está guardando os arquivos, use as credenciais de conexão padrão dele."
   ]
  },
  {
   "cell_type": "markdown",
   "metadata": {},
   "source": [
    "> Feito isso você vai clicar com botão direito sobre o Banco de Dados e criar ``Novo Banco de Dados``"
   ]
  },
  {
   "cell_type": "markdown",
   "metadata": {},
   "source": [
    "<center><img width=\"50%\" src=\"img/novo_banco.png\"></center>"
   ]
  },
  {
   "cell_type": "markdown",
   "metadata": {},
   "source": [
    "> Digite o nome que você vai dar ao banco, e clique em OK."
   ]
  },
  {
   "cell_type": "markdown",
   "metadata": {},
   "source": [
    "<center><img width=\"70%\" src=\"img/novo_banco2.png\"></center>"
   ]
  },
  {
   "cell_type": "markdown",
   "metadata": {},
   "source": [
    "> Uma vez criado, você pode navegar pela árvore e visualizá-lo"
   ]
  },
  {
   "cell_type": "markdown",
   "metadata": {},
   "source": [
    "<center><img width=\"50%\" src=\"img/novo_banco3.png\"></center>"
   ]
  },
  {
   "cell_type": "markdown",
   "metadata": {},
   "source": [
    "### 2.2 Criando Tabelas"
   ]
  },
  {
   "cell_type": "markdown",
   "metadata": {},
   "source": [
    "> Clicamos com o botão direito do mouse sobre o banco, e em seguida, clicamos em ``Nova Consulta``"
   ]
  },
  {
   "cell_type": "markdown",
   "metadata": {},
   "source": [
    "<center><img width=\"50%\" src=\"img/nova_consulta.png\"></center>"
   ]
  },
  {
   "cell_type": "markdown",
   "metadata": {},
   "source": [
    "> Essa tela branca que abriu é o local aonde escrevemos os scripts SQL.\n",
    ">\n",
    "> Através de um script SQL vamos criar a nossa tabela."
   ]
  },
  {
   "cell_type": "markdown",
   "metadata": {},
   "source": [
    "> Uma tabela SQL é sempre mais rápida que uma tabela EXCEL (por exemplo) pois quando a criamos, dizemos que determinada coluna vai receber **EXCLUSIVAMENTE** determinado tipo de dado.\n",
    ">\n",
    "> Então, nosso primeiro passo é identificar o nome das colunas e tipos de dados, para ai sim, podermos criar o script SQL."
   ]
  },
  {
   "cell_type": "code",
   "execution_count": 11,
   "metadata": {},
   "outputs": [
    {
     "data": {
      "text/plain": [
       "['Reunião',\n",
       " 'Deliberação',\n",
       " 'Situação',\n",
       " 'Assunto',\n",
       " 'Autor',\n",
       " 'Proposição',\n",
       " 'Ano',\n",
       " 'Texto']"
      ]
     },
     "execution_count": 11,
     "metadata": {},
     "output_type": "execute_result"
    }
   ],
   "source": [
    "# Lista com nome de colunas\n",
    "list(teste.columns)"
   ]
  },
  {
   "cell_type": "code",
   "execution_count": 12,
   "metadata": {},
   "outputs": [
    {
     "data": {
      "text/plain": [
       "Reunião        object\n",
       "Deliberação    object\n",
       "Situação       object\n",
       "Assunto        object\n",
       "Autor          object\n",
       "Proposição      int64\n",
       "Ano             int64\n",
       "Texto          object\n",
       "dtype: object"
      ]
     },
     "execution_count": 12,
     "metadata": {},
     "output_type": "execute_result"
    }
   ],
   "source": [
    "# Lista com tipos de dados\n",
    "teste.dtypes"
   ]
  },
  {
   "cell_type": "markdown",
   "metadata": {},
   "source": [
    "> <font color='#DC143C'> **ATENÇÃO**\n",
    ">> As colunas de data foram reconhecidas como texto no dataframe, mas ao inserir no banco, vamos fazer em formato data"
   ]
  },
  {
   "cell_type": "markdown",
   "metadata": {},
   "source": [
    "> Com isso você poderá montar seu script, seguindo esse padrão:\n",
    "\n",
    "```sql\n",
    "CREATE TABLE Proposicoes (\n",
    "\n",
    "\tDataReuniao DATE,\n",
    "\tDataDeliberacao DATE,\n",
    "\tSituacao VARCHAR(200),\n",
    "\tAssunto VARCHAR(1000),\n",
    "\tAutor VARCHAR(1000),\n",
    "\tProposicao INT,\n",
    "\tAno INT,\n",
    "\tTexto VARCHAR(MAX)\n",
    "\n",
    ")\n",
    "```\n",
    ">\n",
    "> [Acesse aqui](https://docs.microsoft.com/pt-br/sql/t-sql/data-types/data-types-transact-sql?view=sql-server-ver15) e conheça a lista dos tipos de dados possíveis, disposta na documentação oficial do SQL Server."
   ]
  },
  {
   "cell_type": "markdown",
   "metadata": {},
   "source": [
    "> Uma vez criada a tabela, necessitamos ver se ela foi criada.\n",
    ">\n",
    "> Podemos (e vamos) ver isso no SSMS e também aqui no Python"
   ]
  },
  {
   "cell_type": "markdown",
   "metadata": {},
   "source": [
    "### 2.3 Alimentando Tabelas"
   ]
  },
  {
   "cell_type": "code",
   "execution_count": 13,
   "metadata": {},
   "outputs": [],
   "source": [
    "# Biblioteca que conecta o Python ao SQL\n",
    "import pyodbc"
   ]
  },
  {
   "cell_type": "code",
   "execution_count": 14,
   "metadata": {},
   "outputs": [
    {
     "data": {
      "text/plain": [
       "'4.0.30'"
      ]
     },
     "execution_count": 14,
     "metadata": {},
     "output_type": "execute_result"
    }
   ],
   "source": [
    "pyodbc.version\n",
    "# pip install pyodbc==4.0.30"
   ]
  },
  {
   "cell_type": "code",
   "execution_count": 15,
   "metadata": {},
   "outputs": [
    {
     "data": {
      "text/html": [
       "<div>\n",
       "<style scoped>\n",
       "    .dataframe tbody tr th:only-of-type {\n",
       "        vertical-align: middle;\n",
       "    }\n",
       "\n",
       "    .dataframe tbody tr th {\n",
       "        vertical-align: top;\n",
       "    }\n",
       "\n",
       "    .dataframe thead th {\n",
       "        text-align: right;\n",
       "    }\n",
       "</style>\n",
       "<table border=\"1\" class=\"dataframe\">\n",
       "  <thead>\n",
       "    <tr style=\"text-align: right;\">\n",
       "      <th></th>\n",
       "      <th>DataReuniao</th>\n",
       "      <th>DataDeliberacao</th>\n",
       "      <th>Situacao</th>\n",
       "      <th>Assunto</th>\n",
       "      <th>Autor</th>\n",
       "      <th>Proposicao</th>\n",
       "      <th>Ano</th>\n",
       "      <th>Texto</th>\n",
       "    </tr>\n",
       "  </thead>\n",
       "  <tbody>\n",
       "    <tr>\n",
       "      <th>0</th>\n",
       "      <td>1996-02-22</td>\n",
       "      <td>1996-02-22</td>\n",
       "      <td>Proposição Aprovada</td>\n",
       "      <td>Serviços e Obras</td>\n",
       "      <td>VereadorHenrique Fritz.</td>\n",
       "      <td>1</td>\n",
       "      <td>1996</td>\n",
       "      <td>construção de Escola de 1º grau no Bairro Nova...</td>\n",
       "    </tr>\n",
       "    <tr>\n",
       "      <th>1</th>\n",
       "      <td>1996-02-22</td>\n",
       "      <td>1996-02-22</td>\n",
       "      <td>Proposição Aprovada</td>\n",
       "      <td>Serviços e Obras</td>\n",
       "      <td>VereadorHenrique Fritz.</td>\n",
       "      <td>2</td>\n",
       "      <td>1996</td>\n",
       "      <td>construção de Escola nas imediações dos Loteam...</td>\n",
       "    </tr>\n",
       "    <tr>\n",
       "      <th>2</th>\n",
       "      <td>1996-02-22</td>\n",
       "      <td>1996-02-22</td>\n",
       "      <td>Proposição Aprovada</td>\n",
       "      <td>Limpeza, Macadamização, Patrolamento, Retifica...</td>\n",
       "      <td>VereadorHenrique Fritz.</td>\n",
       "      <td>3</td>\n",
       "      <td>1996</td>\n",
       "      <td>alargamento da Rua ID 90                      ...</td>\n",
       "    </tr>\n",
       "    <tr>\n",
       "      <th>3</th>\n",
       "      <td>1996-02-22</td>\n",
       "      <td>1996-02-22</td>\n",
       "      <td>Proposição Aprovada</td>\n",
       "      <td>Rede de Água / Esgoto / Pluvial</td>\n",
       "      <td>VereadorHenrique Fritz.</td>\n",
       "      <td>4</td>\n",
       "      <td>1996</td>\n",
       "      <td>prolongamento da rede d'água na Rua Reinhold S...</td>\n",
       "    </tr>\n",
       "    <tr>\n",
       "      <th>4</th>\n",
       "      <td>1996-02-22</td>\n",
       "      <td>1996-02-22</td>\n",
       "      <td>Proposição Aprovada</td>\n",
       "      <td>Rede de Água / Esgoto / Pluvial</td>\n",
       "      <td>VereadorHenrique Fritz.</td>\n",
       "      <td>5</td>\n",
       "      <td>1996</td>\n",
       "      <td>Prolongamento de rede d'água na Rua Lorenz até...</td>\n",
       "    </tr>\n",
       "    <tr>\n",
       "      <th>...</th>\n",
       "      <td>...</td>\n",
       "      <td>...</td>\n",
       "      <td>...</td>\n",
       "      <td>...</td>\n",
       "      <td>...</td>\n",
       "      <td>...</td>\n",
       "      <td>...</td>\n",
       "      <td>...</td>\n",
       "    </tr>\n",
       "    <tr>\n",
       "      <th>362</th>\n",
       "      <td>1997-04-17</td>\n",
       "      <td>1997-04-17</td>\n",
       "      <td>Proposição Aprovada</td>\n",
       "      <td>Limpeza, Macadamização, Patrolamento, Retifica...</td>\n",
       "      <td>VereadorMárcio Antônio Ferrari.</td>\n",
       "      <td>339</td>\n",
       "      <td>1997</td>\n",
       "      <td>Limpeza nas laterais da rua Paraíba, bairro do...</td>\n",
       "    </tr>\n",
       "    <tr>\n",
       "      <th>363</th>\n",
       "      <td>1997-04-17</td>\n",
       "      <td>1997-04-17</td>\n",
       "      <td>Proposição Aprovada</td>\n",
       "      <td>Limpeza, Macadamização, Patrolamento, Retifica...</td>\n",
       "      <td>VereadorMárcio Antônio Ferrari.</td>\n",
       "      <td>340</td>\n",
       "      <td>1997</td>\n",
       "      <td>Limpeza nas laterais da rua Acre, bairro dos E...</td>\n",
       "    </tr>\n",
       "    <tr>\n",
       "      <th>364</th>\n",
       "      <td>1997-04-17</td>\n",
       "      <td>1997-04-17</td>\n",
       "      <td>Proposição Aprovada</td>\n",
       "      <td>Limpeza, Macadamização, Patrolamento, Retifica...</td>\n",
       "      <td>VereadorMárcio Antônio Ferrari.</td>\n",
       "      <td>341</td>\n",
       "      <td>1997</td>\n",
       "      <td>Limpeza nas laterais da rua Ceará, bairro dos ...</td>\n",
       "    </tr>\n",
       "    <tr>\n",
       "      <th>365</th>\n",
       "      <td>1997-04-17</td>\n",
       "      <td>1997-04-17</td>\n",
       "      <td>Proposição Retirada</td>\n",
       "      <td>Limpeza, Macadamização, Patrolamento, Retifica...</td>\n",
       "      <td>VereadorMárcio Antônio Ferrari.</td>\n",
       "      <td>342</td>\n",
       "      <td>1997</td>\n",
       "      <td>Limpeza e macadamização dos acostamentos da ru...</td>\n",
       "    </tr>\n",
       "    <tr>\n",
       "      <th>366</th>\n",
       "      <td>1997-04-17</td>\n",
       "      <td>1997-04-17</td>\n",
       "      <td>Proposição Aprovada</td>\n",
       "      <td>Limpeza, Macadamização, Patrolamento, Retifica...</td>\n",
       "      <td>VereadorMárcio Antônio Ferrari.</td>\n",
       "      <td>343</td>\n",
       "      <td>1997</td>\n",
       "      <td>Limpeza do terreno perto do Colégio Adventista...</td>\n",
       "    </tr>\n",
       "  </tbody>\n",
       "</table>\n",
       "<p>367 rows × 8 columns</p>\n",
       "</div>"
      ],
      "text/plain": [
       "    DataReuniao DataDeliberacao             Situacao  \\\n",
       "0    1996-02-22      1996-02-22  Proposição Aprovada   \n",
       "1    1996-02-22      1996-02-22  Proposição Aprovada   \n",
       "2    1996-02-22      1996-02-22  Proposição Aprovada   \n",
       "3    1996-02-22      1996-02-22  Proposição Aprovada   \n",
       "4    1996-02-22      1996-02-22  Proposição Aprovada   \n",
       "..          ...             ...                  ...   \n",
       "362  1997-04-17      1997-04-17  Proposição Aprovada   \n",
       "363  1997-04-17      1997-04-17  Proposição Aprovada   \n",
       "364  1997-04-17      1997-04-17  Proposição Aprovada   \n",
       "365  1997-04-17      1997-04-17  Proposição Retirada   \n",
       "366  1997-04-17      1997-04-17  Proposição Aprovada   \n",
       "\n",
       "                                               Assunto  \\\n",
       "0                                     Serviços e Obras   \n",
       "1                                     Serviços e Obras   \n",
       "2    Limpeza, Macadamização, Patrolamento, Retifica...   \n",
       "3                      Rede de Água / Esgoto / Pluvial   \n",
       "4                      Rede de Água / Esgoto / Pluvial   \n",
       "..                                                 ...   \n",
       "362  Limpeza, Macadamização, Patrolamento, Retifica...   \n",
       "363  Limpeza, Macadamização, Patrolamento, Retifica...   \n",
       "364  Limpeza, Macadamização, Patrolamento, Retifica...   \n",
       "365  Limpeza, Macadamização, Patrolamento, Retifica...   \n",
       "366  Limpeza, Macadamização, Patrolamento, Retifica...   \n",
       "\n",
       "                               Autor  Proposicao   Ano  \\\n",
       "0            VereadorHenrique Fritz.           1  1996   \n",
       "1            VereadorHenrique Fritz.           2  1996   \n",
       "2            VereadorHenrique Fritz.           3  1996   \n",
       "3            VereadorHenrique Fritz.           4  1996   \n",
       "4            VereadorHenrique Fritz.           5  1996   \n",
       "..                               ...         ...   ...   \n",
       "362  VereadorMárcio Antônio Ferrari.         339  1997   \n",
       "363  VereadorMárcio Antônio Ferrari.         340  1997   \n",
       "364  VereadorMárcio Antônio Ferrari.         341  1997   \n",
       "365  VereadorMárcio Antônio Ferrari.         342  1997   \n",
       "366  VereadorMárcio Antônio Ferrari.         343  1997   \n",
       "\n",
       "                                                 Texto  \n",
       "0    construção de Escola de 1º grau no Bairro Nova...  \n",
       "1    construção de Escola nas imediações dos Loteam...  \n",
       "2    alargamento da Rua ID 90                      ...  \n",
       "3    prolongamento da rede d'água na Rua Reinhold S...  \n",
       "4    Prolongamento de rede d'água na Rua Lorenz até...  \n",
       "..                                                 ...  \n",
       "362  Limpeza nas laterais da rua Paraíba, bairro do...  \n",
       "363  Limpeza nas laterais da rua Acre, bairro dos E...  \n",
       "364  Limpeza nas laterais da rua Ceará, bairro dos ...  \n",
       "365  Limpeza e macadamização dos acostamentos da ru...  \n",
       "366  Limpeza do terreno perto do Colégio Adventista...  \n",
       "\n",
       "[367 rows x 8 columns]"
      ]
     },
     "execution_count": 15,
     "metadata": {},
     "output_type": "execute_result"
    }
   ],
   "source": [
    "'''\n",
    "# Com senha\n",
    "conn = pyodbc.connect('Trusted_Connection=yes', \n",
    "                      driver = '{ODBC Driver 17 for SQL Server}',\n",
    "                      server = 'localhost', \n",
    "                      database = 'Indaial',\n",
    "                      UID='sa',\n",
    "                      PWD='SuaSenha')\n",
    "'''\n",
    "\n",
    "# Com autenticação do Windows\n",
    "conn = pyodbc.connect('Trusted_Connection=yes', \n",
    "                      driver = '{ODBC Driver 17 for SQL Server}',\n",
    "                      server = 'localhost', \n",
    "                      database = 'Indaial')\n",
    "\n",
    "query = '''\n",
    "    select \n",
    "        * \n",
    "    from Proposicoes\n",
    "'''\n",
    "sql_query = pd.read_sql_query(query,conn)\n",
    "sql_query"
   ]
  },
  {
   "cell_type": "markdown",
   "metadata": {},
   "source": [
    "> Pudemos ver que não há dados em nossa tabela."
   ]
  },
  {
   "cell_type": "markdown",
   "metadata": {},
   "source": [
    "> Agora, vamos inserir dados nesta tabela.\n",
    ">\n",
    "> Mas, e se uma consulta efetuada tiver menos colunas que o padrão? (403+ do ano 2021, por exemplo).\n",
    ">\n",
    "> Temos que nos precaver, criando uma ``TABELA EM BRANCO`` que vai ser usada para concatenar com a tabela a inserir, logo, se tiver algum campo faltante, o algoritmo não vai se perder"
   ]
  },
  {
   "cell_type": "code",
   "execution_count": 16,
   "metadata": {},
   "outputs": [
    {
     "data": {
      "text/html": [
       "<div>\n",
       "<style scoped>\n",
       "    .dataframe tbody tr th:only-of-type {\n",
       "        vertical-align: middle;\n",
       "    }\n",
       "\n",
       "    .dataframe tbody tr th {\n",
       "        vertical-align: top;\n",
       "    }\n",
       "\n",
       "    .dataframe thead th {\n",
       "        text-align: right;\n",
       "    }\n",
       "</style>\n",
       "<table border=\"1\" class=\"dataframe\">\n",
       "  <thead>\n",
       "    <tr style=\"text-align: right;\">\n",
       "      <th></th>\n",
       "      <th>Reunião</th>\n",
       "      <th>Deliberação</th>\n",
       "      <th>Situação</th>\n",
       "      <th>Assunto</th>\n",
       "      <th>Autor</th>\n",
       "      <th>Proposição</th>\n",
       "      <th>Ano</th>\n",
       "      <th>Texto</th>\n",
       "    </tr>\n",
       "  </thead>\n",
       "  <tbody>\n",
       "  </tbody>\n",
       "</table>\n",
       "</div>"
      ],
      "text/plain": [
       "Empty DataFrame\n",
       "Columns: [Reunião, Deliberação, Situação, Assunto, Autor, Proposição, Ano, Texto]\n",
       "Index: []"
      ]
     },
     "execution_count": 16,
     "metadata": {},
     "output_type": "execute_result"
    }
   ],
   "source": [
    "# Criamos uma base\n",
    "base = pd.DataFrame(columns=['Reunião', 'Deliberação', 'Situação', 'Assunto', 'Autor', 'Proposição', 'Ano', 'Texto'])\n",
    "base"
   ]
  },
  {
   "cell_type": "code",
   "execution_count": 17,
   "metadata": {},
   "outputs": [
    {
     "data": {
      "text/html": [
       "<div>\n",
       "<style scoped>\n",
       "    .dataframe tbody tr th:only-of-type {\n",
       "        vertical-align: middle;\n",
       "    }\n",
       "\n",
       "    .dataframe tbody tr th {\n",
       "        vertical-align: top;\n",
       "    }\n",
       "\n",
       "    .dataframe thead th {\n",
       "        text-align: right;\n",
       "    }\n",
       "</style>\n",
       "<table border=\"1\" class=\"dataframe\">\n",
       "  <thead>\n",
       "    <tr style=\"text-align: right;\">\n",
       "      <th></th>\n",
       "      <th>Reunião</th>\n",
       "      <th>Deliberação</th>\n",
       "      <th>Situação</th>\n",
       "      <th>Assunto</th>\n",
       "      <th>Autor</th>\n",
       "      <th>Proposição</th>\n",
       "      <th>Ano</th>\n",
       "      <th>Texto</th>\n",
       "    </tr>\n",
       "  </thead>\n",
       "  <tbody>\n",
       "    <tr>\n",
       "      <th>0</th>\n",
       "      <td>08/04/2021</td>\n",
       "      <td>08/04/2021</td>\n",
       "      <td>Proposição Aprovada</td>\n",
       "      <td>Limpeza, Macadamização, Patrolamento, Retifica...</td>\n",
       "      <td>VereadorFlávio Augusto Ferri Molinari.</td>\n",
       "      <td>500</td>\n",
       "      <td>2021</td>\n",
       "      <td>O vereador que está subscreve, no uso das atri...</td>\n",
       "    </tr>\n",
       "    <tr>\n",
       "      <th>1</th>\n",
       "      <td>08/04/2021</td>\n",
       "      <td>08/04/2021</td>\n",
       "      <td>Proposição Aprovada</td>\n",
       "      <td>Pontes, Bueiros, boca de lobo</td>\n",
       "      <td>VereadorFlávio Augusto Ferri Molinari.</td>\n",
       "      <td>501</td>\n",
       "      <td>2021</td>\n",
       "      <td>O vereador que está subscreve, no uso das atri...</td>\n",
       "    </tr>\n",
       "    <tr>\n",
       "      <th>2</th>\n",
       "      <td>08/04/2021</td>\n",
       "      <td>08/04/2021</td>\n",
       "      <td>Proposição Aprovada</td>\n",
       "      <td>Manutenção de via pública</td>\n",
       "      <td>VereadorFernanda dos Santos Cattoni.</td>\n",
       "      <td>502</td>\n",
       "      <td>2021</td>\n",
       "      <td>A vereadora que esta subscreve, no uso das atr...</td>\n",
       "    </tr>\n",
       "  </tbody>\n",
       "</table>\n",
       "</div>"
      ],
      "text/plain": [
       "      Reunião Deliberação             Situação  \\\n",
       "0  08/04/2021  08/04/2021  Proposição Aprovada   \n",
       "1  08/04/2021  08/04/2021  Proposição Aprovada   \n",
       "2  08/04/2021  08/04/2021  Proposição Aprovada   \n",
       "\n",
       "                                             Assunto  \\\n",
       "0  Limpeza, Macadamização, Patrolamento, Retifica...   \n",
       "1                      Pontes, Bueiros, boca de lobo   \n",
       "2                          Manutenção de via pública   \n",
       "\n",
       "                                    Autor Proposição   Ano  \\\n",
       "0  VereadorFlávio Augusto Ferri Molinari.        500  2021   \n",
       "1  VereadorFlávio Augusto Ferri Molinari.        501  2021   \n",
       "2    VereadorFernanda dos Santos Cattoni.        502  2021   \n",
       "\n",
       "                                               Texto  \n",
       "0  O vereador que está subscreve, no uso das atri...  \n",
       "1  O vereador que está subscreve, no uso das atri...  \n",
       "2  A vereadora que esta subscreve, no uso das atr...  "
      ]
     },
     "execution_count": 17,
     "metadata": {},
     "output_type": "execute_result"
    }
   ],
   "source": [
    "# \"Combinamos\" as bases\n",
    "base = base.append(teste)\n",
    "base"
   ]
  },
  {
   "cell_type": "code",
   "execution_count": 18,
   "metadata": {},
   "outputs": [
    {
     "data": {
      "text/html": [
       "<div>\n",
       "<style scoped>\n",
       "    .dataframe tbody tr th:only-of-type {\n",
       "        vertical-align: middle;\n",
       "    }\n",
       "\n",
       "    .dataframe tbody tr th {\n",
       "        vertical-align: top;\n",
       "    }\n",
       "\n",
       "    .dataframe thead th {\n",
       "        text-align: right;\n",
       "    }\n",
       "</style>\n",
       "<table border=\"1\" class=\"dataframe\">\n",
       "  <thead>\n",
       "    <tr style=\"text-align: right;\">\n",
       "      <th></th>\n",
       "      <th>Reunião</th>\n",
       "      <th>Deliberação</th>\n",
       "      <th>Situação</th>\n",
       "      <th>Assunto</th>\n",
       "      <th>Autor</th>\n",
       "      <th>Proposição</th>\n",
       "      <th>Ano</th>\n",
       "      <th>Texto</th>\n",
       "    </tr>\n",
       "  </thead>\n",
       "  <tbody>\n",
       "    <tr>\n",
       "      <th>0</th>\n",
       "      <td>08/04/2021</td>\n",
       "      <td>08/04/2021</td>\n",
       "      <td>Proposição Aprovada</td>\n",
       "      <td>Limpeza, Macadamização, Patrolamento, Retifica...</td>\n",
       "      <td>VereadorFlávio Augusto Ferri Molinari.</td>\n",
       "      <td>500</td>\n",
       "      <td>2021</td>\n",
       "      <td>O vereador que está subscreve, no uso das atri...</td>\n",
       "    </tr>\n",
       "    <tr>\n",
       "      <th>1</th>\n",
       "      <td>08/04/2021</td>\n",
       "      <td>08/04/2021</td>\n",
       "      <td>Proposição Aprovada</td>\n",
       "      <td>Pontes, Bueiros, boca de lobo</td>\n",
       "      <td>VereadorFlávio Augusto Ferri Molinari.</td>\n",
       "      <td>501</td>\n",
       "      <td>2021</td>\n",
       "      <td>O vereador que está subscreve, no uso das atri...</td>\n",
       "    </tr>\n",
       "    <tr>\n",
       "      <th>2</th>\n",
       "      <td>08/04/2021</td>\n",
       "      <td>08/04/2021</td>\n",
       "      <td>Proposição Aprovada</td>\n",
       "      <td>Manutenção de via pública</td>\n",
       "      <td>VereadorFernanda dos Santos Cattoni.</td>\n",
       "      <td>502</td>\n",
       "      <td>2021</td>\n",
       "      <td>A vereadora que esta subscreve, no uso das atr...</td>\n",
       "    </tr>\n",
       "  </tbody>\n",
       "</table>\n",
       "</div>"
      ],
      "text/plain": [
       "      Reunião Deliberação             Situação  \\\n",
       "0  08/04/2021  08/04/2021  Proposição Aprovada   \n",
       "1  08/04/2021  08/04/2021  Proposição Aprovada   \n",
       "2  08/04/2021  08/04/2021  Proposição Aprovada   \n",
       "\n",
       "                                             Assunto  \\\n",
       "0  Limpeza, Macadamização, Patrolamento, Retifica...   \n",
       "1                      Pontes, Bueiros, boca de lobo   \n",
       "2                          Manutenção de via pública   \n",
       "\n",
       "                                    Autor  Proposição   Ano  \\\n",
       "0  VereadorFlávio Augusto Ferri Molinari.         500  2021   \n",
       "1  VereadorFlávio Augusto Ferri Molinari.         501  2021   \n",
       "2    VereadorFernanda dos Santos Cattoni.         502  2021   \n",
       "\n",
       "                                               Texto  \n",
       "0  O vereador que está subscreve, no uso das atri...  \n",
       "1  O vereador que está subscreve, no uso das atri...  \n",
       "2  A vereadora que esta subscreve, no uso das atr...  "
      ]
     },
     "execution_count": 18,
     "metadata": {},
     "output_type": "execute_result"
    }
   ],
   "source": [
    "base.fillna('')"
   ]
  },
  {
   "cell_type": "code",
   "execution_count": 19,
   "metadata": {},
   "outputs": [],
   "source": [
    "base = pd.DataFrame(columns=['Reunião', 'Deliberação', 'Situação', 'Assunto', 'Autor', 'Proposição', 'Ano', 'Texto'])\n",
    "teste = base.append(teste).fillna('')\n",
    "\n",
    "conn = pyodbc.connect('Trusted_Connection=yes', \n",
    "                      driver = '{ODBC Driver 17 for SQL Server}',\n",
    "                      server = 'localhost', \n",
    "                      database = 'Indaial')\n",
    "\n",
    "cursor = conn.cursor()\n",
    "\n",
    "for index, row in teste.iterrows():\n",
    "    \n",
    "    cursor.execute('''\n",
    "    \n",
    "        INSERT INTO Proposicoes (\n",
    "            DataReuniao,\n",
    "            DataDeliberacao,\n",
    "            Situacao,\n",
    "            Assunto,\n",
    "            Autor,\n",
    "            Proposicao,\n",
    "            Ano,\n",
    "            Texto\n",
    "        ) \n",
    "        values(?,?,?,?,?,?,?,?)''', # mesma quantidade de variáveis\n",
    "\n",
    "        row['Reunião'], \n",
    "        row['Deliberação'], \n",
    "        row['Situação'], \n",
    "        row['Assunto'], \n",
    "        row['Autor'], \n",
    "        row['Proposição'], \n",
    "        row['Ano'], \n",
    "        row['Texto']\n",
    "\n",
    "    )\n",
    "\n",
    "conn.commit()\n",
    "cursor.close()"
   ]
  },
  {
   "cell_type": "markdown",
   "metadata": {},
   "source": [
    "> E então..."
   ]
  },
  {
   "cell_type": "code",
   "execution_count": 20,
   "metadata": {
    "scrolled": true
   },
   "outputs": [
    {
     "data": {
      "text/html": [
       "<div>\n",
       "<style scoped>\n",
       "    .dataframe tbody tr th:only-of-type {\n",
       "        vertical-align: middle;\n",
       "    }\n",
       "\n",
       "    .dataframe tbody tr th {\n",
       "        vertical-align: top;\n",
       "    }\n",
       "\n",
       "    .dataframe thead th {\n",
       "        text-align: right;\n",
       "    }\n",
       "</style>\n",
       "<table border=\"1\" class=\"dataframe\">\n",
       "  <thead>\n",
       "    <tr style=\"text-align: right;\">\n",
       "      <th></th>\n",
       "      <th>DataReuniao</th>\n",
       "      <th>DataDeliberacao</th>\n",
       "      <th>Situacao</th>\n",
       "      <th>Assunto</th>\n",
       "      <th>Autor</th>\n",
       "      <th>Proposicao</th>\n",
       "      <th>Ano</th>\n",
       "      <th>Texto</th>\n",
       "    </tr>\n",
       "  </thead>\n",
       "  <tbody>\n",
       "    <tr>\n",
       "      <th>0</th>\n",
       "      <td>1996-02-22</td>\n",
       "      <td>1996-02-22</td>\n",
       "      <td>Proposição Aprovada</td>\n",
       "      <td>Serviços e Obras</td>\n",
       "      <td>VereadorHenrique Fritz.</td>\n",
       "      <td>1</td>\n",
       "      <td>1996</td>\n",
       "      <td>construção de Escola de 1º grau no Bairro Nova...</td>\n",
       "    </tr>\n",
       "    <tr>\n",
       "      <th>1</th>\n",
       "      <td>1996-02-22</td>\n",
       "      <td>1996-02-22</td>\n",
       "      <td>Proposição Aprovada</td>\n",
       "      <td>Serviços e Obras</td>\n",
       "      <td>VereadorHenrique Fritz.</td>\n",
       "      <td>2</td>\n",
       "      <td>1996</td>\n",
       "      <td>construção de Escola nas imediações dos Loteam...</td>\n",
       "    </tr>\n",
       "    <tr>\n",
       "      <th>2</th>\n",
       "      <td>1996-02-22</td>\n",
       "      <td>1996-02-22</td>\n",
       "      <td>Proposição Aprovada</td>\n",
       "      <td>Limpeza, Macadamização, Patrolamento, Retifica...</td>\n",
       "      <td>VereadorHenrique Fritz.</td>\n",
       "      <td>3</td>\n",
       "      <td>1996</td>\n",
       "      <td>alargamento da Rua ID 90                      ...</td>\n",
       "    </tr>\n",
       "    <tr>\n",
       "      <th>3</th>\n",
       "      <td>1996-02-22</td>\n",
       "      <td>1996-02-22</td>\n",
       "      <td>Proposição Aprovada</td>\n",
       "      <td>Rede de Água / Esgoto / Pluvial</td>\n",
       "      <td>VereadorHenrique Fritz.</td>\n",
       "      <td>4</td>\n",
       "      <td>1996</td>\n",
       "      <td>prolongamento da rede d'água na Rua Reinhold S...</td>\n",
       "    </tr>\n",
       "    <tr>\n",
       "      <th>4</th>\n",
       "      <td>1996-02-22</td>\n",
       "      <td>1996-02-22</td>\n",
       "      <td>Proposição Aprovada</td>\n",
       "      <td>Rede de Água / Esgoto / Pluvial</td>\n",
       "      <td>VereadorHenrique Fritz.</td>\n",
       "      <td>5</td>\n",
       "      <td>1996</td>\n",
       "      <td>Prolongamento de rede d'água na Rua Lorenz até...</td>\n",
       "    </tr>\n",
       "    <tr>\n",
       "      <th>...</th>\n",
       "      <td>...</td>\n",
       "      <td>...</td>\n",
       "      <td>...</td>\n",
       "      <td>...</td>\n",
       "      <td>...</td>\n",
       "      <td>...</td>\n",
       "      <td>...</td>\n",
       "      <td>...</td>\n",
       "    </tr>\n",
       "    <tr>\n",
       "      <th>365</th>\n",
       "      <td>1997-04-17</td>\n",
       "      <td>1997-04-17</td>\n",
       "      <td>Proposição Retirada</td>\n",
       "      <td>Limpeza, Macadamização, Patrolamento, Retifica...</td>\n",
       "      <td>VereadorMárcio Antônio Ferrari.</td>\n",
       "      <td>342</td>\n",
       "      <td>1997</td>\n",
       "      <td>Limpeza e macadamização dos acostamentos da ru...</td>\n",
       "    </tr>\n",
       "    <tr>\n",
       "      <th>366</th>\n",
       "      <td>1997-04-17</td>\n",
       "      <td>1997-04-17</td>\n",
       "      <td>Proposição Aprovada</td>\n",
       "      <td>Limpeza, Macadamização, Patrolamento, Retifica...</td>\n",
       "      <td>VereadorMárcio Antônio Ferrari.</td>\n",
       "      <td>343</td>\n",
       "      <td>1997</td>\n",
       "      <td>Limpeza do terreno perto do Colégio Adventista...</td>\n",
       "    </tr>\n",
       "    <tr>\n",
       "      <th>367</th>\n",
       "      <td>2021-04-08</td>\n",
       "      <td>2021-04-08</td>\n",
       "      <td>Proposição Aprovada</td>\n",
       "      <td>Limpeza, Macadamização, Patrolamento, Retifica...</td>\n",
       "      <td>VereadorFlávio Augusto Ferri Molinari.</td>\n",
       "      <td>500</td>\n",
       "      <td>2021</td>\n",
       "      <td>O vereador que está subscreve, no uso das atri...</td>\n",
       "    </tr>\n",
       "    <tr>\n",
       "      <th>368</th>\n",
       "      <td>2021-04-08</td>\n",
       "      <td>2021-04-08</td>\n",
       "      <td>Proposição Aprovada</td>\n",
       "      <td>Pontes, Bueiros, boca de lobo</td>\n",
       "      <td>VereadorFlávio Augusto Ferri Molinari.</td>\n",
       "      <td>501</td>\n",
       "      <td>2021</td>\n",
       "      <td>O vereador que está subscreve, no uso das atri...</td>\n",
       "    </tr>\n",
       "    <tr>\n",
       "      <th>369</th>\n",
       "      <td>2021-04-08</td>\n",
       "      <td>2021-04-08</td>\n",
       "      <td>Proposição Aprovada</td>\n",
       "      <td>Manutenção de via pública</td>\n",
       "      <td>VereadorFernanda dos Santos Cattoni.</td>\n",
       "      <td>502</td>\n",
       "      <td>2021</td>\n",
       "      <td>A vereadora que esta subscreve, no uso das atr...</td>\n",
       "    </tr>\n",
       "  </tbody>\n",
       "</table>\n",
       "<p>370 rows × 8 columns</p>\n",
       "</div>"
      ],
      "text/plain": [
       "    DataReuniao DataDeliberacao             Situacao  \\\n",
       "0    1996-02-22      1996-02-22  Proposição Aprovada   \n",
       "1    1996-02-22      1996-02-22  Proposição Aprovada   \n",
       "2    1996-02-22      1996-02-22  Proposição Aprovada   \n",
       "3    1996-02-22      1996-02-22  Proposição Aprovada   \n",
       "4    1996-02-22      1996-02-22  Proposição Aprovada   \n",
       "..          ...             ...                  ...   \n",
       "365  1997-04-17      1997-04-17  Proposição Retirada   \n",
       "366  1997-04-17      1997-04-17  Proposição Aprovada   \n",
       "367  2021-04-08      2021-04-08  Proposição Aprovada   \n",
       "368  2021-04-08      2021-04-08  Proposição Aprovada   \n",
       "369  2021-04-08      2021-04-08  Proposição Aprovada   \n",
       "\n",
       "                                               Assunto  \\\n",
       "0                                     Serviços e Obras   \n",
       "1                                     Serviços e Obras   \n",
       "2    Limpeza, Macadamização, Patrolamento, Retifica...   \n",
       "3                      Rede de Água / Esgoto / Pluvial   \n",
       "4                      Rede de Água / Esgoto / Pluvial   \n",
       "..                                                 ...   \n",
       "365  Limpeza, Macadamização, Patrolamento, Retifica...   \n",
       "366  Limpeza, Macadamização, Patrolamento, Retifica...   \n",
       "367  Limpeza, Macadamização, Patrolamento, Retifica...   \n",
       "368                      Pontes, Bueiros, boca de lobo   \n",
       "369                          Manutenção de via pública   \n",
       "\n",
       "                                      Autor  Proposicao   Ano  \\\n",
       "0                   VereadorHenrique Fritz.           1  1996   \n",
       "1                   VereadorHenrique Fritz.           2  1996   \n",
       "2                   VereadorHenrique Fritz.           3  1996   \n",
       "3                   VereadorHenrique Fritz.           4  1996   \n",
       "4                   VereadorHenrique Fritz.           5  1996   \n",
       "..                                      ...         ...   ...   \n",
       "365         VereadorMárcio Antônio Ferrari.         342  1997   \n",
       "366         VereadorMárcio Antônio Ferrari.         343  1997   \n",
       "367  VereadorFlávio Augusto Ferri Molinari.         500  2021   \n",
       "368  VereadorFlávio Augusto Ferri Molinari.         501  2021   \n",
       "369    VereadorFernanda dos Santos Cattoni.         502  2021   \n",
       "\n",
       "                                                 Texto  \n",
       "0    construção de Escola de 1º grau no Bairro Nova...  \n",
       "1    construção de Escola nas imediações dos Loteam...  \n",
       "2    alargamento da Rua ID 90                      ...  \n",
       "3    prolongamento da rede d'água na Rua Reinhold S...  \n",
       "4    Prolongamento de rede d'água na Rua Lorenz até...  \n",
       "..                                                 ...  \n",
       "365  Limpeza e macadamização dos acostamentos da ru...  \n",
       "366  Limpeza do terreno perto do Colégio Adventista...  \n",
       "367  O vereador que está subscreve, no uso das atri...  \n",
       "368  O vereador que está subscreve, no uso das atri...  \n",
       "369  A vereadora que esta subscreve, no uso das atr...  \n",
       "\n",
       "[370 rows x 8 columns]"
      ]
     },
     "execution_count": 20,
     "metadata": {},
     "output_type": "execute_result"
    }
   ],
   "source": [
    "conn = pyodbc.connect('Trusted_Connection=yes', \n",
    "                      driver = '{ODBC Driver 17 for SQL Server}',\n",
    "                      server = 'localhost', \n",
    "                      database = 'Indaial')\n",
    "\n",
    "query = '''\n",
    "    select \n",
    "        * \n",
    "    from Proposicoes\n",
    "'''\n",
    "sql_query = pd.read_sql_query(query,conn)\n",
    "sql_query"
   ]
  },
  {
   "cell_type": "markdown",
   "metadata": {},
   "source": [
    "> Como já falei que funções agilizam nossa vida, vamos criar uma para fazer seleção de dados"
   ]
  },
  {
   "cell_type": "code",
   "execution_count": 21,
   "metadata": {},
   "outputs": [],
   "source": [
    "def SQLSelect(query):\n",
    "    \n",
    "    conn = pyodbc.connect('Trusted_Connection=yes', \n",
    "                          driver = '{ODBC Driver 17 for SQL Server}',\n",
    "                          server = 'localhost', \n",
    "                          database = 'Indaial')\n",
    "\n",
    "    out = pd.read_sql_query(query,conn)\n",
    "    return out"
   ]
  },
  {
   "cell_type": "markdown",
   "metadata": {},
   "source": [
    "> E olha como (denovo) fica mais fácil"
   ]
  },
  {
   "cell_type": "code",
   "execution_count": 22,
   "metadata": {},
   "outputs": [
    {
     "data": {
      "text/html": [
       "<div>\n",
       "<style scoped>\n",
       "    .dataframe tbody tr th:only-of-type {\n",
       "        vertical-align: middle;\n",
       "    }\n",
       "\n",
       "    .dataframe tbody tr th {\n",
       "        vertical-align: top;\n",
       "    }\n",
       "\n",
       "    .dataframe thead th {\n",
       "        text-align: right;\n",
       "    }\n",
       "</style>\n",
       "<table border=\"1\" class=\"dataframe\">\n",
       "  <thead>\n",
       "    <tr style=\"text-align: right;\">\n",
       "      <th></th>\n",
       "      <th>DataReuniao</th>\n",
       "      <th>DataDeliberacao</th>\n",
       "      <th>Situacao</th>\n",
       "      <th>Assunto</th>\n",
       "      <th>Autor</th>\n",
       "      <th>Proposicao</th>\n",
       "      <th>Ano</th>\n",
       "      <th>Texto</th>\n",
       "    </tr>\n",
       "  </thead>\n",
       "  <tbody>\n",
       "    <tr>\n",
       "      <th>0</th>\n",
       "      <td>1996-02-22</td>\n",
       "      <td>1996-02-22</td>\n",
       "      <td>Proposição Aprovada</td>\n",
       "      <td>Serviços e Obras</td>\n",
       "      <td>VereadorHenrique Fritz.</td>\n",
       "      <td>1</td>\n",
       "      <td>1996</td>\n",
       "      <td>construção de Escola de 1º grau no Bairro Nova...</td>\n",
       "    </tr>\n",
       "    <tr>\n",
       "      <th>1</th>\n",
       "      <td>1996-02-22</td>\n",
       "      <td>1996-02-22</td>\n",
       "      <td>Proposição Aprovada</td>\n",
       "      <td>Serviços e Obras</td>\n",
       "      <td>VereadorHenrique Fritz.</td>\n",
       "      <td>2</td>\n",
       "      <td>1996</td>\n",
       "      <td>construção de Escola nas imediações dos Loteam...</td>\n",
       "    </tr>\n",
       "    <tr>\n",
       "      <th>2</th>\n",
       "      <td>1996-02-22</td>\n",
       "      <td>1996-02-22</td>\n",
       "      <td>Proposição Aprovada</td>\n",
       "      <td>Limpeza, Macadamização, Patrolamento, Retifica...</td>\n",
       "      <td>VereadorHenrique Fritz.</td>\n",
       "      <td>3</td>\n",
       "      <td>1996</td>\n",
       "      <td>alargamento da Rua ID 90                      ...</td>\n",
       "    </tr>\n",
       "    <tr>\n",
       "      <th>3</th>\n",
       "      <td>1996-02-22</td>\n",
       "      <td>1996-02-22</td>\n",
       "      <td>Proposição Aprovada</td>\n",
       "      <td>Rede de Água / Esgoto / Pluvial</td>\n",
       "      <td>VereadorHenrique Fritz.</td>\n",
       "      <td>4</td>\n",
       "      <td>1996</td>\n",
       "      <td>prolongamento da rede d'água na Rua Reinhold S...</td>\n",
       "    </tr>\n",
       "    <tr>\n",
       "      <th>4</th>\n",
       "      <td>1996-02-22</td>\n",
       "      <td>1996-02-22</td>\n",
       "      <td>Proposição Aprovada</td>\n",
       "      <td>Rede de Água / Esgoto / Pluvial</td>\n",
       "      <td>VereadorHenrique Fritz.</td>\n",
       "      <td>5</td>\n",
       "      <td>1996</td>\n",
       "      <td>Prolongamento de rede d'água na Rua Lorenz até...</td>\n",
       "    </tr>\n",
       "    <tr>\n",
       "      <th>...</th>\n",
       "      <td>...</td>\n",
       "      <td>...</td>\n",
       "      <td>...</td>\n",
       "      <td>...</td>\n",
       "      <td>...</td>\n",
       "      <td>...</td>\n",
       "      <td>...</td>\n",
       "      <td>...</td>\n",
       "    </tr>\n",
       "    <tr>\n",
       "      <th>365</th>\n",
       "      <td>1997-04-17</td>\n",
       "      <td>1997-04-17</td>\n",
       "      <td>Proposição Retirada</td>\n",
       "      <td>Limpeza, Macadamização, Patrolamento, Retifica...</td>\n",
       "      <td>VereadorMárcio Antônio Ferrari.</td>\n",
       "      <td>342</td>\n",
       "      <td>1997</td>\n",
       "      <td>Limpeza e macadamização dos acostamentos da ru...</td>\n",
       "    </tr>\n",
       "    <tr>\n",
       "      <th>366</th>\n",
       "      <td>1997-04-17</td>\n",
       "      <td>1997-04-17</td>\n",
       "      <td>Proposição Aprovada</td>\n",
       "      <td>Limpeza, Macadamização, Patrolamento, Retifica...</td>\n",
       "      <td>VereadorMárcio Antônio Ferrari.</td>\n",
       "      <td>343</td>\n",
       "      <td>1997</td>\n",
       "      <td>Limpeza do terreno perto do Colégio Adventista...</td>\n",
       "    </tr>\n",
       "    <tr>\n",
       "      <th>367</th>\n",
       "      <td>2021-04-08</td>\n",
       "      <td>2021-04-08</td>\n",
       "      <td>Proposição Aprovada</td>\n",
       "      <td>Limpeza, Macadamização, Patrolamento, Retifica...</td>\n",
       "      <td>VereadorFlávio Augusto Ferri Molinari.</td>\n",
       "      <td>500</td>\n",
       "      <td>2021</td>\n",
       "      <td>O vereador que está subscreve, no uso das atri...</td>\n",
       "    </tr>\n",
       "    <tr>\n",
       "      <th>368</th>\n",
       "      <td>2021-04-08</td>\n",
       "      <td>2021-04-08</td>\n",
       "      <td>Proposição Aprovada</td>\n",
       "      <td>Pontes, Bueiros, boca de lobo</td>\n",
       "      <td>VereadorFlávio Augusto Ferri Molinari.</td>\n",
       "      <td>501</td>\n",
       "      <td>2021</td>\n",
       "      <td>O vereador que está subscreve, no uso das atri...</td>\n",
       "    </tr>\n",
       "    <tr>\n",
       "      <th>369</th>\n",
       "      <td>2021-04-08</td>\n",
       "      <td>2021-04-08</td>\n",
       "      <td>Proposição Aprovada</td>\n",
       "      <td>Manutenção de via pública</td>\n",
       "      <td>VereadorFernanda dos Santos Cattoni.</td>\n",
       "      <td>502</td>\n",
       "      <td>2021</td>\n",
       "      <td>A vereadora que esta subscreve, no uso das atr...</td>\n",
       "    </tr>\n",
       "  </tbody>\n",
       "</table>\n",
       "<p>370 rows × 8 columns</p>\n",
       "</div>"
      ],
      "text/plain": [
       "    DataReuniao DataDeliberacao             Situacao  \\\n",
       "0    1996-02-22      1996-02-22  Proposição Aprovada   \n",
       "1    1996-02-22      1996-02-22  Proposição Aprovada   \n",
       "2    1996-02-22      1996-02-22  Proposição Aprovada   \n",
       "3    1996-02-22      1996-02-22  Proposição Aprovada   \n",
       "4    1996-02-22      1996-02-22  Proposição Aprovada   \n",
       "..          ...             ...                  ...   \n",
       "365  1997-04-17      1997-04-17  Proposição Retirada   \n",
       "366  1997-04-17      1997-04-17  Proposição Aprovada   \n",
       "367  2021-04-08      2021-04-08  Proposição Aprovada   \n",
       "368  2021-04-08      2021-04-08  Proposição Aprovada   \n",
       "369  2021-04-08      2021-04-08  Proposição Aprovada   \n",
       "\n",
       "                                               Assunto  \\\n",
       "0                                     Serviços e Obras   \n",
       "1                                     Serviços e Obras   \n",
       "2    Limpeza, Macadamização, Patrolamento, Retifica...   \n",
       "3                      Rede de Água / Esgoto / Pluvial   \n",
       "4                      Rede de Água / Esgoto / Pluvial   \n",
       "..                                                 ...   \n",
       "365  Limpeza, Macadamização, Patrolamento, Retifica...   \n",
       "366  Limpeza, Macadamização, Patrolamento, Retifica...   \n",
       "367  Limpeza, Macadamização, Patrolamento, Retifica...   \n",
       "368                      Pontes, Bueiros, boca de lobo   \n",
       "369                          Manutenção de via pública   \n",
       "\n",
       "                                      Autor  Proposicao   Ano  \\\n",
       "0                   VereadorHenrique Fritz.           1  1996   \n",
       "1                   VereadorHenrique Fritz.           2  1996   \n",
       "2                   VereadorHenrique Fritz.           3  1996   \n",
       "3                   VereadorHenrique Fritz.           4  1996   \n",
       "4                   VereadorHenrique Fritz.           5  1996   \n",
       "..                                      ...         ...   ...   \n",
       "365         VereadorMárcio Antônio Ferrari.         342  1997   \n",
       "366         VereadorMárcio Antônio Ferrari.         343  1997   \n",
       "367  VereadorFlávio Augusto Ferri Molinari.         500  2021   \n",
       "368  VereadorFlávio Augusto Ferri Molinari.         501  2021   \n",
       "369    VereadorFernanda dos Santos Cattoni.         502  2021   \n",
       "\n",
       "                                                 Texto  \n",
       "0    construção de Escola de 1º grau no Bairro Nova...  \n",
       "1    construção de Escola nas imediações dos Loteam...  \n",
       "2    alargamento da Rua ID 90                      ...  \n",
       "3    prolongamento da rede d'água na Rua Reinhold S...  \n",
       "4    Prolongamento de rede d'água na Rua Lorenz até...  \n",
       "..                                                 ...  \n",
       "365  Limpeza e macadamização dos acostamentos da ru...  \n",
       "366  Limpeza do terreno perto do Colégio Adventista...  \n",
       "367  O vereador que está subscreve, no uso das atri...  \n",
       "368  O vereador que está subscreve, no uso das atri...  \n",
       "369  A vereadora que esta subscreve, no uso das atr...  \n",
       "\n",
       "[370 rows x 8 columns]"
      ]
     },
     "execution_count": 22,
     "metadata": {},
     "output_type": "execute_result"
    }
   ],
   "source": [
    "SQLSelect('''\n",
    "    select \n",
    "        *\n",
    "    from Proposicoes\n",
    "''')"
   ]
  },
  {
   "cell_type": "code",
   "execution_count": 23,
   "metadata": {},
   "outputs": [
    {
     "data": {
      "text/html": [
       "<div>\n",
       "<style scoped>\n",
       "    .dataframe tbody tr th:only-of-type {\n",
       "        vertical-align: middle;\n",
       "    }\n",
       "\n",
       "    .dataframe tbody tr th {\n",
       "        vertical-align: top;\n",
       "    }\n",
       "\n",
       "    .dataframe thead th {\n",
       "        text-align: right;\n",
       "    }\n",
       "</style>\n",
       "<table border=\"1\" class=\"dataframe\">\n",
       "  <thead>\n",
       "    <tr style=\"text-align: right;\">\n",
       "      <th></th>\n",
       "      <th>maior</th>\n",
       "    </tr>\n",
       "  </thead>\n",
       "  <tbody>\n",
       "    <tr>\n",
       "      <th>0</th>\n",
       "      <td>502</td>\n",
       "    </tr>\n",
       "  </tbody>\n",
       "</table>\n",
       "</div>"
      ],
      "text/plain": [
       "   maior\n",
       "0    502"
      ]
     },
     "execution_count": 23,
     "metadata": {},
     "output_type": "execute_result"
    }
   ],
   "source": [
    "SQLSelect('''\n",
    "    select \n",
    "        maior = max(Proposicao)\n",
    "    from Proposicoes\n",
    "''')"
   ]
  },
  {
   "cell_type": "markdown",
   "metadata": {},
   "source": [
    "> E claro, vamos criar uma função para fazer a inserção dos dados na tabela ``Proposicoes``."
   ]
  },
  {
   "cell_type": "code",
   "execution_count": 24,
   "metadata": {},
   "outputs": [],
   "source": [
    "def SQLInsertProposicoes(TabelaProposicoes):\n",
    "    \n",
    "    base = pd.DataFrame(columns=['Reunião', 'Deliberação', 'Situação', 'Assunto', 'Autor', 'Proposição', 'Ano', 'Texto'])\n",
    "    TabelaProposicoes = base.append(TabelaProposicoes).fillna('')\n",
    "\n",
    "    conn = pyodbc.connect('Trusted_Connection=yes', \n",
    "                          driver = '{ODBC Driver 17 for SQL Server}',\n",
    "                          server = 'localhost', \n",
    "                          database = 'Indaial')\n",
    "\n",
    "    cursor = conn.cursor()\n",
    "\n",
    "    for index, row in TabelaProposicoes.iterrows():\n",
    "\n",
    "        cursor.execute('''\n",
    "\n",
    "            INSERT INTO Proposicoes (\n",
    "                DataReuniao,\n",
    "                DataDeliberacao,\n",
    "                Situacao,\n",
    "                Assunto,\n",
    "                Autor,\n",
    "                Proposicao,\n",
    "                Ano,\n",
    "                Texto\n",
    "            ) \n",
    "            values(?,?,?,?,?,?,?,?)''', \n",
    "\n",
    "            row['Reunião'], \n",
    "            row['Deliberação'], \n",
    "            row['Situação'], \n",
    "            row['Assunto'], \n",
    "            row['Autor'], \n",
    "            row['Proposição'], \n",
    "            row['Ano'], \n",
    "            row['Texto']\n",
    "\n",
    "        )\n",
    "\n",
    "    conn.commit()\n",
    "    cursor.close()"
   ]
  },
  {
   "cell_type": "markdown",
   "metadata": {},
   "source": [
    "> E a facilidade continua...\n",
    ">\n",
    "> Vamos inserir dados (mesmo que duplicados) na tabela"
   ]
  },
  {
   "cell_type": "code",
   "execution_count": 25,
   "metadata": {},
   "outputs": [],
   "source": [
    "SQLInsertProposicoes(teste)"
   ]
  },
  {
   "cell_type": "code",
   "execution_count": 26,
   "metadata": {},
   "outputs": [
    {
     "data": {
      "text/html": [
       "<div>\n",
       "<style scoped>\n",
       "    .dataframe tbody tr th:only-of-type {\n",
       "        vertical-align: middle;\n",
       "    }\n",
       "\n",
       "    .dataframe tbody tr th {\n",
       "        vertical-align: top;\n",
       "    }\n",
       "\n",
       "    .dataframe thead th {\n",
       "        text-align: right;\n",
       "    }\n",
       "</style>\n",
       "<table border=\"1\" class=\"dataframe\">\n",
       "  <thead>\n",
       "    <tr style=\"text-align: right;\">\n",
       "      <th></th>\n",
       "      <th>DataReuniao</th>\n",
       "      <th>DataDeliberacao</th>\n",
       "      <th>Situacao</th>\n",
       "      <th>Assunto</th>\n",
       "      <th>Autor</th>\n",
       "      <th>Proposicao</th>\n",
       "      <th>Ano</th>\n",
       "      <th>Texto</th>\n",
       "    </tr>\n",
       "  </thead>\n",
       "  <tbody>\n",
       "    <tr>\n",
       "      <th>0</th>\n",
       "      <td>1996-02-22</td>\n",
       "      <td>1996-02-22</td>\n",
       "      <td>Proposição Aprovada</td>\n",
       "      <td>Serviços e Obras</td>\n",
       "      <td>VereadorHenrique Fritz.</td>\n",
       "      <td>1</td>\n",
       "      <td>1996</td>\n",
       "      <td>construção de Escola de 1º grau no Bairro Nova...</td>\n",
       "    </tr>\n",
       "    <tr>\n",
       "      <th>1</th>\n",
       "      <td>1996-02-22</td>\n",
       "      <td>1996-02-22</td>\n",
       "      <td>Proposição Aprovada</td>\n",
       "      <td>Serviços e Obras</td>\n",
       "      <td>VereadorHenrique Fritz.</td>\n",
       "      <td>2</td>\n",
       "      <td>1996</td>\n",
       "      <td>construção de Escola nas imediações dos Loteam...</td>\n",
       "    </tr>\n",
       "    <tr>\n",
       "      <th>2</th>\n",
       "      <td>1996-02-22</td>\n",
       "      <td>1996-02-22</td>\n",
       "      <td>Proposição Aprovada</td>\n",
       "      <td>Limpeza, Macadamização, Patrolamento, Retifica...</td>\n",
       "      <td>VereadorHenrique Fritz.</td>\n",
       "      <td>3</td>\n",
       "      <td>1996</td>\n",
       "      <td>alargamento da Rua ID 90                      ...</td>\n",
       "    </tr>\n",
       "    <tr>\n",
       "      <th>3</th>\n",
       "      <td>1996-02-22</td>\n",
       "      <td>1996-02-22</td>\n",
       "      <td>Proposição Aprovada</td>\n",
       "      <td>Rede de Água / Esgoto / Pluvial</td>\n",
       "      <td>VereadorHenrique Fritz.</td>\n",
       "      <td>4</td>\n",
       "      <td>1996</td>\n",
       "      <td>prolongamento da rede d'água na Rua Reinhold S...</td>\n",
       "    </tr>\n",
       "    <tr>\n",
       "      <th>4</th>\n",
       "      <td>1996-02-22</td>\n",
       "      <td>1996-02-22</td>\n",
       "      <td>Proposição Aprovada</td>\n",
       "      <td>Rede de Água / Esgoto / Pluvial</td>\n",
       "      <td>VereadorHenrique Fritz.</td>\n",
       "      <td>5</td>\n",
       "      <td>1996</td>\n",
       "      <td>Prolongamento de rede d'água na Rua Lorenz até...</td>\n",
       "    </tr>\n",
       "    <tr>\n",
       "      <th>...</th>\n",
       "      <td>...</td>\n",
       "      <td>...</td>\n",
       "      <td>...</td>\n",
       "      <td>...</td>\n",
       "      <td>...</td>\n",
       "      <td>...</td>\n",
       "      <td>...</td>\n",
       "      <td>...</td>\n",
       "    </tr>\n",
       "    <tr>\n",
       "      <th>368</th>\n",
       "      <td>2021-04-08</td>\n",
       "      <td>2021-04-08</td>\n",
       "      <td>Proposição Aprovada</td>\n",
       "      <td>Pontes, Bueiros, boca de lobo</td>\n",
       "      <td>VereadorFlávio Augusto Ferri Molinari.</td>\n",
       "      <td>501</td>\n",
       "      <td>2021</td>\n",
       "      <td>O vereador que está subscreve, no uso das atri...</td>\n",
       "    </tr>\n",
       "    <tr>\n",
       "      <th>369</th>\n",
       "      <td>2021-04-08</td>\n",
       "      <td>2021-04-08</td>\n",
       "      <td>Proposição Aprovada</td>\n",
       "      <td>Manutenção de via pública</td>\n",
       "      <td>VereadorFernanda dos Santos Cattoni.</td>\n",
       "      <td>502</td>\n",
       "      <td>2021</td>\n",
       "      <td>A vereadora que esta subscreve, no uso das atr...</td>\n",
       "    </tr>\n",
       "    <tr>\n",
       "      <th>370</th>\n",
       "      <td>2021-04-08</td>\n",
       "      <td>2021-04-08</td>\n",
       "      <td>Proposição Aprovada</td>\n",
       "      <td>Limpeza, Macadamização, Patrolamento, Retifica...</td>\n",
       "      <td>VereadorFlávio Augusto Ferri Molinari.</td>\n",
       "      <td>500</td>\n",
       "      <td>2021</td>\n",
       "      <td>O vereador que está subscreve, no uso das atri...</td>\n",
       "    </tr>\n",
       "    <tr>\n",
       "      <th>371</th>\n",
       "      <td>2021-04-08</td>\n",
       "      <td>2021-04-08</td>\n",
       "      <td>Proposição Aprovada</td>\n",
       "      <td>Pontes, Bueiros, boca de lobo</td>\n",
       "      <td>VereadorFlávio Augusto Ferri Molinari.</td>\n",
       "      <td>501</td>\n",
       "      <td>2021</td>\n",
       "      <td>O vereador que está subscreve, no uso das atri...</td>\n",
       "    </tr>\n",
       "    <tr>\n",
       "      <th>372</th>\n",
       "      <td>2021-04-08</td>\n",
       "      <td>2021-04-08</td>\n",
       "      <td>Proposição Aprovada</td>\n",
       "      <td>Manutenção de via pública</td>\n",
       "      <td>VereadorFernanda dos Santos Cattoni.</td>\n",
       "      <td>502</td>\n",
       "      <td>2021</td>\n",
       "      <td>A vereadora que esta subscreve, no uso das atr...</td>\n",
       "    </tr>\n",
       "  </tbody>\n",
       "</table>\n",
       "<p>373 rows × 8 columns</p>\n",
       "</div>"
      ],
      "text/plain": [
       "    DataReuniao DataDeliberacao             Situacao  \\\n",
       "0    1996-02-22      1996-02-22  Proposição Aprovada   \n",
       "1    1996-02-22      1996-02-22  Proposição Aprovada   \n",
       "2    1996-02-22      1996-02-22  Proposição Aprovada   \n",
       "3    1996-02-22      1996-02-22  Proposição Aprovada   \n",
       "4    1996-02-22      1996-02-22  Proposição Aprovada   \n",
       "..          ...             ...                  ...   \n",
       "368  2021-04-08      2021-04-08  Proposição Aprovada   \n",
       "369  2021-04-08      2021-04-08  Proposição Aprovada   \n",
       "370  2021-04-08      2021-04-08  Proposição Aprovada   \n",
       "371  2021-04-08      2021-04-08  Proposição Aprovada   \n",
       "372  2021-04-08      2021-04-08  Proposição Aprovada   \n",
       "\n",
       "                                               Assunto  \\\n",
       "0                                     Serviços e Obras   \n",
       "1                                     Serviços e Obras   \n",
       "2    Limpeza, Macadamização, Patrolamento, Retifica...   \n",
       "3                      Rede de Água / Esgoto / Pluvial   \n",
       "4                      Rede de Água / Esgoto / Pluvial   \n",
       "..                                                 ...   \n",
       "368                      Pontes, Bueiros, boca de lobo   \n",
       "369                          Manutenção de via pública   \n",
       "370  Limpeza, Macadamização, Patrolamento, Retifica...   \n",
       "371                      Pontes, Bueiros, boca de lobo   \n",
       "372                          Manutenção de via pública   \n",
       "\n",
       "                                      Autor  Proposicao   Ano  \\\n",
       "0                   VereadorHenrique Fritz.           1  1996   \n",
       "1                   VereadorHenrique Fritz.           2  1996   \n",
       "2                   VereadorHenrique Fritz.           3  1996   \n",
       "3                   VereadorHenrique Fritz.           4  1996   \n",
       "4                   VereadorHenrique Fritz.           5  1996   \n",
       "..                                      ...         ...   ...   \n",
       "368  VereadorFlávio Augusto Ferri Molinari.         501  2021   \n",
       "369    VereadorFernanda dos Santos Cattoni.         502  2021   \n",
       "370  VereadorFlávio Augusto Ferri Molinari.         500  2021   \n",
       "371  VereadorFlávio Augusto Ferri Molinari.         501  2021   \n",
       "372    VereadorFernanda dos Santos Cattoni.         502  2021   \n",
       "\n",
       "                                                 Texto  \n",
       "0    construção de Escola de 1º grau no Bairro Nova...  \n",
       "1    construção de Escola nas imediações dos Loteam...  \n",
       "2    alargamento da Rua ID 90                      ...  \n",
       "3    prolongamento da rede d'água na Rua Reinhold S...  \n",
       "4    Prolongamento de rede d'água na Rua Lorenz até...  \n",
       "..                                                 ...  \n",
       "368  O vereador que está subscreve, no uso das atri...  \n",
       "369  A vereadora que esta subscreve, no uso das atr...  \n",
       "370  O vereador que está subscreve, no uso das atri...  \n",
       "371  O vereador que está subscreve, no uso das atri...  \n",
       "372  A vereadora que esta subscreve, no uso das atr...  \n",
       "\n",
       "[373 rows x 8 columns]"
      ]
     },
     "execution_count": 26,
     "metadata": {},
     "output_type": "execute_result"
    }
   ],
   "source": [
    "SQLSelect('''\n",
    "    select \n",
    "        *\n",
    "    from Proposicoes\n",
    "''')"
   ]
  },
  {
   "cell_type": "markdown",
   "metadata": {},
   "source": [
    "> Mas perceba que fizemos a inserção, só que queriamos ter limpado a tabela antes de fazer uma nova inserção, e vamos aproveitar a função de inserção e criar a de limpeza "
   ]
  },
  {
   "cell_type": "code",
   "execution_count": 27,
   "metadata": {},
   "outputs": [],
   "source": [
    "def SQLTruncate(NomeTabela):\n",
    "\n",
    "    conn = pyodbc.connect('Trusted_Connection=yes', \n",
    "                          driver = '{ODBC Driver 17 for SQL Server}',\n",
    "                          server = 'localhost', \n",
    "                          database = 'Indaial')\n",
    "\n",
    "    cursor = conn.cursor()\n",
    "\n",
    "    cursor.execute(f'''\n",
    "\n",
    "                   TRUNCATE TABLE {NomeTabela}\n",
    "\n",
    "                   ''')\n",
    "\n",
    "    conn.commit()\n",
    "    cursor.close()"
   ]
  },
  {
   "cell_type": "code",
   "execution_count": 28,
   "metadata": {},
   "outputs": [
    {
     "data": {
      "text/html": [
       "<div>\n",
       "<style scoped>\n",
       "    .dataframe tbody tr th:only-of-type {\n",
       "        vertical-align: middle;\n",
       "    }\n",
       "\n",
       "    .dataframe tbody tr th {\n",
       "        vertical-align: top;\n",
       "    }\n",
       "\n",
       "    .dataframe thead th {\n",
       "        text-align: right;\n",
       "    }\n",
       "</style>\n",
       "<table border=\"1\" class=\"dataframe\">\n",
       "  <thead>\n",
       "    <tr style=\"text-align: right;\">\n",
       "      <th></th>\n",
       "      <th>DataReuniao</th>\n",
       "      <th>DataDeliberacao</th>\n",
       "      <th>Situacao</th>\n",
       "      <th>Assunto</th>\n",
       "      <th>Autor</th>\n",
       "      <th>Proposicao</th>\n",
       "      <th>Ano</th>\n",
       "      <th>Texto</th>\n",
       "    </tr>\n",
       "  </thead>\n",
       "  <tbody>\n",
       "  </tbody>\n",
       "</table>\n",
       "</div>"
      ],
      "text/plain": [
       "Empty DataFrame\n",
       "Columns: [DataReuniao, DataDeliberacao, Situacao, Assunto, Autor, Proposicao, Ano, Texto]\n",
       "Index: []"
      ]
     },
     "execution_count": 28,
     "metadata": {},
     "output_type": "execute_result"
    }
   ],
   "source": [
    "# Limpando dados da tabela\n",
    "SQLTruncate('Proposicoes')\n",
    "\n",
    "# Visualizando a tabela\n",
    "SQLSelect('select *from Proposicoes')"
   ]
  },
  {
   "cell_type": "markdown",
   "metadata": {},
   "source": [
    "> [Acesse Aqui](https://docs.python.org/pt-br/3/tutorial/inputoutput.html) a documentação oficial do Python, e veja eles demontrando essa técnica do ``f`` defronte o texto, a qual se denomina ``string literal formatada``"
   ]
  },
  {
   "cell_type": "markdown",
   "metadata": {},
   "source": [
    "> Voltando à nossa função de inserção de dados, optamos por não usar ``strings literais formatadas`` pois teriamos que carregar uma variável para cada coluna, e naquele caso, achamos mais produtivo fazer da forma que foi demonstrada."
   ]
  },
  {
   "cell_type": "markdown",
   "metadata": {},
   "source": [
    "> Agora que sabemos CRIAR, LIMPAR, e SELECIONAR dados de uma tabela via SQL, podemos automatizar a inserção de dados nela"
   ]
  },
  {
   "cell_type": "markdown",
   "metadata": {},
   "source": [
    "# <font color=green> 3. ALIMENTAÇÃO INCREMENTAL"
   ]
  },
  {
   "cell_type": "markdown",
   "metadata": {},
   "source": [
    "> Algo que temos que ter em mente, é o seguinte fluxo:"
   ]
  },
  {
   "cell_type": "markdown",
   "metadata": {},
   "source": [
    "<center><img width=\"100%\" src=\"img/loop.png\"></center>"
   ]
  },
  {
   "cell_type": "markdown",
   "metadata": {},
   "source": [
    "> A expressão ``Atualização Incremental`` está tão na moda entre os desenvolvedores de Power BI hoje em dia, mas, para os desenvolvedores em geral, isso é mais velho que andar pra frente."
   ]
  },
  {
   "cell_type": "markdown",
   "metadata": {},
   "source": [
    "> Em resumo, o que vamos fazer é uma adequação de nossas funções, para que possamos usar o loop ``while``, e conforme as buscas forem efetuadas, já sejam gravadas no banco."
   ]
  },
  {
   "cell_type": "markdown",
   "metadata": {},
   "source": [
    "> Ai nesse momento, você me pergunta:\n",
    ">>\n",
    ">> *Mas não seria melhor carregar a tabela toda primeiro, e depois gravar no banco?*\n",
    ">>\n",
    "> Eu respondo com essa imagem..."
   ]
  },
  {
   "cell_type": "markdown",
   "metadata": {},
   "source": [
    "<center><img width=\"100%\" src=\"img/dino2.jpg\"></center>"
   ]
  },
  {
   "cell_type": "markdown",
   "metadata": {},
   "source": [
    "> Vamos supor que você tenha colocado seu algoritmo a rodar, já buscou (virtualmente) os dados de 1996 até 2016 (falta só 2017 a 2020), e do nada, cai sua internet."
   ]
  },
  {
   "cell_type": "markdown",
   "metadata": {},
   "source": [
    "> Estamos a mercê disso, e temos que nos previnir."
   ]
  },
  {
   "cell_type": "markdown",
   "metadata": {},
   "source": [
    "### 3.1 MODIFICANDO NOSSA FUNÇÃO DE BUSCA"
   ]
  },
  {
   "cell_type": "markdown",
   "metadata": {},
   "source": [
    "> Vamos isolar a operação na inserção de 1 Proposição buscada"
   ]
  },
  {
   "cell_type": "code",
   "execution_count": 29,
   "metadata": {},
   "outputs": [
    {
     "data": {
      "text/html": [
       "<div>\n",
       "<style scoped>\n",
       "    .dataframe tbody tr th:only-of-type {\n",
       "        vertical-align: middle;\n",
       "    }\n",
       "\n",
       "    .dataframe tbody tr th {\n",
       "        vertical-align: top;\n",
       "    }\n",
       "\n",
       "    .dataframe thead th {\n",
       "        text-align: right;\n",
       "    }\n",
       "</style>\n",
       "<table border=\"1\" class=\"dataframe\">\n",
       "  <thead>\n",
       "    <tr style=\"text-align: right;\">\n",
       "      <th></th>\n",
       "      <th>DataReuniao</th>\n",
       "      <th>DataDeliberacao</th>\n",
       "      <th>Situacao</th>\n",
       "      <th>Assunto</th>\n",
       "      <th>Autor</th>\n",
       "      <th>Proposicao</th>\n",
       "      <th>Ano</th>\n",
       "      <th>Texto</th>\n",
       "    </tr>\n",
       "  </thead>\n",
       "  <tbody>\n",
       "    <tr>\n",
       "      <th>0</th>\n",
       "      <td>2021-02-11</td>\n",
       "      <td>2021-02-11</td>\n",
       "      <td>Proposição Aprovada</td>\n",
       "      <td>Pontes, Bueiros, boca de lobo</td>\n",
       "      <td>VereadorValentim Blasius.</td>\n",
       "      <td>202</td>\n",
       "      <td>2021</td>\n",
       "      <td>O Vereador abaixo firmado requer, após ouvido ...</td>\n",
       "    </tr>\n",
       "  </tbody>\n",
       "</table>\n",
       "</div>"
      ],
      "text/plain": [
       "  DataReuniao DataDeliberacao             Situacao  \\\n",
       "0  2021-02-11      2021-02-11  Proposição Aprovada   \n",
       "\n",
       "                         Assunto                      Autor  Proposicao   Ano  \\\n",
       "0  Pontes, Bueiros, boca de lobo  VereadorValentim Blasius.         202  2021   \n",
       "\n",
       "                                               Texto  \n",
       "0  O Vereador abaixo firmado requer, após ouvido ...  "
      ]
     },
     "execution_count": 29,
     "metadata": {},
     "output_type": "execute_result"
    }
   ],
   "source": [
    "# Limpar os dados da tabela só pra demonstração\n",
    "# SQLTruncate('Proposicoes')\n",
    "\n",
    "\n",
    "# ========= INICIO =========\n",
    "proposicao = 202\n",
    "ano = 2021\n",
    "dados = Conteudo(proposicao,ano)\n",
    "tabela = pd.DataFrame([dados])\n",
    "SQLInsertProposicoes(tabela)\n",
    "# ========= FIM =========\n",
    "\n",
    "\n",
    "# visualizando dados\n",
    "SQLSelect(f'select * from Proposicoes where Proposicao = {proposicao} and Ano = {ano}')"
   ]
  },
  {
   "cell_type": "markdown",
   "metadata": {},
   "source": [
    "> Pensando em atualização incremental, cada consulta, tem que ser ``proposicao_anterior + 1``"
   ]
  },
  {
   "cell_type": "code",
   "execution_count": 30,
   "metadata": {},
   "outputs": [
    {
     "data": {
      "text/html": [
       "<div>\n",
       "<style scoped>\n",
       "    .dataframe tbody tr th:only-of-type {\n",
       "        vertical-align: middle;\n",
       "    }\n",
       "\n",
       "    .dataframe tbody tr th {\n",
       "        vertical-align: top;\n",
       "    }\n",
       "\n",
       "    .dataframe thead th {\n",
       "        text-align: right;\n",
       "    }\n",
       "</style>\n",
       "<table border=\"1\" class=\"dataframe\">\n",
       "  <thead>\n",
       "    <tr style=\"text-align: right;\">\n",
       "      <th></th>\n",
       "      <th>Proposicao</th>\n",
       "    </tr>\n",
       "  </thead>\n",
       "  <tbody>\n",
       "    <tr>\n",
       "      <th>0</th>\n",
       "      <td>202</td>\n",
       "    </tr>\n",
       "  </tbody>\n",
       "</table>\n",
       "</div>"
      ],
      "text/plain": [
       "   Proposicao\n",
       "0         202"
      ]
     },
     "execution_count": 30,
     "metadata": {},
     "output_type": "execute_result"
    }
   ],
   "source": [
    "ano = 2021\n",
    "dados = SQLSelect(f'select Proposicao = max(Proposicao) from Proposicoes where Ano = {ano}')\n",
    "dados"
   ]
  },
  {
   "cell_type": "code",
   "execution_count": 31,
   "metadata": {},
   "outputs": [
    {
     "data": {
      "text/plain": [
       "0    202\n",
       "Name: Proposicao, dtype: int64"
      ]
     },
     "execution_count": 31,
     "metadata": {},
     "output_type": "execute_result"
    }
   ],
   "source": [
    "# acessando a coluna\n",
    "dados['Proposicao']"
   ]
  },
  {
   "cell_type": "code",
   "execution_count": 32,
   "metadata": {},
   "outputs": [
    {
     "data": {
      "text/plain": [
       "202"
      ]
     },
     "execution_count": 32,
     "metadata": {},
     "output_type": "execute_result"
    }
   ],
   "source": [
    "# acessando a coluna e linha\n",
    "dados['Proposicao'].loc[0]"
   ]
  },
  {
   "cell_type": "markdown",
   "metadata": {},
   "source": [
    "> Então, vamos alterar nossa função para alimentar a variável ``ultima_proposicao`` com o maior número gravado na tabela para aquele ano."
   ]
  },
  {
   "cell_type": "code",
   "execution_count": 33,
   "metadata": {
    "scrolled": true
   },
   "outputs": [
    {
     "data": {
      "text/html": [
       "<div>\n",
       "<style scoped>\n",
       "    .dataframe tbody tr th:only-of-type {\n",
       "        vertical-align: middle;\n",
       "    }\n",
       "\n",
       "    .dataframe tbody tr th {\n",
       "        vertical-align: top;\n",
       "    }\n",
       "\n",
       "    .dataframe thead th {\n",
       "        text-align: right;\n",
       "    }\n",
       "</style>\n",
       "<table border=\"1\" class=\"dataframe\">\n",
       "  <thead>\n",
       "    <tr style=\"text-align: right;\">\n",
       "      <th></th>\n",
       "      <th>DataReuniao</th>\n",
       "      <th>DataDeliberacao</th>\n",
       "      <th>Situacao</th>\n",
       "      <th>Assunto</th>\n",
       "      <th>Autor</th>\n",
       "      <th>Proposicao</th>\n",
       "      <th>Ano</th>\n",
       "      <th>Texto</th>\n",
       "    </tr>\n",
       "  </thead>\n",
       "  <tbody>\n",
       "    <tr>\n",
       "      <th>0</th>\n",
       "      <td>2021-02-11</td>\n",
       "      <td>2021-02-11</td>\n",
       "      <td>Proposição Aprovada</td>\n",
       "      <td>Pontes, Bueiros, boca de lobo</td>\n",
       "      <td>VereadorValentim Blasius.</td>\n",
       "      <td>202</td>\n",
       "      <td>2021</td>\n",
       "      <td>O Vereador abaixo firmado requer, após ouvido ...</td>\n",
       "    </tr>\n",
       "    <tr>\n",
       "      <th>1</th>\n",
       "      <td>2021-02-11</td>\n",
       "      <td>2021-02-11</td>\n",
       "      <td>Proposição Aprovada</td>\n",
       "      <td>Iluminação Pública e Rede de Energia Elétrica</td>\n",
       "      <td>VereadorValentim Blasius.</td>\n",
       "      <td>203</td>\n",
       "      <td>2021</td>\n",
       "      <td>O Vereador abaixo firmado requer, após ouvido ...</td>\n",
       "    </tr>\n",
       "  </tbody>\n",
       "</table>\n",
       "</div>"
      ],
      "text/plain": [
       "  DataReuniao DataDeliberacao             Situacao  \\\n",
       "0  2021-02-11      2021-02-11  Proposição Aprovada   \n",
       "1  2021-02-11      2021-02-11  Proposição Aprovada   \n",
       "\n",
       "                                         Assunto                      Autor  \\\n",
       "0                  Pontes, Bueiros, boca de lobo  VereadorValentim Blasius.   \n",
       "1  Iluminação Pública e Rede de Energia Elétrica  VereadorValentim Blasius.   \n",
       "\n",
       "   Proposicao   Ano                                              Texto  \n",
       "0         202  2021  O Vereador abaixo firmado requer, após ouvido ...  \n",
       "1         203  2021  O Vereador abaixo firmado requer, após ouvido ...  "
      ]
     },
     "execution_count": 33,
     "metadata": {},
     "output_type": "execute_result"
    }
   ],
   "source": [
    "# ========= INICIO =========\n",
    "ano = 2021\n",
    "\n",
    "dados_ano = SQLSelect(f'select Proposicao = max(Proposicao) from Proposicoes where Ano = {ano}')\n",
    "ultima_proposicao = dados_ano['Proposicao'].loc[0]\n",
    "\n",
    "proxima_proposicao = int(ultima_proposicao) + 1\n",
    "\n",
    "dados = Conteudo(proxima_proposicao,ano)\n",
    "tabela = pd.DataFrame([dados])\n",
    "SQLInsertProposicoes(tabela)\n",
    "# ========= FIM =========\n",
    "\n",
    "\n",
    "# visualizando dados\n",
    "SQLSelect('select * from Proposicoes')"
   ]
  },
  {
   "cell_type": "code",
   "execution_count": 34,
   "metadata": {},
   "outputs": [
    {
     "data": {
      "text/html": [
       "<div>\n",
       "<style scoped>\n",
       "    .dataframe tbody tr th:only-of-type {\n",
       "        vertical-align: middle;\n",
       "    }\n",
       "\n",
       "    .dataframe tbody tr th {\n",
       "        vertical-align: top;\n",
       "    }\n",
       "\n",
       "    .dataframe thead th {\n",
       "        text-align: right;\n",
       "    }\n",
       "</style>\n",
       "<table border=\"1\" class=\"dataframe\">\n",
       "  <thead>\n",
       "    <tr style=\"text-align: right;\">\n",
       "      <th></th>\n",
       "      <th>DataReuniao</th>\n",
       "      <th>DataDeliberacao</th>\n",
       "      <th>Situacao</th>\n",
       "      <th>Assunto</th>\n",
       "      <th>Autor</th>\n",
       "      <th>Proposicao</th>\n",
       "      <th>Ano</th>\n",
       "      <th>Texto</th>\n",
       "    </tr>\n",
       "  </thead>\n",
       "  <tbody>\n",
       "  </tbody>\n",
       "</table>\n",
       "</div>"
      ],
      "text/plain": [
       "Empty DataFrame\n",
       "Columns: [DataReuniao, DataDeliberacao, Situacao, Assunto, Autor, Proposicao, Ano, Texto]\n",
       "Index: []"
      ]
     },
     "execution_count": 34,
     "metadata": {},
     "output_type": "execute_result"
    }
   ],
   "source": [
    "# Limpando dados da tabela\n",
    "SQLTruncate('Proposicoes')\n",
    "\n",
    "# Visualizando a tabela\n",
    "SQLSelect('select *from Proposicoes')"
   ]
  },
  {
   "cell_type": "markdown",
   "metadata": {},
   "source": [
    "> Porém a fórmula acima apresenta um problema, caso a tabela esteja vazia.\n",
    ">\n",
    "> **Trunque a tabela e reexecute a função de inserção anterior**"
   ]
  },
  {
   "cell_type": "markdown",
   "metadata": {},
   "source": [
    "> Então vamos corrigir isso"
   ]
  },
  {
   "cell_type": "code",
   "execution_count": 35,
   "metadata": {},
   "outputs": [
    {
     "data": {
      "text/html": [
       "<div>\n",
       "<style scoped>\n",
       "    .dataframe tbody tr th:only-of-type {\n",
       "        vertical-align: middle;\n",
       "    }\n",
       "\n",
       "    .dataframe tbody tr th {\n",
       "        vertical-align: top;\n",
       "    }\n",
       "\n",
       "    .dataframe thead th {\n",
       "        text-align: right;\n",
       "    }\n",
       "</style>\n",
       "<table border=\"1\" class=\"dataframe\">\n",
       "  <thead>\n",
       "    <tr style=\"text-align: right;\">\n",
       "      <th></th>\n",
       "      <th>DataReuniao</th>\n",
       "      <th>DataDeliberacao</th>\n",
       "      <th>Situacao</th>\n",
       "      <th>Assunto</th>\n",
       "      <th>Autor</th>\n",
       "      <th>Proposicao</th>\n",
       "      <th>Ano</th>\n",
       "      <th>Texto</th>\n",
       "    </tr>\n",
       "  </thead>\n",
       "  <tbody>\n",
       "    <tr>\n",
       "      <th>0</th>\n",
       "      <td>2021-02-01</td>\n",
       "      <td>2021-02-01</td>\n",
       "      <td>Proposição Aprovada</td>\n",
       "      <td>Trânsito</td>\n",
       "      <td>VereadorRemir José de Faveri.</td>\n",
       "      <td>1</td>\n",
       "      <td>2021</td>\n",
       "      <td>O vereador que esta subscreve, no uso das atri...</td>\n",
       "    </tr>\n",
       "  </tbody>\n",
       "</table>\n",
       "</div>"
      ],
      "text/plain": [
       "  DataReuniao DataDeliberacao             Situacao   Assunto  \\\n",
       "0  2021-02-01      2021-02-01  Proposição Aprovada  Trânsito   \n",
       "\n",
       "                           Autor  Proposicao   Ano  \\\n",
       "0  VereadorRemir José de Faveri.           1  2021   \n",
       "\n",
       "                                               Texto  \n",
       "0  O vereador que esta subscreve, no uso das atri...  "
      ]
     },
     "execution_count": 35,
     "metadata": {},
     "output_type": "execute_result"
    }
   ],
   "source": [
    "# ========= INICIO =========\n",
    "ano = 2021\n",
    "\n",
    "dados_ano = SQLSelect(f'select Proposicao = max(Proposicao) from Proposicoes where Ano = {ano}')\n",
    "ultima_proposicao = dados_ano['Proposicao'].loc[0]\n",
    "\n",
    "\n",
    "# ----- INICIO ALTERAÇÃO ----- \n",
    "if ultima_proposicao == None:\n",
    "    proxima_proposicao = 1\n",
    "else:\n",
    "    proxima_proposicao = int(ultima_proposicao) + 1 \n",
    "# ----- FIM ALTERAÇÃO ----- \n",
    "\n",
    "\n",
    "dados = Conteudo(proxima_proposicao,ano)\n",
    "tabela = pd.DataFrame([dados])\n",
    "SQLInsertProposicoes(tabela)\n",
    "# ========= FIM =========\n",
    "\n",
    "\n",
    "# visualizando dados\n",
    "SQLSelect('select * from Proposicoes')"
   ]
  },
  {
   "cell_type": "markdown",
   "metadata": {},
   "source": [
    "> Essa função vai funcionar muito bem enquanto não chegarmos a ultima proposição.\n",
    ">\n",
    "> Esse tratamento de ``chegar na ultima`` faremos a seguir no loop, mas antes, precisamos criar uma função com aquilo que fizemos anteriormente."
   ]
  },
  {
   "cell_type": "code",
   "execution_count": 36,
   "metadata": {},
   "outputs": [],
   "source": [
    "def InsereProximaProposicao(ano):\n",
    "\n",
    "    # Busca última proposição cadastrada\n",
    "    dados_ano = SQLSelect(f'select Proposicao = max(Proposicao) from Proposicoes where Ano = {ano}')\n",
    "    ultima_proposicao = dados_ano['Proposicao'].loc[0]\n",
    "\n",
    "    # Verifica se foi identificado lançamento naquele ano\n",
    "    if ultima_proposicao == None:\n",
    "        proxima_proposicao = 1\n",
    "    else:\n",
    "        proxima_proposicao = int(ultima_proposicao) + 1 \n",
    "\n",
    "    # Captura e Insere dados na tabela\n",
    "    dados = Conteudo(proxima_proposicao,ano)\n",
    "    tabela = pd.DataFrame([dados])\n",
    "    SQLInsertProposicoes(tabela)"
   ]
  },
  {
   "cell_type": "code",
   "execution_count": 37,
   "metadata": {},
   "outputs": [
    {
     "data": {
      "text/html": [
       "<div>\n",
       "<style scoped>\n",
       "    .dataframe tbody tr th:only-of-type {\n",
       "        vertical-align: middle;\n",
       "    }\n",
       "\n",
       "    .dataframe tbody tr th {\n",
       "        vertical-align: top;\n",
       "    }\n",
       "\n",
       "    .dataframe thead th {\n",
       "        text-align: right;\n",
       "    }\n",
       "</style>\n",
       "<table border=\"1\" class=\"dataframe\">\n",
       "  <thead>\n",
       "    <tr style=\"text-align: right;\">\n",
       "      <th></th>\n",
       "      <th>DataReuniao</th>\n",
       "      <th>DataDeliberacao</th>\n",
       "      <th>Situacao</th>\n",
       "      <th>Assunto</th>\n",
       "      <th>Autor</th>\n",
       "      <th>Proposicao</th>\n",
       "      <th>Ano</th>\n",
       "      <th>Texto</th>\n",
       "    </tr>\n",
       "  </thead>\n",
       "  <tbody>\n",
       "    <tr>\n",
       "      <th>0</th>\n",
       "      <td>2021-02-01</td>\n",
       "      <td>2021-02-01</td>\n",
       "      <td>Proposição Aprovada</td>\n",
       "      <td>Trânsito</td>\n",
       "      <td>VereadorRemir José de Faveri.</td>\n",
       "      <td>1</td>\n",
       "      <td>2021</td>\n",
       "      <td>O vereador que esta subscreve, no uso das atri...</td>\n",
       "    </tr>\n",
       "    <tr>\n",
       "      <th>1</th>\n",
       "      <td>1996-02-22</td>\n",
       "      <td>1996-02-22</td>\n",
       "      <td>Proposição Aprovada</td>\n",
       "      <td>Serviços e Obras</td>\n",
       "      <td>VereadorHenrique Fritz.</td>\n",
       "      <td>1</td>\n",
       "      <td>1996</td>\n",
       "      <td>construção de Escola de 1º grau no Bairro Nova...</td>\n",
       "    </tr>\n",
       "  </tbody>\n",
       "</table>\n",
       "</div>"
      ],
      "text/plain": [
       "  DataReuniao DataDeliberacao             Situacao           Assunto  \\\n",
       "0  2021-02-01      2021-02-01  Proposição Aprovada          Trânsito   \n",
       "1  1996-02-22      1996-02-22  Proposição Aprovada  Serviços e Obras   \n",
       "\n",
       "                           Autor  Proposicao   Ano  \\\n",
       "0  VereadorRemir José de Faveri.           1  2021   \n",
       "1        VereadorHenrique Fritz.           1  1996   \n",
       "\n",
       "                                               Texto  \n",
       "0  O vereador que esta subscreve, no uso das atri...  \n",
       "1  construção de Escola de 1º grau no Bairro Nova...  "
      ]
     },
     "execution_count": 37,
     "metadata": {},
     "output_type": "execute_result"
    }
   ],
   "source": [
    "InsereProximaProposicao(1996)\n",
    "SQLSelect('select *from Proposicoes')"
   ]
  },
  {
   "cell_type": "code",
   "execution_count": 38,
   "metadata": {},
   "outputs": [
    {
     "data": {
      "text/html": [
       "<div>\n",
       "<style scoped>\n",
       "    .dataframe tbody tr th:only-of-type {\n",
       "        vertical-align: middle;\n",
       "    }\n",
       "\n",
       "    .dataframe tbody tr th {\n",
       "        vertical-align: top;\n",
       "    }\n",
       "\n",
       "    .dataframe thead th {\n",
       "        text-align: right;\n",
       "    }\n",
       "</style>\n",
       "<table border=\"1\" class=\"dataframe\">\n",
       "  <thead>\n",
       "    <tr style=\"text-align: right;\">\n",
       "      <th></th>\n",
       "      <th>DataReuniao</th>\n",
       "      <th>DataDeliberacao</th>\n",
       "      <th>Situacao</th>\n",
       "      <th>Assunto</th>\n",
       "      <th>Autor</th>\n",
       "      <th>Proposicao</th>\n",
       "      <th>Ano</th>\n",
       "      <th>Texto</th>\n",
       "    </tr>\n",
       "  </thead>\n",
       "  <tbody>\n",
       "  </tbody>\n",
       "</table>\n",
       "</div>"
      ],
      "text/plain": [
       "Empty DataFrame\n",
       "Columns: [DataReuniao, DataDeliberacao, Situacao, Assunto, Autor, Proposicao, Ano, Texto]\n",
       "Index: []"
      ]
     },
     "execution_count": 38,
     "metadata": {},
     "output_type": "execute_result"
    }
   ],
   "source": [
    "# Limpando dados da tabela\n",
    "SQLTruncate('Proposicoes')\n",
    "\n",
    "# Visualizando a tabela\n",
    "SQLSelect('select *from Proposicoes')"
   ]
  },
  {
   "cell_type": "code",
   "execution_count": 39,
   "metadata": {},
   "outputs": [],
   "source": [
    "ano = 1996\n",
    "quantidade = 999999\n",
    "erros_admissiveis = 2\n",
    "segundos_espera = 0\n",
    "\n",
    "# erros\n",
    "erros = 0\n",
    "\n",
    "# variaveis para loop\n",
    "i = 1\n",
    "lista = []\n",
    "\n",
    "while erros <= erros_admissiveis:\n",
    "\n",
    "    try:\n",
    "        InsereProximaProposicao(ano)\n",
    "    except:\n",
    "        erros += 1\n",
    "        pass\n",
    "\n",
    "    time.sleep(segundos_espera)\n",
    "\n",
    "    # carregamento incremental das variáveis\n",
    "    i +=1"
   ]
  },
  {
   "cell_type": "code",
   "execution_count": 40,
   "metadata": {},
   "outputs": [],
   "source": [
    "def BuscaGravaDadosAno(ano, quantidade = 10, erros_admissiveis = 2, segundos_espera = 0):\n",
    "\n",
    "    # erros\n",
    "    erros = 0\n",
    "\n",
    "    # variaveis para loop\n",
    "    i = 1\n",
    "    lista = []\n",
    "\n",
    "    while erros <= erros_admissiveis:\n",
    "\n",
    "        try:\n",
    "            InsereProximaProposicao(ano)\n",
    "        except:\n",
    "            erros += 1\n",
    "            pass\n",
    "\n",
    "        time.sleep(segundos_espera)\n",
    "\n",
    "        # carregamento incremental das variáveis\n",
    "        i +=1"
   ]
  },
  {
   "cell_type": "code",
   "execution_count": 41,
   "metadata": {},
   "outputs": [
    {
     "data": {
      "text/html": [
       "<div>\n",
       "<style scoped>\n",
       "    .dataframe tbody tr th:only-of-type {\n",
       "        vertical-align: middle;\n",
       "    }\n",
       "\n",
       "    .dataframe tbody tr th {\n",
       "        vertical-align: top;\n",
       "    }\n",
       "\n",
       "    .dataframe thead th {\n",
       "        text-align: right;\n",
       "    }\n",
       "</style>\n",
       "<table border=\"1\" class=\"dataframe\">\n",
       "  <thead>\n",
       "    <tr style=\"text-align: right;\">\n",
       "      <th></th>\n",
       "      <th>DataReuniao</th>\n",
       "      <th>DataDeliberacao</th>\n",
       "      <th>Situacao</th>\n",
       "      <th>Assunto</th>\n",
       "      <th>Autor</th>\n",
       "      <th>Proposicao</th>\n",
       "      <th>Ano</th>\n",
       "      <th>Texto</th>\n",
       "    </tr>\n",
       "  </thead>\n",
       "  <tbody>\n",
       "  </tbody>\n",
       "</table>\n",
       "</div>"
      ],
      "text/plain": [
       "Empty DataFrame\n",
       "Columns: [DataReuniao, DataDeliberacao, Situacao, Assunto, Autor, Proposicao, Ano, Texto]\n",
       "Index: []"
      ]
     },
     "execution_count": 41,
     "metadata": {},
     "output_type": "execute_result"
    }
   ],
   "source": [
    "# Limpando dados da tabela\n",
    "SQLTruncate('Proposicoes')\n",
    "\n",
    "# Visualizando a tabela\n",
    "SQLSelect('select *from Proposicoes')"
   ]
  },
  {
   "cell_type": "code",
   "execution_count": 42,
   "metadata": {},
   "outputs": [
    {
     "name": "stdout",
     "output_type": "stream",
     "text": [
      "1996\n"
     ]
    }
   ],
   "source": [
    "ano_fim = 1996\n",
    "ano_ini = 1996\n",
    "anos = ano_fim - ano_ini + 1\n",
    "for i in range(anos):\n",
    "    print(i+ano_ini)"
   ]
  },
  {
   "cell_type": "code",
   "execution_count": 43,
   "metadata": {},
   "outputs": [
    {
     "data": {
      "text/plain": [
       "[1996, 1997, 1998]"
      ]
     },
     "execution_count": 43,
     "metadata": {},
     "output_type": "execute_result"
    }
   ],
   "source": [
    "list(range(1996, 1998+1))"
   ]
  },
  {
   "cell_type": "code",
   "execution_count": 44,
   "metadata": {},
   "outputs": [
    {
     "name": "stdout",
     "output_type": "stream",
     "text": [
      "Iniciando gravação dos dados do ano:  1996\n",
      "Iniciando gravação dos dados do ano:  1997\n",
      "Inserção finalizada 😁\n"
     ]
    }
   ],
   "source": [
    "ano_inicial = 1996\n",
    "ano_final = 1997\n",
    "\n",
    "for i in list(range(ano_inicial, ano_final+1)):\n",
    "    print('Iniciando gravação dos dados do ano: ',i)\n",
    "    try:\n",
    "        BuscaGravaDadosAno(i, quantidade = 999999)\n",
    "    except:\n",
    "        pass\n",
    "    \n",
    "print('Inserção finalizada 😁')"
   ]
  },
  {
   "cell_type": "markdown",
   "metadata": {},
   "source": [
    "---"
   ]
  },
  {
   "cell_type": "markdown",
   "metadata": {},
   "source": [
    "# <font color=green> SAIBA MAIS SOBRE MIM\n"
   ]
  },
  {
   "cell_type": "markdown",
   "metadata": {},
   "source": [
    "### Conheça meu trabalho\n",
    "\n",
    "<a href=\"https://www.joviano.com\">\n",
    "<img src=\"https://raw.githubusercontent.com/jovianosilveira/img/master/joviano-silveira-site-logo.png\" alt=\"joviano.com\" width=\"5%\">\n",
    "</a>\n",
    "\n",
    "<a href=\"https://www.youtube.com/jovianosilveira\">\n",
    "<img src=\"https://github.com/jovianosilveira/img/blob/master/joviano-silveira-youtube-logo.png?raw=true\" alt=\"joviano.com\" width=\"5%\">\n",
    "</a>\n",
    "\n",
    "<a href=\"http://www.linkedin.com/in/jovianosilveira\">\n",
    "<img src=\"https://github.com/jovianosilveira/img/blob/master/joviano-silveira-linkedin-logo.png?raw=true\" alt=\"joviano.com\" width=\"5%\">\n",
    "</a>\n",
    "\n",
    "<a href=\"https://www.instagram.com/jovi.silveira\">\n",
    "<img src=\"https://github.com/jovianosilveira/img/blob/master/joviano-silveira-instagram-logo.png?raw=true\" alt=\"joviano.com\" width=\"5%\">\n",
    "</a>\n",
    "\n",
    "<a href=\"https://www.facebook.com/jovi.silveira.cursos\">\n",
    "<img src=\"https://github.com/jovianosilveira/img/blob/master/joviano-silveira-facebook-logo.png?raw=true\" alt=\"joviano.com\" width=\"5%\">\n",
    "</a>"
   ]
  }
 ],
 "metadata": {
  "kernelspec": {
   "display_name": "Python 3",
   "language": "python",
   "name": "python3"
  },
  "language_info": {
   "codemirror_mode": {
    "name": "ipython",
    "version": 3
   },
   "file_extension": ".py",
   "mimetype": "text/x-python",
   "name": "python",
   "nbconvert_exporter": "python",
   "pygments_lexer": "ipython3",
   "version": "3.6.6"
  }
 },
 "nbformat": 4,
 "nbformat_minor": 4
}
