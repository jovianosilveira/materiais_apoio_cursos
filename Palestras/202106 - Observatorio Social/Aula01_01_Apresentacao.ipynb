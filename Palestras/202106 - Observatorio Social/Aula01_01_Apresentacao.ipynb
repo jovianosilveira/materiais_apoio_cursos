{
 "cells": [
  {
   "cell_type": "markdown",
   "metadata": {},
   "source": [
    "<center><img width=\"70%\" src=\"img/logo.png\"></center>"
   ]
  },
  {
   "cell_type": "markdown",
   "metadata": {},
   "source": [
    "# **Projeto Observatório Social - Prefeitura Municipal de Indaial / SC**\n",
    "### <font color='#DC143C'> *Webcrapping com Python | Criação e Alimentação de DW*\n",
    "*by [JOVIANO SILVEIRA](https://www.joviano.com)*\n",
    "\n",
    "---"
   ]
  },
  {
   "cell_type": "markdown",
   "metadata": {},
   "source": [
    "# <font color=green> 1. SOBRE MIM\n"
   ]
  },
  {
   "cell_type": "markdown",
   "metadata": {},
   "source": [
    "### 1.1 Profissional"
   ]
  },
  {
   "cell_type": "markdown",
   "metadata": {},
   "source": [
    "> CONTADOR\n",
    ">\n",
    ">> Mais de 15 anos de experiência em contabilidade, especialista em finanças e controladoria.\n",
    ">>\n",
    ">> Desse tempo, 7 anos foram em auditoria e os demais como Controller em Indústria.\n",
    ">>\n",
    "> **NÃO SOU PROGRAMADOR**\n",
    ">>\n",
    ">> Muitas vezes perguntam se sou formado em T.I., mas não, sempre tentei trazer a tecnologia para aumentar o meu resultado."
   ]
  },
  {
   "cell_type": "markdown",
   "metadata": {},
   "source": [
    "### 1.2 Docente"
   ]
  },
  {
   "cell_type": "markdown",
   "metadata": {},
   "source": [
    ">\n",
    "> - Mais de 5000 alunos*\n",
    "> - 97% de avaliação nos cursos pagos*\n",
    "> - Meus Cursos:\n",
    ">> + [Lógica de Programação com Python | CURSO GRÁTIS](https://www.udemy.com/course/logica-de-programacao-algoritmos-com-python/)\n",
    ">> + Formação Power Query 2.0 (8 cursos + 2 cursos bônus)\n",
    ">> + Modelagem de Dados no Power BI\n",
    ">> + Orçamento Empresarial com Power Query e VBA\n",
    "\n",
    "*Dados em Julho/2021"
   ]
  },
  {
   "cell_type": "markdown",
   "metadata": {},
   "source": [
    "# <font color=green> 2. ESSE EVENTO É UMA COMEMORAÇÃO"
   ]
  },
  {
   "cell_type": "markdown",
   "metadata": {},
   "source": [
    "> ### ATINGIMOS SIMULTANEAMENTE A MARCA DE <font color='#DC143C'>5 MIL\n",
    "> - Alunos na Udemy\n",
    "> - Seguidores no Linkedin"
   ]
  },
  {
   "cell_type": "markdown",
   "metadata": {},
   "source": [
    "> Instagram e Youtube, em 05/07/2021 estamos com 3mil inscritos no Youtube e seguidores no Instagram (@jovi.silveira)\n",
    "> \n",
    "> Nos ajude a crescer!"
   ]
  },
  {
   "cell_type": "markdown",
   "metadata": {},
   "source": [
    "# <font color=green> 3. SOBRE O \"PROBLEMA DE NEGÓCIO\"\n"
   ]
  },
  {
   "cell_type": "markdown",
   "metadata": {},
   "source": [
    "> **O QUE?**\n",
    ">> **Coletar dados** de projetos de vereadores de um site da Prefeitura de Indaial/SC, e **criar um banco de dados**, que possa ter **atualizações incrementais**, e claro, alimentar um bom **painel do Power BI**."
   ]
  },
  {
   "cell_type": "markdown",
   "metadata": {},
   "source": [
    "> **PRA QUEM?**\n",
    ">> Projeto [Observatório Social](https://osbrasil.org.br/) na cidade de Indaial/SC"
   ]
  },
  {
   "cell_type": "markdown",
   "metadata": {},
   "source": [
    "> Aonde fica Indaial?"
   ]
  },
  {
   "cell_type": "code",
   "execution_count": 1,
   "metadata": {},
   "outputs": [
    {
     "data": {
      "text/html": [
       "<div style=\"width:100%;\"><div style=\"position:relative;width:100%;height:0;padding-bottom:60%;\"><span style=\"color:#565656\">Make this Notebook Trusted to load map: File -> Trust Notebook</span><iframe src=\"about:blank\" style=\"position:absolute;width:100%;height:100%;left:0;top:0;border:none !important;\" data-html=%3C%21DOCTYPE%20html%3E%0A%3Chead%3E%20%20%20%20%0A%20%20%20%20%3Cmeta%20http-equiv%3D%22content-type%22%20content%3D%22text/html%3B%20charset%3DUTF-8%22%20/%3E%0A%20%20%20%20%0A%20%20%20%20%20%20%20%20%3Cscript%3E%0A%20%20%20%20%20%20%20%20%20%20%20%20L_NO_TOUCH%20%3D%20false%3B%0A%20%20%20%20%20%20%20%20%20%20%20%20L_DISABLE_3D%20%3D%20false%3B%0A%20%20%20%20%20%20%20%20%3C/script%3E%0A%20%20%20%20%0A%20%20%20%20%3Cstyle%3Ehtml%2C%20body%20%7Bwidth%3A%20100%25%3Bheight%3A%20100%25%3Bmargin%3A%200%3Bpadding%3A%200%3B%7D%3C/style%3E%0A%20%20%20%20%3Cstyle%3E%23map%20%7Bposition%3Aabsolute%3Btop%3A0%3Bbottom%3A0%3Bright%3A0%3Bleft%3A0%3B%7D%3C/style%3E%0A%20%20%20%20%3Cscript%20src%3D%22https%3A//cdn.jsdelivr.net/npm/leaflet%401.6.0/dist/leaflet.js%22%3E%3C/script%3E%0A%20%20%20%20%3Cscript%20src%3D%22https%3A//code.jquery.com/jquery-1.12.4.min.js%22%3E%3C/script%3E%0A%20%20%20%20%3Cscript%20src%3D%22https%3A//maxcdn.bootstrapcdn.com/bootstrap/3.2.0/js/bootstrap.min.js%22%3E%3C/script%3E%0A%20%20%20%20%3Cscript%20src%3D%22https%3A//cdnjs.cloudflare.com/ajax/libs/Leaflet.awesome-markers/2.0.2/leaflet.awesome-markers.js%22%3E%3C/script%3E%0A%20%20%20%20%3Clink%20rel%3D%22stylesheet%22%20href%3D%22https%3A//cdn.jsdelivr.net/npm/leaflet%401.6.0/dist/leaflet.css%22/%3E%0A%20%20%20%20%3Clink%20rel%3D%22stylesheet%22%20href%3D%22https%3A//maxcdn.bootstrapcdn.com/bootstrap/3.2.0/css/bootstrap.min.css%22/%3E%0A%20%20%20%20%3Clink%20rel%3D%22stylesheet%22%20href%3D%22https%3A//maxcdn.bootstrapcdn.com/bootstrap/3.2.0/css/bootstrap-theme.min.css%22/%3E%0A%20%20%20%20%3Clink%20rel%3D%22stylesheet%22%20href%3D%22https%3A//maxcdn.bootstrapcdn.com/font-awesome/4.6.3/css/font-awesome.min.css%22/%3E%0A%20%20%20%20%3Clink%20rel%3D%22stylesheet%22%20href%3D%22https%3A//cdnjs.cloudflare.com/ajax/libs/Leaflet.awesome-markers/2.0.2/leaflet.awesome-markers.css%22/%3E%0A%20%20%20%20%3Clink%20rel%3D%22stylesheet%22%20href%3D%22https%3A//cdn.jsdelivr.net/gh/python-visualization/folium/folium/templates/leaflet.awesome.rotate.min.css%22/%3E%0A%20%20%20%20%0A%20%20%20%20%20%20%20%20%20%20%20%20%3Cmeta%20name%3D%22viewport%22%20content%3D%22width%3Ddevice-width%2C%0A%20%20%20%20%20%20%20%20%20%20%20%20%20%20%20%20initial-scale%3D1.0%2C%20maximum-scale%3D1.0%2C%20user-scalable%3Dno%22%20/%3E%0A%20%20%20%20%20%20%20%20%20%20%20%20%3Cstyle%3E%0A%20%20%20%20%20%20%20%20%20%20%20%20%20%20%20%20%23map_dd00f091733b44d88deaf27614fbf103%20%7B%0A%20%20%20%20%20%20%20%20%20%20%20%20%20%20%20%20%20%20%20%20position%3A%20relative%3B%0A%20%20%20%20%20%20%20%20%20%20%20%20%20%20%20%20%20%20%20%20width%3A%20100.0%25%3B%0A%20%20%20%20%20%20%20%20%20%20%20%20%20%20%20%20%20%20%20%20height%3A%20100.0%25%3B%0A%20%20%20%20%20%20%20%20%20%20%20%20%20%20%20%20%20%20%20%20left%3A%200.0%25%3B%0A%20%20%20%20%20%20%20%20%20%20%20%20%20%20%20%20%20%20%20%20top%3A%200.0%25%3B%0A%20%20%20%20%20%20%20%20%20%20%20%20%20%20%20%20%7D%0A%20%20%20%20%20%20%20%20%20%20%20%20%3C/style%3E%0A%20%20%20%20%20%20%20%20%0A%3C/head%3E%0A%3Cbody%3E%20%20%20%20%0A%20%20%20%20%0A%20%20%20%20%20%20%20%20%20%20%20%20%3Cdiv%20class%3D%22folium-map%22%20id%3D%22map_dd00f091733b44d88deaf27614fbf103%22%20%3E%3C/div%3E%0A%20%20%20%20%20%20%20%20%0A%3C/body%3E%0A%3Cscript%3E%20%20%20%20%0A%20%20%20%20%0A%20%20%20%20%20%20%20%20%20%20%20%20var%20map_dd00f091733b44d88deaf27614fbf103%20%3D%20L.map%28%0A%20%20%20%20%20%20%20%20%20%20%20%20%20%20%20%20%22map_dd00f091733b44d88deaf27614fbf103%22%2C%0A%20%20%20%20%20%20%20%20%20%20%20%20%20%20%20%20%7B%0A%20%20%20%20%20%20%20%20%20%20%20%20%20%20%20%20%20%20%20%20center%3A%20%5B-26.894602319867314%2C%20-49.23284762929178%5D%2C%0A%20%20%20%20%20%20%20%20%20%20%20%20%20%20%20%20%20%20%20%20crs%3A%20L.CRS.EPSG3857%2C%0A%20%20%20%20%20%20%20%20%20%20%20%20%20%20%20%20%20%20%20%20zoom%3A%209%2C%0A%20%20%20%20%20%20%20%20%20%20%20%20%20%20%20%20%20%20%20%20zoomControl%3A%20true%2C%0A%20%20%20%20%20%20%20%20%20%20%20%20%20%20%20%20%20%20%20%20preferCanvas%3A%20false%2C%0A%20%20%20%20%20%20%20%20%20%20%20%20%20%20%20%20%7D%0A%20%20%20%20%20%20%20%20%20%20%20%20%29%3B%0A%0A%20%20%20%20%20%20%20%20%20%20%20%20%0A%0A%20%20%20%20%20%20%20%20%0A%20%20%20%20%0A%20%20%20%20%20%20%20%20%20%20%20%20var%20tile_layer_2cf49e45a48244d891ca773b26ba29ef%20%3D%20L.tileLayer%28%0A%20%20%20%20%20%20%20%20%20%20%20%20%20%20%20%20%22https%3A//%7Bs%7D.tile.openstreetmap.org/%7Bz%7D/%7Bx%7D/%7By%7D.png%22%2C%0A%20%20%20%20%20%20%20%20%20%20%20%20%20%20%20%20%7B%22attribution%22%3A%20%22Data%20by%20%5Cu0026copy%3B%20%5Cu003ca%20href%3D%5C%22http%3A//openstreetmap.org%5C%22%5Cu003eOpenStreetMap%5Cu003c/a%5Cu003e%2C%20under%20%5Cu003ca%20href%3D%5C%22http%3A//www.openstreetmap.org/copyright%5C%22%5Cu003eODbL%5Cu003c/a%5Cu003e.%22%2C%20%22detectRetina%22%3A%20false%2C%20%22maxNativeZoom%22%3A%2018%2C%20%22maxZoom%22%3A%2018%2C%20%22minZoom%22%3A%200%2C%20%22noWrap%22%3A%20false%2C%20%22opacity%22%3A%201%2C%20%22subdomains%22%3A%20%22abc%22%2C%20%22tms%22%3A%20false%7D%0A%20%20%20%20%20%20%20%20%20%20%20%20%29.addTo%28map_dd00f091733b44d88deaf27614fbf103%29%3B%0A%20%20%20%20%20%20%20%20%0A%20%20%20%20%0A%20%20%20%20%20%20%20%20%20%20%20%20var%20marker_ed1636bf18f7439aa56e9afeff0012f7%20%3D%20L.marker%28%0A%20%20%20%20%20%20%20%20%20%20%20%20%20%20%20%20%5B-26.894602319867314%2C%20-49.23284762929178%5D%2C%0A%20%20%20%20%20%20%20%20%20%20%20%20%20%20%20%20%7B%7D%0A%20%20%20%20%20%20%20%20%20%20%20%20%29.addTo%28map_dd00f091733b44d88deaf27614fbf103%29%3B%0A%20%20%20%20%20%20%20%20%0A%20%20%20%20%0A%20%20%20%20%20%20%20%20var%20popup_8a044dba38b7462889da1db75f088a92%20%3D%20L.popup%28%7B%22maxWidth%22%3A%20%22100%25%22%7D%29%3B%0A%0A%20%20%20%20%20%20%20%20%0A%20%20%20%20%20%20%20%20%20%20%20%20var%20html_08b9ffc8f05d4938b284c8f66cfc972f%20%3D%20%24%28%60%3Cdiv%20id%3D%22html_08b9ffc8f05d4938b284c8f66cfc972f%22%20style%3D%22width%3A%20100.0%25%3B%20height%3A%20100.0%25%3B%22%3E%3Ci%3EMt.%20Hood%20Meadows%3C/i%3E%3C/div%3E%60%29%5B0%5D%3B%0A%20%20%20%20%20%20%20%20%20%20%20%20popup_8a044dba38b7462889da1db75f088a92.setContent%28html_08b9ffc8f05d4938b284c8f66cfc972f%29%3B%0A%20%20%20%20%20%20%20%20%0A%0A%20%20%20%20%20%20%20%20marker_ed1636bf18f7439aa56e9afeff0012f7.bindPopup%28popup_8a044dba38b7462889da1db75f088a92%29%0A%20%20%20%20%20%20%20%20%3B%0A%0A%20%20%20%20%20%20%20%20%0A%20%20%20%20%0A%20%20%20%20%0A%20%20%20%20%20%20%20%20%20%20%20%20marker_ed1636bf18f7439aa56e9afeff0012f7.bindTooltip%28%0A%20%20%20%20%20%20%20%20%20%20%20%20%20%20%20%20%60%3Cdiv%3E%0A%20%20%20%20%20%20%20%20%20%20%20%20%20%20%20%20%20%20%20%20%20Do%20ladinho%20da%20OktoberFest%0A%20%20%20%20%20%20%20%20%20%20%20%20%20%20%20%20%20%3C/div%3E%60%2C%0A%20%20%20%20%20%20%20%20%20%20%20%20%20%20%20%20%7B%22sticky%22%3A%20true%7D%0A%20%20%20%20%20%20%20%20%20%20%20%20%29%3B%0A%20%20%20%20%20%20%20%20%0A%3C/script%3E onload=\"this.contentDocument.open();this.contentDocument.write(    decodeURIComponent(this.getAttribute('data-html')));this.contentDocument.close();\" allowfullscreen webkitallowfullscreen mozallowfullscreen></iframe></div></div>"
      ],
      "text/plain": [
       "<folium.folium.Map at 0x255f09a6908>"
      ]
     },
     "execution_count": 1,
     "metadata": {},
     "output_type": "execute_result"
    }
   ],
   "source": [
    "# biblioteca de mapas\n",
    "import folium\n",
    "\n",
    "# Informar aonde é a cidade\n",
    "coordenadas = [-26.894602319867314, -49.23284762929178]\n",
    "\n",
    "# Carregar o objeto MAPA\n",
    "mapa = folium.Map(location=coordenadas, zoom_start=9)\n",
    "\n",
    "# Inserir Pino\n",
    "tooltip = \"Do ladinho da OktoberFest\"\n",
    "folium.Marker(coordenadas, popup=\"<i>Mt. Hood Meadows</i>\", tooltip=tooltip).add_to(mapa)\n",
    "\n",
    "# Mostrar Mapa\n",
    "mapa"
   ]
  },
  {
   "cell_type": "markdown",
   "metadata": {},
   "source": [
    "> **COMO?**\n",
    ">> Python\n",
    ">>\n",
    ">>> - Coleta de dados via Webscrapping\n",
    ">>> - Inserção de dados em banco SQL Server local\n",
    ">>\n",
    ">> Power BI\n",
    ">>>\n",
    ">>> - Criar Painéis"
   ]
  },
  {
   "cell_type": "markdown",
   "metadata": {},
   "source": [
    "<center><img width=\"80%\" src=\"img/nhenhe.png\"></center>\n",
    "<center><font color=green>Foto: Ator Miko Hughes na série \"Três é Demais (Full House)\""
   ]
  },
  {
   "cell_type": "markdown",
   "metadata": {},
   "source": [
    "> - Para WebScrapping simples o PowerQuery vai bem, mas quando tem muitas páginas ele fica lento;\n",
    "> - Com Python podemos usar ``bibliotecas PRONTAS``, que tratam páginas HTML com maestria (economizando tempo e dinheiro);\n",
    "> - Podemos inserir dados no banco SQL de maneira simples (mais fácil que eu te explicar no PowerQuery);\n",
    "> - **Temos mais agilidade**, pois o PowerBI vai consumir os dados já tratados;"
   ]
  },
  {
   "cell_type": "markdown",
   "metadata": {},
   "source": [
    "> **ESTOU RECEBENDO ALGO?**\n",
    ">> **NÃO!**\n",
    ">>> Estou fazendo esse trabalho pela comunidade, por sugestão de dois alunos que moram nessa cidade, e que trabalham na mesma empresa que trabalho hoje (2021)"
   ]
  },
  {
   "cell_type": "markdown",
   "metadata": {},
   "source": [
    "# <font color=green> 4. CONSIDERAÇÕES PRELIMINARES IMPORTANTES"
   ]
  },
  {
   "cell_type": "markdown",
   "metadata": {},
   "source": [
    "<center><img width=\"100%\" src=\"img/quem_sim.png\"></center>"
   ]
  },
  {
   "cell_type": "markdown",
   "metadata": {},
   "source": [
    "<center><img width=\"100%\" src=\"img/quem_nao.png\"></center>"
   ]
  },
  {
   "cell_type": "markdown",
   "metadata": {},
   "source": [
    "# <font color='#DC143C'> #NaoSomosPeru"
   ]
  },
  {
   "cell_type": "markdown",
   "metadata": {},
   "source": [
    "<center><img width=\"50%\" src=\"img/peru.png\"></center>"
   ]
  },
  {
   "cell_type": "markdown",
   "metadata": {},
   "source": [
    "# <font color=green> 5. SOBRE VIDEOS, CERTIFICADOS E MAIS..."
   ]
  },
  {
   "cell_type": "markdown",
   "metadata": {},
   "source": [
    "<center><img width=\"80%\" src=\"img/free.png\"></center>"
   ]
  },
  {
   "cell_type": "markdown",
   "metadata": {},
   "source": [
    "> - Aulas 100% gratuitas\n",
    "> - 1 aula por semana até o projeto finalizar \n",
    ">> - duração aproximada de 3 a 4 aulas de 1:30h\n",
    ">> - sempre as quintas feiras as 20 horas\n",
    ">> - SIM! vai ficar no Youtube (aulas e links para materiais)\n",
    "> - Certificado\n",
    ">> - Terá um custo simbólico (muita gente estava entrando só pra gerar certificado)\n",
    ">> - Terá que responder algumas perguntas para demonstrar que estava na aula (e não são palavras chave)\n",
    ">> - Você terá as aulas + material disponíveis na plataforma\n",
    ">> - E claro, permite que você gere o certificado **extemporaneamente**, diferente de outros cursos gratuitos que deixamos por tempo limitado."
   ]
  },
  {
   "cell_type": "markdown",
   "metadata": {},
   "source": [
    "---"
   ]
  },
  {
   "cell_type": "markdown",
   "metadata": {},
   "source": [
    "# <font color=green> SAIBA MAIS SOBRE MIM\n"
   ]
  },
  {
   "cell_type": "markdown",
   "metadata": {},
   "source": [
    "### Conheça meu trabalho\n",
    "\n",
    "<a href=\"https://www.joviano.com\">\n",
    "<img src=\"https://raw.githubusercontent.com/jovianosilveira/img/master/joviano-silveira-site-logo.png\" alt=\"joviano.com\" width=\"5%\">\n",
    "</a>\n",
    "\n",
    "<a href=\"https://www.youtube.com/jovianosilveira\">\n",
    "<img src=\"https://github.com/jovianosilveira/img/blob/master/joviano-silveira-youtube-logo.png?raw=true\" alt=\"joviano.com\" width=\"5%\">\n",
    "</a>\n",
    "\n",
    "<a href=\"http://www.linkedin.com/in/jovianosilveira\">\n",
    "<img src=\"https://github.com/jovianosilveira/img/blob/master/joviano-silveira-linkedin-logo.png?raw=true\" alt=\"joviano.com\" width=\"5%\">\n",
    "</a>\n",
    "\n",
    "<a href=\"https://www.instagram.com/jovi.silveira\">\n",
    "<img src=\"https://github.com/jovianosilveira/img/blob/master/joviano-silveira-instagram-logo.png?raw=true\" alt=\"joviano.com\" width=\"5%\">\n",
    "</a>\n",
    "\n",
    "<a href=\"https://www.facebook.com/jovi.silveira.cursos\">\n",
    "<img src=\"https://github.com/jovianosilveira/img/blob/master/joviano-silveira-facebook-logo.png?raw=true\" alt=\"joviano.com\" width=\"5%\">\n",
    "</a>"
   ]
  },
  {
   "cell_type": "code",
   "execution_count": null,
   "metadata": {},
   "outputs": [],
   "source": []
  }
 ],
 "metadata": {
  "kernelspec": {
   "display_name": "Python 3",
   "language": "python",
   "name": "python3"
  },
  "language_info": {
   "codemirror_mode": {
    "name": "ipython",
    "version": 3
   },
   "file_extension": ".py",
   "mimetype": "text/x-python",
   "name": "python",
   "nbconvert_exporter": "python",
   "pygments_lexer": "ipython3",
   "version": "3.6.6"
  }
 },
 "nbformat": 4,
 "nbformat_minor": 4
}
