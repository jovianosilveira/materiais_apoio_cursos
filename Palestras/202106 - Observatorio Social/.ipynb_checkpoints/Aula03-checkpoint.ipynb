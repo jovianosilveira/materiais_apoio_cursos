{
 "cells": [
  {
   "cell_type": "markdown",
   "metadata": {},
   "source": [
    "<center><img width=\"70%\" src=\"img/logo.png\"></center>"
   ]
  },
  {
   "cell_type": "markdown",
   "metadata": {},
   "source": [
    "# **Projeto Observatório Social - Prefeitura Municipal de Indaial / SC**\n",
    "### <font color='#DC143C'> *Webcrapping com Python | Criação e Alimentação de DW*\n",
    "*by [JOVIANO SILVEIRA](https://www.joviano.com)*\n",
    "\n",
    "---"
   ]
  },
  {
   "cell_type": "markdown",
   "metadata": {},
   "source": [
    "# <font color=green> 1. RESUMO DAS FUNÇÕES CRIADAS NA ÚLTIMA AULA\n"
   ]
  },
  {
   "cell_type": "code",
   "execution_count": 2,
   "metadata": {},
   "outputs": [],
   "source": [
    "# Importando bibliotecas\n",
    "\n",
    "import time\n",
    "import pandas as pd\n",
    "\n",
    "from urllib.error import URLError, HTTPError\n",
    "from urllib.request import Request, urlopen\n",
    "\n",
    "import bs4"
   ]
  },
  {
   "cell_type": "code",
   "execution_count": 3,
   "metadata": {},
   "outputs": [],
   "source": [
    "# Informando o AGENTE\n",
    "\n",
    "agente = \"Mozilla/5.0 (Windows NT 10.0; Win64; x64) AppleWebKit/537.36 (KHTML, like Gecko) Chrome/91.0.4472.124 Safari/537.36\"\n",
    "headers = {'User-Agent': agente}"
   ]
  },
  {
   "cell_type": "code",
   "execution_count": 4,
   "metadata": {},
   "outputs": [],
   "source": [
    "# Função para chamar a página WEB\n",
    "\n",
    "def ConsultaWebB(url):\n",
    "    try:\n",
    "        req = Request(url, headers = headers)\n",
    "        response = urlopen(req)\n",
    "        return response.read()\n",
    "\n",
    "    except:\n",
    "        pass"
   ]
  },
  {
   "cell_type": "code",
   "execution_count": 5,
   "metadata": {},
   "outputs": [],
   "source": [
    "# Função para pegar a página encontrada e transformar em um objeto utilizável\n",
    "\n",
    "def captura_html_pagina(url):\n",
    "    html = ConsultaWebB(url)\n",
    "    soup = bs4.BeautifulSoup(html, 'html.parser')    \n",
    "    return soup"
   ]
  },
  {
   "cell_type": "code",
   "execution_count": 6,
   "metadata": {},
   "outputs": [],
   "source": [
    "# Função para capturar as informações da \"tabelinha cabeçalho\" da página\n",
    "\n",
    "def Cabecalho(html):\n",
    "    dt = html.find_all('dt')\n",
    "    dd = html.find_all('dd')\n",
    "    dic = {}\n",
    "    for i in range(len(dt)):\n",
    "        x = dt[i].get_text()\n",
    "        y = dd[i].get_text()\n",
    "        dic[x] = y\n",
    "    return dic"
   ]
  },
  {
   "cell_type": "code",
   "execution_count": 7,
   "metadata": {},
   "outputs": [],
   "source": [
    "# Funçao para capturar o conteúdo da página e transformar em um dicionário\n",
    "\n",
    "def Conteudo(proposicao, ano):\n",
    "    url = 'https://www.legislador.com.br//LegisladorWEB.ASP?WCI=ProposicaoTexto&ID=3&TPProposicao=1&nrProposicao='+str(proposicao)+'&aaProposicao='+str(ano)\n",
    "    html = captura_html_pagina(url)\n",
    "    dic = Cabecalho(html)\n",
    "    dic['Proposição'] = proposicao\n",
    "    dic['Ano'] = ano\n",
    "    dic['Texto'] = html.p.get_text()\n",
    "    return dic"
   ]
  },
  {
   "cell_type": "code",
   "execution_count": 8,
   "metadata": {},
   "outputs": [],
   "source": [
    "def TabelaResultados(inicar_em, quantidade, ano, erros_admissiveis, segundos_espera):\n",
    "\n",
    "    ultima_consulta = inicar_em + quantidade - 1\n",
    "\n",
    "    # erros\n",
    "    erros = 0\n",
    "\n",
    "    # variaveis para loop\n",
    "    i = 1\n",
    "    lista = []\n",
    "\n",
    "    while inicar_em <= ultima_consulta and erros <= erros_admissiveis:\n",
    "\n",
    "        try:\n",
    "            x = Conteudo(inicar_em,ano)\n",
    "            lista = lista + [Conteudo(inicar_em,ano)]\n",
    "        except:\n",
    "            erros += 1\n",
    "            pass\n",
    "\n",
    "        time.sleep(segundos_espera)\n",
    "\n",
    "        # carregamento incremental das variáveis\n",
    "        inicar_em+=1 \n",
    "        i+=1\n",
    "\n",
    "\n",
    "    return pd.DataFrame(lista)"
   ]
  },
  {
   "cell_type": "code",
   "execution_count": 9,
   "metadata": {},
   "outputs": [
    {
     "data": {
      "text/html": [
       "<div>\n",
       "<style scoped>\n",
       "    .dataframe tbody tr th:only-of-type {\n",
       "        vertical-align: middle;\n",
       "    }\n",
       "\n",
       "    .dataframe tbody tr th {\n",
       "        vertical-align: top;\n",
       "    }\n",
       "\n",
       "    .dataframe thead th {\n",
       "        text-align: right;\n",
       "    }\n",
       "</style>\n",
       "<table border=\"1\" class=\"dataframe\">\n",
       "  <thead>\n",
       "    <tr style=\"text-align: right;\">\n",
       "      <th></th>\n",
       "      <th>Reunião</th>\n",
       "      <th>Deliberação</th>\n",
       "      <th>Situação</th>\n",
       "      <th>Assunto</th>\n",
       "      <th>Autor</th>\n",
       "      <th>Proposição</th>\n",
       "      <th>Ano</th>\n",
       "      <th>Texto</th>\n",
       "    </tr>\n",
       "  </thead>\n",
       "  <tbody>\n",
       "    <tr>\n",
       "      <th>0</th>\n",
       "      <td>29/06/2021</td>\n",
       "      <td>29/06/2021</td>\n",
       "      <td>Proposição Aprovada</td>\n",
       "      <td>Pontes, Bueiros, boca de lobo</td>\n",
       "      <td>VereadorAnderson Luz dos Santos.</td>\n",
       "      <td>803</td>\n",
       "      <td>2021</td>\n",
       "      <td>O vereador que esta subscreve, no uso das atri...</td>\n",
       "    </tr>\n",
       "    <tr>\n",
       "      <th>1</th>\n",
       "      <td>29/06/2021</td>\n",
       "      <td>29/06/2021</td>\n",
       "      <td>Proposição Aprovada</td>\n",
       "      <td>Manutenção de via pública</td>\n",
       "      <td>VereadorAnderson Luz dos Santos.</td>\n",
       "      <td>804</td>\n",
       "      <td>2021</td>\n",
       "      <td>O vereador que esta subscreve, no uso das atri...</td>\n",
       "    </tr>\n",
       "    <tr>\n",
       "      <th>2</th>\n",
       "      <td>29/06/2021</td>\n",
       "      <td>29/06/2021</td>\n",
       "      <td>Proposição Aprovada</td>\n",
       "      <td>Limpeza, Macadamização, Patrolamento, Retifica...</td>\n",
       "      <td>VereadorAnderson Luz dos Santos.</td>\n",
       "      <td>805</td>\n",
       "      <td>2021</td>\n",
       "      <td>O vereador que esta subscreve, no uso das atri...</td>\n",
       "    </tr>\n",
       "    <tr>\n",
       "      <th>3</th>\n",
       "      <td>29/06/2021</td>\n",
       "      <td>29/06/2021</td>\n",
       "      <td>Proposição Aprovada</td>\n",
       "      <td>Manutenção de via pública</td>\n",
       "      <td>VereadorAnderson Luz dos Santos.</td>\n",
       "      <td>806</td>\n",
       "      <td>2021</td>\n",
       "      <td>O vereador que esta subscreve, no uso das atri...</td>\n",
       "    </tr>\n",
       "  </tbody>\n",
       "</table>\n",
       "</div>"
      ],
      "text/plain": [
       "      Reunião Deliberação             Situação  \\\n",
       "0  29/06/2021  29/06/2021  Proposição Aprovada   \n",
       "1  29/06/2021  29/06/2021  Proposição Aprovada   \n",
       "2  29/06/2021  29/06/2021  Proposição Aprovada   \n",
       "3  29/06/2021  29/06/2021  Proposição Aprovada   \n",
       "\n",
       "                                             Assunto  \\\n",
       "0                      Pontes, Bueiros, boca de lobo   \n",
       "1                          Manutenção de via pública   \n",
       "2  Limpeza, Macadamização, Patrolamento, Retifica...   \n",
       "3                          Manutenção de via pública   \n",
       "\n",
       "                              Autor  Proposição   Ano  \\\n",
       "0  VereadorAnderson Luz dos Santos.         803  2021   \n",
       "1  VereadorAnderson Luz dos Santos.         804  2021   \n",
       "2  VereadorAnderson Luz dos Santos.         805  2021   \n",
       "3  VereadorAnderson Luz dos Santos.         806  2021   \n",
       "\n",
       "                                               Texto  \n",
       "0  O vereador que esta subscreve, no uso das atri...  \n",
       "1  O vereador que esta subscreve, no uso das atri...  \n",
       "2  O vereador que esta subscreve, no uso das atri...  \n",
       "3  O vereador que esta subscreve, no uso das atri...  "
      ]
     },
     "execution_count": 9,
     "metadata": {},
     "output_type": "execute_result"
    }
   ],
   "source": [
    "teste = TabelaResultados(803,20,2021,2,0.2)\n",
    "teste"
   ]
  },
  {
   "cell_type": "markdown",
   "metadata": {},
   "source": [
    "# <font color=green> 2. CRIANDO O BANCO DE DADOS E TABELAS"
   ]
  },
  {
   "cell_type": "markdown",
   "metadata": {},
   "source": [
    "### 2.1 Criando Banco de Dados"
   ]
  },
  {
   "cell_type": "markdown",
   "metadata": {},
   "source": [
    "> Você vai entrar no ``SSMS`` e vai conectar no servidor localhost"
   ]
  },
  {
   "cell_type": "markdown",
   "metadata": {},
   "source": [
    "<center><img width=\"50%\" src=\"img/ssms.png\"></center>"
   ]
  },
  {
   "cell_type": "markdown",
   "metadata": {},
   "source": [
    "> Se você seguiu meu passo a passo, pode selecionar a ``autenticação do Windows`` ou pode usar o usuário configurado na instalação do SQL SERVER (deve ter sido ``sa``) e a senha personalizada. \n",
    ">\n",
    "> Ou, se você tem um servidor (não local) que está guardando os arquivos, use as credenciais de conexão padrão dele."
   ]
  },
  {
   "cell_type": "markdown",
   "metadata": {},
   "source": [
    "> Feito isso você vai clicar com botão direito sobre o Banco de Dados e criar ``Novo Banco de Dados``"
   ]
  },
  {
   "cell_type": "markdown",
   "metadata": {},
   "source": [
    "<center><img width=\"50%\" src=\"img/novo_banco.png\"></center>"
   ]
  },
  {
   "cell_type": "markdown",
   "metadata": {},
   "source": [
    "> Digite o nome que você vai dar ao banco, e clique em OK."
   ]
  },
  {
   "cell_type": "markdown",
   "metadata": {},
   "source": [
    "<center><img width=\"70%\" src=\"img/novo_banco2.png\"></center>"
   ]
  },
  {
   "cell_type": "markdown",
   "metadata": {},
   "source": [
    "> Uma vez criado, você pode navegar pela árvore e visualizá-lo"
   ]
  },
  {
   "cell_type": "markdown",
   "metadata": {},
   "source": [
    "<center><img width=\"50%\" src=\"img/novo_banco3.png\"></center>"
   ]
  },
  {
   "cell_type": "markdown",
   "metadata": {},
   "source": [
    "### 2.2 Criando Tabelas"
   ]
  },
  {
   "cell_type": "markdown",
   "metadata": {},
   "source": [
    "> Clicamos com o botão direito do mouse sobre o banco, e em seguida, clicamos em ``Nova Consulta``"
   ]
  },
  {
   "cell_type": "markdown",
   "metadata": {},
   "source": [
    "<center><img width=\"50%\" src=\"img/nova_consulta.png\"></center>"
   ]
  },
  {
   "cell_type": "markdown",
   "metadata": {},
   "source": [
    "> Essa tela branca que abriu é o local aonde escrevemos os scripts SQL.\n",
    ">\n",
    "> Através de um script SQL vamos criar a nossa tabela."
   ]
  },
  {
   "cell_type": "markdown",
   "metadata": {},
   "source": [
    "> Uma tabela SQL é sempre mais rápida que uma tabela EXCEL (por exemplo) pois quando a criamos, dizemos que determinada coluna vai receber **EXCLUSIVAMENTE** determinado tipo de dado.\n",
    ">\n",
    "> Então, nosso primeiro passo é identificar o nome das colunas e tipos de dados, para ai sim, podermos criar o script SQL."
   ]
  },
  {
   "cell_type": "code",
   "execution_count": null,
   "metadata": {},
   "outputs": [],
   "source": [
    "# Lista com nome de colunas\n",
    "list(teste.columns)"
   ]
  },
  {
   "cell_type": "code",
   "execution_count": null,
   "metadata": {},
   "outputs": [],
   "source": [
    "# Lista com tipos de dados\n",
    "teste.dtypes"
   ]
  },
  {
   "cell_type": "markdown",
   "metadata": {},
   "source": [
    "> <font color='#DC143C'> **ATENÇÃO**\n",
    ">> As colunas de data foram reconhecidas como texto no dataframe, mas ao inserir no banco, vamos fazer em formato data"
   ]
  },
  {
   "cell_type": "markdown",
   "metadata": {},
   "source": [
    "> Com isso você poderá montar seu script, seguindo esse padrão:\n",
    "\n",
    "```sql\n",
    "CREATE TABLE Proposicoes (\n",
    "\n",
    "\tDataReuniao DATE,\n",
    "\tDataDeliberacao DATE,\n",
    "\tSituacao VARCHAR(200),\n",
    "\tAssunto VARCHAR(1000),\n",
    "\tAutor VARCHAR(1000),\n",
    "\tProposicao INT,\n",
    "\tAno INT,\n",
    "\tTexto VARCHAR(MAX)\n",
    "\n",
    ")\n",
    "```\n",
    ">\n",
    "> [Acesse aqui](https://docs.microsoft.com/pt-br/sql/t-sql/data-types/data-types-transact-sql?view=sql-server-ver15) e conheça a lista dos tipos de dados possíveis, disposta na documentação oficial do SQL Server."
   ]
  },
  {
   "cell_type": "markdown",
   "metadata": {},
   "source": [
    "> Uma vez criada a tabela, necessitamos ver se ela foi criada.\n",
    ">\n",
    "> Podemos (e vamos) ver isso no SSMS e também aqui no Python"
   ]
  },
  {
   "cell_type": "markdown",
   "metadata": {},
   "source": [
    "### 2.3 Alimentando Tabelas"
   ]
  },
  {
   "cell_type": "code",
   "execution_count": 10,
   "metadata": {},
   "outputs": [],
   "source": [
    "# Biblioteca que conecta o Python ao SQL\n",
    "import pyodbc"
   ]
  },
  {
   "cell_type": "code",
   "execution_count": 11,
   "metadata": {},
   "outputs": [
    {
     "data": {
      "text/plain": [
       "'4.0.30'"
      ]
     },
     "execution_count": 11,
     "metadata": {},
     "output_type": "execute_result"
    }
   ],
   "source": [
    "pyodbc.version\n",
    "# pip install pyodbc==4.0.30"
   ]
  },
  {
   "cell_type": "code",
   "execution_count": null,
   "metadata": {},
   "outputs": [],
   "source": [
    "'''\n",
    "# Com senha\n",
    "conn = pyodbc.connect('Trusted_Connection=yes', \n",
    "                      driver = '{ODBC Driver 17 for SQL Server}',\n",
    "                      server = 'localhost', \n",
    "                      database = 'Indaial',\n",
    "                      UID='sa',\n",
    "                      PWD='SuaSenha')\n",
    "'''\n",
    "\n",
    "# Com autenticação do Windows\n",
    "conn = pyodbc.connect('Trusted_Connection=yes', \n",
    "                      driver = '{ODBC Driver 17 for SQL Server}',\n",
    "                      server = 'localhost', \n",
    "                      database = 'Indaial')\n",
    "\n",
    "query = '''\n",
    "    select \n",
    "        * \n",
    "    from Proposicoes\n",
    "'''\n",
    "sql_query = pd.read_sql_query(query,conn)\n",
    "sql_query"
   ]
  },
  {
   "cell_type": "markdown",
   "metadata": {},
   "source": [
    "> Pudemos ver que não há dados em nossa tabela."
   ]
  },
  {
   "cell_type": "markdown",
   "metadata": {},
   "source": [
    "> Agora, vamos inserir dados nesta tabela"
   ]
  },
  {
   "cell_type": "code",
   "execution_count": null,
   "metadata": {},
   "outputs": [],
   "source": [
    "conn = pyodbc.connect('Trusted_Connection=yes', \n",
    "                      driver = '{ODBC Driver 17 for SQL Server}',\n",
    "                      server = 'localhost', \n",
    "                      database = 'Indaial')\n",
    "\n",
    "cursor = conn.cursor()\n",
    "\n",
    "for index, row in teste.iterrows():\n",
    "    \n",
    "    cursor.execute('''\n",
    "    \n",
    "        INSERT INTO Proposicoes (\n",
    "            DataReuniao,\n",
    "            DataDeliberacao,\n",
    "            Situacao,\n",
    "            Assunto,\n",
    "            Autor,\n",
    "            Proposicao,\n",
    "            Ano,\n",
    "            Texto\n",
    "        ) \n",
    "        values(?,?,?,?,?,?,?,?)''', # mesma quantidade de variáveis\n",
    "\n",
    "        row['Reunião'], \n",
    "        row['Deliberação'], \n",
    "        row['Situação'], \n",
    "        row['Assunto'], \n",
    "        row['Autor'], \n",
    "        row['Proposição'], \n",
    "        row['Ano'], \n",
    "        row['Texto']\n",
    "\n",
    "    )\n",
    "\n",
    "conn.commit()\n",
    "cursor.close()"
   ]
  },
  {
   "cell_type": "markdown",
   "metadata": {},
   "source": [
    "> E então..."
   ]
  },
  {
   "cell_type": "code",
   "execution_count": null,
   "metadata": {
    "scrolled": true
   },
   "outputs": [],
   "source": [
    "conn = pyodbc.connect('Trusted_Connection=yes', \n",
    "                      driver = '{ODBC Driver 17 for SQL Server}',\n",
    "                      server = 'localhost', \n",
    "                      database = 'Indaial')\n",
    "\n",
    "query = '''\n",
    "    select \n",
    "        * \n",
    "    from Proposicoes\n",
    "'''\n",
    "sql_query = pd.read_sql_query(query,conn)\n",
    "sql_query"
   ]
  },
  {
   "cell_type": "markdown",
   "metadata": {},
   "source": [
    "> Como já falei que funções agilizam nossa vida, vamos criar uma para fazer seleção de dados"
   ]
  },
  {
   "cell_type": "code",
   "execution_count": 16,
   "metadata": {},
   "outputs": [],
   "source": [
    "def SQLSelect(query):\n",
    "    \n",
    "    conn = pyodbc.connect('Trusted_Connection=yes', \n",
    "                          driver = '{ODBC Driver 17 for SQL Server}',\n",
    "                          server = 'localhost', \n",
    "                          database = 'Indaial')\n",
    "\n",
    "    out = pd.read_sql_query(query,conn)\n",
    "    return out"
   ]
  },
  {
   "cell_type": "markdown",
   "metadata": {},
   "source": [
    "> E olha como (denovo) fica mais fácil"
   ]
  },
  {
   "cell_type": "code",
   "execution_count": 17,
   "metadata": {},
   "outputs": [
    {
     "data": {
      "text/html": [
       "<div>\n",
       "<style scoped>\n",
       "    .dataframe tbody tr th:only-of-type {\n",
       "        vertical-align: middle;\n",
       "    }\n",
       "\n",
       "    .dataframe tbody tr th {\n",
       "        vertical-align: top;\n",
       "    }\n",
       "\n",
       "    .dataframe thead th {\n",
       "        text-align: right;\n",
       "    }\n",
       "</style>\n",
       "<table border=\"1\" class=\"dataframe\">\n",
       "  <thead>\n",
       "    <tr style=\"text-align: right;\">\n",
       "      <th></th>\n",
       "      <th>DataReuniao</th>\n",
       "      <th>DataDeliberacao</th>\n",
       "      <th>Situacao</th>\n",
       "      <th>Assunto</th>\n",
       "      <th>Autor</th>\n",
       "      <th>Proposicao</th>\n",
       "      <th>Ano</th>\n",
       "      <th>Texto</th>\n",
       "    </tr>\n",
       "  </thead>\n",
       "  <tbody>\n",
       "    <tr>\n",
       "      <th>0</th>\n",
       "      <td>2021-06-29</td>\n",
       "      <td>2021-06-29</td>\n",
       "      <td>Proposição Aprovada</td>\n",
       "      <td>Pontes, Bueiros, boca de lobo</td>\n",
       "      <td>VereadorAnderson Luz dos Santos.</td>\n",
       "      <td>803</td>\n",
       "      <td>2021</td>\n",
       "      <td>O vereador que esta subscreve, no uso das atri...</td>\n",
       "    </tr>\n",
       "    <tr>\n",
       "      <th>1</th>\n",
       "      <td>2021-06-29</td>\n",
       "      <td>2021-06-29</td>\n",
       "      <td>Proposição Aprovada</td>\n",
       "      <td>Manutenção de via pública</td>\n",
       "      <td>VereadorAnderson Luz dos Santos.</td>\n",
       "      <td>804</td>\n",
       "      <td>2021</td>\n",
       "      <td>O vereador que esta subscreve, no uso das atri...</td>\n",
       "    </tr>\n",
       "    <tr>\n",
       "      <th>2</th>\n",
       "      <td>2021-06-29</td>\n",
       "      <td>2021-06-29</td>\n",
       "      <td>Proposição Aprovada</td>\n",
       "      <td>Limpeza, Macadamização, Patrolamento, Retifica...</td>\n",
       "      <td>VereadorAnderson Luz dos Santos.</td>\n",
       "      <td>805</td>\n",
       "      <td>2021</td>\n",
       "      <td>O vereador que esta subscreve, no uso das atri...</td>\n",
       "    </tr>\n",
       "    <tr>\n",
       "      <th>3</th>\n",
       "      <td>2021-06-29</td>\n",
       "      <td>2021-06-29</td>\n",
       "      <td>Proposição Aprovada</td>\n",
       "      <td>Manutenção de via pública</td>\n",
       "      <td>VereadorAnderson Luz dos Santos.</td>\n",
       "      <td>806</td>\n",
       "      <td>2021</td>\n",
       "      <td>O vereador que esta subscreve, no uso das atri...</td>\n",
       "    </tr>\n",
       "  </tbody>\n",
       "</table>\n",
       "</div>"
      ],
      "text/plain": [
       "  DataReuniao DataDeliberacao             Situacao  \\\n",
       "0  2021-06-29      2021-06-29  Proposição Aprovada   \n",
       "1  2021-06-29      2021-06-29  Proposição Aprovada   \n",
       "2  2021-06-29      2021-06-29  Proposição Aprovada   \n",
       "3  2021-06-29      2021-06-29  Proposição Aprovada   \n",
       "\n",
       "                                             Assunto  \\\n",
       "0                      Pontes, Bueiros, boca de lobo   \n",
       "1                          Manutenção de via pública   \n",
       "2  Limpeza, Macadamização, Patrolamento, Retifica...   \n",
       "3                          Manutenção de via pública   \n",
       "\n",
       "                              Autor  Proposicao   Ano  \\\n",
       "0  VereadorAnderson Luz dos Santos.         803  2021   \n",
       "1  VereadorAnderson Luz dos Santos.         804  2021   \n",
       "2  VereadorAnderson Luz dos Santos.         805  2021   \n",
       "3  VereadorAnderson Luz dos Santos.         806  2021   \n",
       "\n",
       "                                               Texto  \n",
       "0  O vereador que esta subscreve, no uso das atri...  \n",
       "1  O vereador que esta subscreve, no uso das atri...  \n",
       "2  O vereador que esta subscreve, no uso das atri...  \n",
       "3  O vereador que esta subscreve, no uso das atri...  "
      ]
     },
     "execution_count": 17,
     "metadata": {},
     "output_type": "execute_result"
    }
   ],
   "source": [
    "SQLSelect('''\n",
    "    select \n",
    "        *\n",
    "    from Proposicoes\n",
    "''')"
   ]
  },
  {
   "cell_type": "code",
   "execution_count": 18,
   "metadata": {},
   "outputs": [
    {
     "data": {
      "text/html": [
       "<div>\n",
       "<style scoped>\n",
       "    .dataframe tbody tr th:only-of-type {\n",
       "        vertical-align: middle;\n",
       "    }\n",
       "\n",
       "    .dataframe tbody tr th {\n",
       "        vertical-align: top;\n",
       "    }\n",
       "\n",
       "    .dataframe thead th {\n",
       "        text-align: right;\n",
       "    }\n",
       "</style>\n",
       "<table border=\"1\" class=\"dataframe\">\n",
       "  <thead>\n",
       "    <tr style=\"text-align: right;\">\n",
       "      <th></th>\n",
       "      <th>maior</th>\n",
       "    </tr>\n",
       "  </thead>\n",
       "  <tbody>\n",
       "    <tr>\n",
       "      <th>0</th>\n",
       "      <td>806</td>\n",
       "    </tr>\n",
       "  </tbody>\n",
       "</table>\n",
       "</div>"
      ],
      "text/plain": [
       "   maior\n",
       "0    806"
      ]
     },
     "execution_count": 18,
     "metadata": {},
     "output_type": "execute_result"
    }
   ],
   "source": [
    "SQLSelect('''\n",
    "    select \n",
    "        maior = max(Proposicao)\n",
    "    from Proposicoes\n",
    "''')"
   ]
  },
  {
   "cell_type": "markdown",
   "metadata": {},
   "source": [
    "> E claro, vamos criar uma função para fazer a inserção dos dados na tabela ``Proposicoes``"
   ]
  },
  {
   "cell_type": "code",
   "execution_count": 19,
   "metadata": {},
   "outputs": [],
   "source": [
    "def SQLInsertProposicoes(TabelaProposicoes):\n",
    "\n",
    "    conn = pyodbc.connect('Trusted_Connection=yes', \n",
    "                          driver = '{ODBC Driver 17 for SQL Server}',\n",
    "                          server = 'localhost', \n",
    "                          database = 'Indaial')\n",
    "\n",
    "    cursor = conn.cursor()\n",
    "\n",
    "    for index, row in TabelaProposicoes.iterrows():\n",
    "\n",
    "        cursor.execute('''\n",
    "\n",
    "            INSERT INTO Proposicoes (\n",
    "                DataReuniao,\n",
    "                DataDeliberacao,\n",
    "                Situacao,\n",
    "                Assunto,\n",
    "                Autor,\n",
    "                Proposicao,\n",
    "                Ano,\n",
    "                Texto\n",
    "            ) \n",
    "            values(?,?,?,?,?,?,?,?)''', \n",
    "\n",
    "            row['Reunião'], \n",
    "            row['Deliberação'], \n",
    "            row['Situação'], \n",
    "            row['Assunto'], \n",
    "            row['Autor'], \n",
    "            row['Proposição'], \n",
    "            row['Ano'], \n",
    "            row['Texto']\n",
    "\n",
    "        )\n",
    "\n",
    "    conn.commit()\n",
    "    cursor.close()"
   ]
  },
  {
   "cell_type": "markdown",
   "metadata": {},
   "source": [
    "> E a facilidade continua...\n",
    ">\n",
    "> Vamos inserir dados (mesmo que duplicados) na tabela"
   ]
  },
  {
   "cell_type": "code",
   "execution_count": 23,
   "metadata": {},
   "outputs": [],
   "source": [
    "SQLInsertProposicoes(teste)"
   ]
  },
  {
   "cell_type": "code",
   "execution_count": 24,
   "metadata": {},
   "outputs": [
    {
     "data": {
      "text/html": [
       "<div>\n",
       "<style scoped>\n",
       "    .dataframe tbody tr th:only-of-type {\n",
       "        vertical-align: middle;\n",
       "    }\n",
       "\n",
       "    .dataframe tbody tr th {\n",
       "        vertical-align: top;\n",
       "    }\n",
       "\n",
       "    .dataframe thead th {\n",
       "        text-align: right;\n",
       "    }\n",
       "</style>\n",
       "<table border=\"1\" class=\"dataframe\">\n",
       "  <thead>\n",
       "    <tr style=\"text-align: right;\">\n",
       "      <th></th>\n",
       "      <th>DataReuniao</th>\n",
       "      <th>DataDeliberacao</th>\n",
       "      <th>Situacao</th>\n",
       "      <th>Assunto</th>\n",
       "      <th>Autor</th>\n",
       "      <th>Proposicao</th>\n",
       "      <th>Ano</th>\n",
       "      <th>Texto</th>\n",
       "    </tr>\n",
       "  </thead>\n",
       "  <tbody>\n",
       "    <tr>\n",
       "      <th>0</th>\n",
       "      <td>2021-06-29</td>\n",
       "      <td>2021-06-29</td>\n",
       "      <td>Proposição Aprovada</td>\n",
       "      <td>Pontes, Bueiros, boca de lobo</td>\n",
       "      <td>VereadorAnderson Luz dos Santos.</td>\n",
       "      <td>803</td>\n",
       "      <td>2021</td>\n",
       "      <td>O vereador que esta subscreve, no uso das atri...</td>\n",
       "    </tr>\n",
       "    <tr>\n",
       "      <th>1</th>\n",
       "      <td>2021-06-29</td>\n",
       "      <td>2021-06-29</td>\n",
       "      <td>Proposição Aprovada</td>\n",
       "      <td>Manutenção de via pública</td>\n",
       "      <td>VereadorAnderson Luz dos Santos.</td>\n",
       "      <td>804</td>\n",
       "      <td>2021</td>\n",
       "      <td>O vereador que esta subscreve, no uso das atri...</td>\n",
       "    </tr>\n",
       "    <tr>\n",
       "      <th>2</th>\n",
       "      <td>2021-06-29</td>\n",
       "      <td>2021-06-29</td>\n",
       "      <td>Proposição Aprovada</td>\n",
       "      <td>Limpeza, Macadamização, Patrolamento, Retifica...</td>\n",
       "      <td>VereadorAnderson Luz dos Santos.</td>\n",
       "      <td>805</td>\n",
       "      <td>2021</td>\n",
       "      <td>O vereador que esta subscreve, no uso das atri...</td>\n",
       "    </tr>\n",
       "    <tr>\n",
       "      <th>3</th>\n",
       "      <td>2021-06-29</td>\n",
       "      <td>2021-06-29</td>\n",
       "      <td>Proposição Aprovada</td>\n",
       "      <td>Manutenção de via pública</td>\n",
       "      <td>VereadorAnderson Luz dos Santos.</td>\n",
       "      <td>806</td>\n",
       "      <td>2021</td>\n",
       "      <td>O vereador que esta subscreve, no uso das atri...</td>\n",
       "    </tr>\n",
       "    <tr>\n",
       "      <th>4</th>\n",
       "      <td>2021-06-29</td>\n",
       "      <td>2021-06-29</td>\n",
       "      <td>Proposição Aprovada</td>\n",
       "      <td>Pontes, Bueiros, boca de lobo</td>\n",
       "      <td>VereadorAnderson Luz dos Santos.</td>\n",
       "      <td>803</td>\n",
       "      <td>2021</td>\n",
       "      <td>O vereador que esta subscreve, no uso das atri...</td>\n",
       "    </tr>\n",
       "    <tr>\n",
       "      <th>5</th>\n",
       "      <td>2021-06-29</td>\n",
       "      <td>2021-06-29</td>\n",
       "      <td>Proposição Aprovada</td>\n",
       "      <td>Manutenção de via pública</td>\n",
       "      <td>VereadorAnderson Luz dos Santos.</td>\n",
       "      <td>804</td>\n",
       "      <td>2021</td>\n",
       "      <td>O vereador que esta subscreve, no uso das atri...</td>\n",
       "    </tr>\n",
       "    <tr>\n",
       "      <th>6</th>\n",
       "      <td>2021-06-29</td>\n",
       "      <td>2021-06-29</td>\n",
       "      <td>Proposição Aprovada</td>\n",
       "      <td>Limpeza, Macadamização, Patrolamento, Retifica...</td>\n",
       "      <td>VereadorAnderson Luz dos Santos.</td>\n",
       "      <td>805</td>\n",
       "      <td>2021</td>\n",
       "      <td>O vereador que esta subscreve, no uso das atri...</td>\n",
       "    </tr>\n",
       "    <tr>\n",
       "      <th>7</th>\n",
       "      <td>2021-06-29</td>\n",
       "      <td>2021-06-29</td>\n",
       "      <td>Proposição Aprovada</td>\n",
       "      <td>Manutenção de via pública</td>\n",
       "      <td>VereadorAnderson Luz dos Santos.</td>\n",
       "      <td>806</td>\n",
       "      <td>2021</td>\n",
       "      <td>O vereador que esta subscreve, no uso das atri...</td>\n",
       "    </tr>\n",
       "    <tr>\n",
       "      <th>8</th>\n",
       "      <td>2021-06-29</td>\n",
       "      <td>2021-06-29</td>\n",
       "      <td>Proposição Aprovada</td>\n",
       "      <td>Pontes, Bueiros, boca de lobo</td>\n",
       "      <td>VereadorAnderson Luz dos Santos.</td>\n",
       "      <td>803</td>\n",
       "      <td>2021</td>\n",
       "      <td>O vereador que esta subscreve, no uso das atri...</td>\n",
       "    </tr>\n",
       "    <tr>\n",
       "      <th>9</th>\n",
       "      <td>2021-06-29</td>\n",
       "      <td>2021-06-29</td>\n",
       "      <td>Proposição Aprovada</td>\n",
       "      <td>Manutenção de via pública</td>\n",
       "      <td>VereadorAnderson Luz dos Santos.</td>\n",
       "      <td>804</td>\n",
       "      <td>2021</td>\n",
       "      <td>O vereador que esta subscreve, no uso das atri...</td>\n",
       "    </tr>\n",
       "    <tr>\n",
       "      <th>10</th>\n",
       "      <td>2021-06-29</td>\n",
       "      <td>2021-06-29</td>\n",
       "      <td>Proposição Aprovada</td>\n",
       "      <td>Limpeza, Macadamização, Patrolamento, Retifica...</td>\n",
       "      <td>VereadorAnderson Luz dos Santos.</td>\n",
       "      <td>805</td>\n",
       "      <td>2021</td>\n",
       "      <td>O vereador que esta subscreve, no uso das atri...</td>\n",
       "    </tr>\n",
       "    <tr>\n",
       "      <th>11</th>\n",
       "      <td>2021-06-29</td>\n",
       "      <td>2021-06-29</td>\n",
       "      <td>Proposição Aprovada</td>\n",
       "      <td>Manutenção de via pública</td>\n",
       "      <td>VereadorAnderson Luz dos Santos.</td>\n",
       "      <td>806</td>\n",
       "      <td>2021</td>\n",
       "      <td>O vereador que esta subscreve, no uso das atri...</td>\n",
       "    </tr>\n",
       "  </tbody>\n",
       "</table>\n",
       "</div>"
      ],
      "text/plain": [
       "   DataReuniao DataDeliberacao             Situacao  \\\n",
       "0   2021-06-29      2021-06-29  Proposição Aprovada   \n",
       "1   2021-06-29      2021-06-29  Proposição Aprovada   \n",
       "2   2021-06-29      2021-06-29  Proposição Aprovada   \n",
       "3   2021-06-29      2021-06-29  Proposição Aprovada   \n",
       "4   2021-06-29      2021-06-29  Proposição Aprovada   \n",
       "5   2021-06-29      2021-06-29  Proposição Aprovada   \n",
       "6   2021-06-29      2021-06-29  Proposição Aprovada   \n",
       "7   2021-06-29      2021-06-29  Proposição Aprovada   \n",
       "8   2021-06-29      2021-06-29  Proposição Aprovada   \n",
       "9   2021-06-29      2021-06-29  Proposição Aprovada   \n",
       "10  2021-06-29      2021-06-29  Proposição Aprovada   \n",
       "11  2021-06-29      2021-06-29  Proposição Aprovada   \n",
       "\n",
       "                                              Assunto  \\\n",
       "0                       Pontes, Bueiros, boca de lobo   \n",
       "1                           Manutenção de via pública   \n",
       "2   Limpeza, Macadamização, Patrolamento, Retifica...   \n",
       "3                           Manutenção de via pública   \n",
       "4                       Pontes, Bueiros, boca de lobo   \n",
       "5                           Manutenção de via pública   \n",
       "6   Limpeza, Macadamização, Patrolamento, Retifica...   \n",
       "7                           Manutenção de via pública   \n",
       "8                       Pontes, Bueiros, boca de lobo   \n",
       "9                           Manutenção de via pública   \n",
       "10  Limpeza, Macadamização, Patrolamento, Retifica...   \n",
       "11                          Manutenção de via pública   \n",
       "\n",
       "                               Autor  Proposicao   Ano  \\\n",
       "0   VereadorAnderson Luz dos Santos.         803  2021   \n",
       "1   VereadorAnderson Luz dos Santos.         804  2021   \n",
       "2   VereadorAnderson Luz dos Santos.         805  2021   \n",
       "3   VereadorAnderson Luz dos Santos.         806  2021   \n",
       "4   VereadorAnderson Luz dos Santos.         803  2021   \n",
       "5   VereadorAnderson Luz dos Santos.         804  2021   \n",
       "6   VereadorAnderson Luz dos Santos.         805  2021   \n",
       "7   VereadorAnderson Luz dos Santos.         806  2021   \n",
       "8   VereadorAnderson Luz dos Santos.         803  2021   \n",
       "9   VereadorAnderson Luz dos Santos.         804  2021   \n",
       "10  VereadorAnderson Luz dos Santos.         805  2021   \n",
       "11  VereadorAnderson Luz dos Santos.         806  2021   \n",
       "\n",
       "                                                Texto  \n",
       "0   O vereador que esta subscreve, no uso das atri...  \n",
       "1   O vereador que esta subscreve, no uso das atri...  \n",
       "2   O vereador que esta subscreve, no uso das atri...  \n",
       "3   O vereador que esta subscreve, no uso das atri...  \n",
       "4   O vereador que esta subscreve, no uso das atri...  \n",
       "5   O vereador que esta subscreve, no uso das atri...  \n",
       "6   O vereador que esta subscreve, no uso das atri...  \n",
       "7   O vereador que esta subscreve, no uso das atri...  \n",
       "8   O vereador que esta subscreve, no uso das atri...  \n",
       "9   O vereador que esta subscreve, no uso das atri...  \n",
       "10  O vereador que esta subscreve, no uso das atri...  \n",
       "11  O vereador que esta subscreve, no uso das atri...  "
      ]
     },
     "execution_count": 24,
     "metadata": {},
     "output_type": "execute_result"
    }
   ],
   "source": [
    "SQLSelect('''\n",
    "    select \n",
    "        *\n",
    "    from Proposicoes\n",
    "''')"
   ]
  },
  {
   "cell_type": "markdown",
   "metadata": {},
   "source": [
    "> Mas perceba que fizemos a inserção, só que queriamos ter limpado a tabela antes de fazer uma nova inserção, e vamos aproveitar a função de inserção e criar a de limpeza "
   ]
  },
  {
   "cell_type": "code",
   "execution_count": 34,
   "metadata": {},
   "outputs": [],
   "source": [
    "def SQLTruncate(NomeTabela):\n",
    "\n",
    "    conn = pyodbc.connect('Trusted_Connection=yes', \n",
    "                          driver = '{ODBC Driver 17 for SQL Server}',\n",
    "                          server = 'localhost', \n",
    "                          database = 'Indaial')\n",
    "\n",
    "    cursor = conn.cursor()\n",
    "\n",
    "    cursor.execute(f'''\n",
    "\n",
    "                   TRUNCATE TABLE {NomeTabela}\n",
    "\n",
    "                   ''')\n",
    "\n",
    "    conn.commit()\n",
    "    cursor.close()"
   ]
  },
  {
   "cell_type": "code",
   "execution_count": 37,
   "metadata": {},
   "outputs": [
    {
     "data": {
      "text/html": [
       "<div>\n",
       "<style scoped>\n",
       "    .dataframe tbody tr th:only-of-type {\n",
       "        vertical-align: middle;\n",
       "    }\n",
       "\n",
       "    .dataframe tbody tr th {\n",
       "        vertical-align: top;\n",
       "    }\n",
       "\n",
       "    .dataframe thead th {\n",
       "        text-align: right;\n",
       "    }\n",
       "</style>\n",
       "<table border=\"1\" class=\"dataframe\">\n",
       "  <thead>\n",
       "    <tr style=\"text-align: right;\">\n",
       "      <th></th>\n",
       "      <th>DataReuniao</th>\n",
       "      <th>DataDeliberacao</th>\n",
       "      <th>Situacao</th>\n",
       "      <th>Assunto</th>\n",
       "      <th>Autor</th>\n",
       "      <th>Proposicao</th>\n",
       "      <th>Ano</th>\n",
       "      <th>Texto</th>\n",
       "    </tr>\n",
       "  </thead>\n",
       "  <tbody>\n",
       "  </tbody>\n",
       "</table>\n",
       "</div>"
      ],
      "text/plain": [
       "Empty DataFrame\n",
       "Columns: [DataReuniao, DataDeliberacao, Situacao, Assunto, Autor, Proposicao, Ano, Texto]\n",
       "Index: []"
      ]
     },
     "execution_count": 37,
     "metadata": {},
     "output_type": "execute_result"
    }
   ],
   "source": [
    "# Limpando dados da tabela\n",
    "SQLTruncate('Proposicoes')\n",
    "\n",
    "# Visualizando a tabela\n",
    "SQLSelect('select *from Proposicoes')"
   ]
  },
  {
   "cell_type": "markdown",
   "metadata": {},
   "source": [
    "> [Acesse Aqui](https://docs.python.org/pt-br/3/tutorial/inputoutput.html) a documentação oficial do Python, e veja eles demontrando essa técnica do ``f`` defronte o texto, a qual se denomina ``string literal formatada``"
   ]
  },
  {
   "cell_type": "markdown",
   "metadata": {},
   "source": [
    "> Voltando à nossa função de inserção de dados, optamos por não usar ``strings literais formatadas`` pois teriamos que carregar uma variável para cada coluna, e naquele caso, achamos mais produtivo fazer da forma que foi demonstrada."
   ]
  },
  {
   "cell_type": "markdown",
   "metadata": {},
   "source": [
    "> Agora que sabemos CRIAR, LIMPAR, e SELECIONAR dados de uma tabela via SQL, podemos automatizar a inserção de dados nela"
   ]
  },
  {
   "cell_type": "markdown",
   "metadata": {},
   "source": [
    "# <font color=green> 3. ALIMENTAÇÃO INCREMENTAL"
   ]
  },
  {
   "cell_type": "markdown",
   "metadata": {},
   "source": [
    "> Algo que temos que ter em mente, é o seguinte fluxo:"
   ]
  },
  {
   "cell_type": "markdown",
   "metadata": {},
   "source": [
    "<center><img width=\"100%\" src=\"img/loop.png\"></center>"
   ]
  },
  {
   "cell_type": "markdown",
   "metadata": {},
   "source": [
    "> A expressão ``Atualização Incremental`` está tão na moda entre os desenvolvedores de Power BI hoje em dia, mas, para os desenvolvedores em geral, isso é mais velho que andar pra frente."
   ]
  },
  {
   "cell_type": "markdown",
   "metadata": {},
   "source": [
    "> Em resumo, o que vamos fazer é uma adequação de nossas funções, para que possamos usar o loop ``while``, e conforme as buscas forem efetuadas, já sejam gravadas no banco."
   ]
  },
  {
   "cell_type": "markdown",
   "metadata": {},
   "source": [
    "> Ai nesse momento, você me pergunta:\n",
    ">>\n",
    ">> *Mas não seria melhor carregar a tabela toda primeiro, e depois gravar no banco?*\n",
    ">>\n",
    "> Eu respondo com essa imagem..."
   ]
  },
  {
   "cell_type": "markdown",
   "metadata": {},
   "source": [
    "<center><img width=\"100%\" src=\"img/dino2.jpg\"></center>"
   ]
  },
  {
   "cell_type": "markdown",
   "metadata": {},
   "source": [
    "> Vamos supor que você tenha colocado seu algoritmo a rodar, já buscou (virtualmente) os dados de 1996 até 2016 (falta só 2017 a 2020), e do nada, cai sua internet."
   ]
  },
  {
   "cell_type": "markdown",
   "metadata": {},
   "source": [
    "> Estamos a mercê disso, e temos que nos previnir."
   ]
  },
  {
   "cell_type": "markdown",
   "metadata": {},
   "source": [
    "### 3.1 MODIFICANDO NOSSA FUNÇÃO DE BUSCA"
   ]
  },
  {
   "cell_type": "markdown",
   "metadata": {},
   "source": [
    "> Vamos isolar a operação na inserção de 1 Proposição buscada"
   ]
  },
  {
   "cell_type": "code",
   "execution_count": 121,
   "metadata": {},
   "outputs": [
    {
     "data": {
      "text/html": [
       "<div>\n",
       "<style scoped>\n",
       "    .dataframe tbody tr th:only-of-type {\n",
       "        vertical-align: middle;\n",
       "    }\n",
       "\n",
       "    .dataframe tbody tr th {\n",
       "        vertical-align: top;\n",
       "    }\n",
       "\n",
       "    .dataframe thead th {\n",
       "        text-align: right;\n",
       "    }\n",
       "</style>\n",
       "<table border=\"1\" class=\"dataframe\">\n",
       "  <thead>\n",
       "    <tr style=\"text-align: right;\">\n",
       "      <th></th>\n",
       "      <th>DataReuniao</th>\n",
       "      <th>DataDeliberacao</th>\n",
       "      <th>Situacao</th>\n",
       "      <th>Assunto</th>\n",
       "      <th>Autor</th>\n",
       "      <th>Proposicao</th>\n",
       "      <th>Ano</th>\n",
       "      <th>Texto</th>\n",
       "    </tr>\n",
       "  </thead>\n",
       "  <tbody>\n",
       "    <tr>\n",
       "      <th>0</th>\n",
       "      <td>2021-02-11</td>\n",
       "      <td>2021-02-11</td>\n",
       "      <td>Proposição Aprovada</td>\n",
       "      <td>Manutenção de via pública</td>\n",
       "      <td>VereadorValentim Blasius.</td>\n",
       "      <td>200</td>\n",
       "      <td>2021</td>\n",
       "      <td>O Vereador abaixo firmado requer, após ouvido ...</td>\n",
       "    </tr>\n",
       "  </tbody>\n",
       "</table>\n",
       "</div>"
      ],
      "text/plain": [
       "  DataReuniao DataDeliberacao             Situacao                    Assunto  \\\n",
       "0  2021-02-11      2021-02-11  Proposição Aprovada  Manutenção de via pública   \n",
       "\n",
       "                       Autor  Proposicao   Ano  \\\n",
       "0  VereadorValentim Blasius.         200  2021   \n",
       "\n",
       "                                               Texto  \n",
       "0  O Vereador abaixo firmado requer, após ouvido ...  "
      ]
     },
     "execution_count": 121,
     "metadata": {},
     "output_type": "execute_result"
    }
   ],
   "source": [
    "# Limpar os dados da tabela só pra demonstração\n",
    "SQLTruncate('Proposicoes')\n",
    "\n",
    "\n",
    "# ========= INICIO =========\n",
    "proposicao = 200\n",
    "ano = 2021\n",
    "dados = Conteudo(proposicao,ano)\n",
    "tabela = pd.DataFrame([dados])\n",
    "SQLInsertProposicoes(tabela)\n",
    "# ========= FIM =========\n",
    "\n",
    "\n",
    "# visualizando dados\n",
    "SQLSelect(f'select * from Proposicoes where Proposicao = {proposicao} and Ano = {ano}')"
   ]
  },
  {
   "cell_type": "markdown",
   "metadata": {},
   "source": [
    "> Pensando em atualização incremental, cada consulta, tem que ser ``proposicao_anterior + 1``"
   ]
  },
  {
   "cell_type": "code",
   "execution_count": 84,
   "metadata": {},
   "outputs": [
    {
     "data": {
      "text/html": [
       "<div>\n",
       "<style scoped>\n",
       "    .dataframe tbody tr th:only-of-type {\n",
       "        vertical-align: middle;\n",
       "    }\n",
       "\n",
       "    .dataframe tbody tr th {\n",
       "        vertical-align: top;\n",
       "    }\n",
       "\n",
       "    .dataframe thead th {\n",
       "        text-align: right;\n",
       "    }\n",
       "</style>\n",
       "<table border=\"1\" class=\"dataframe\">\n",
       "  <thead>\n",
       "    <tr style=\"text-align: right;\">\n",
       "      <th></th>\n",
       "      <th>Proposicao</th>\n",
       "    </tr>\n",
       "  </thead>\n",
       "  <tbody>\n",
       "    <tr>\n",
       "      <th>0</th>\n",
       "      <td>200</td>\n",
       "    </tr>\n",
       "  </tbody>\n",
       "</table>\n",
       "</div>"
      ],
      "text/plain": [
       "   Proposicao\n",
       "0         200"
      ]
     },
     "execution_count": 84,
     "metadata": {},
     "output_type": "execute_result"
    }
   ],
   "source": [
    "ano = 2021\n",
    "dados = SQLSelect(f'select Proposicao = max(Proposicao) from Proposicoes where Ano = {ano}')\n",
    "dados"
   ]
  },
  {
   "cell_type": "code",
   "execution_count": 85,
   "metadata": {},
   "outputs": [
    {
     "data": {
      "text/plain": [
       "0    200\n",
       "Name: Proposicao, dtype: int64"
      ]
     },
     "execution_count": 85,
     "metadata": {},
     "output_type": "execute_result"
    }
   ],
   "source": [
    "# acessando a coluna\n",
    "dados['Proposicao']"
   ]
  },
  {
   "cell_type": "code",
   "execution_count": 92,
   "metadata": {},
   "outputs": [
    {
     "data": {
      "text/plain": [
       "200"
      ]
     },
     "execution_count": 92,
     "metadata": {},
     "output_type": "execute_result"
    }
   ],
   "source": [
    "# acessando a coluna e linha\n",
    "dados['Proposicao'].loc[0]"
   ]
  },
  {
   "cell_type": "code",
   "execution_count": 122,
   "metadata": {
    "scrolled": true
   },
   "outputs": [
    {
     "data": {
      "text/html": [
       "<div>\n",
       "<style scoped>\n",
       "    .dataframe tbody tr th:only-of-type {\n",
       "        vertical-align: middle;\n",
       "    }\n",
       "\n",
       "    .dataframe tbody tr th {\n",
       "        vertical-align: top;\n",
       "    }\n",
       "\n",
       "    .dataframe thead th {\n",
       "        text-align: right;\n",
       "    }\n",
       "</style>\n",
       "<table border=\"1\" class=\"dataframe\">\n",
       "  <thead>\n",
       "    <tr style=\"text-align: right;\">\n",
       "      <th></th>\n",
       "      <th>DataReuniao</th>\n",
       "      <th>DataDeliberacao</th>\n",
       "      <th>Situacao</th>\n",
       "      <th>Assunto</th>\n",
       "      <th>Autor</th>\n",
       "      <th>Proposicao</th>\n",
       "      <th>Ano</th>\n",
       "      <th>Texto</th>\n",
       "    </tr>\n",
       "  </thead>\n",
       "  <tbody>\n",
       "    <tr>\n",
       "      <th>0</th>\n",
       "      <td>2021-02-11</td>\n",
       "      <td>2021-02-11</td>\n",
       "      <td>Proposição Aprovada</td>\n",
       "      <td>Manutenção de via pública</td>\n",
       "      <td>VereadorValentim Blasius.</td>\n",
       "      <td>200</td>\n",
       "      <td>2021</td>\n",
       "      <td>O Vereador abaixo firmado requer, após ouvido ...</td>\n",
       "    </tr>\n",
       "    <tr>\n",
       "      <th>1</th>\n",
       "      <td>2021-02-11</td>\n",
       "      <td>2021-02-11</td>\n",
       "      <td>Proposição Aprovada</td>\n",
       "      <td>Limpeza, Macadamização, Patrolamento, Retifica...</td>\n",
       "      <td>VereadorValentim Blasius.</td>\n",
       "      <td>201</td>\n",
       "      <td>2021</td>\n",
       "      <td>O Vereador abaixo firmado requer, após ouvido ...</td>\n",
       "    </tr>\n",
       "  </tbody>\n",
       "</table>\n",
       "</div>"
      ],
      "text/plain": [
       "  DataReuniao DataDeliberacao             Situacao  \\\n",
       "0  2021-02-11      2021-02-11  Proposição Aprovada   \n",
       "1  2021-02-11      2021-02-11  Proposição Aprovada   \n",
       "\n",
       "                                             Assunto  \\\n",
       "0                          Manutenção de via pública   \n",
       "1  Limpeza, Macadamização, Patrolamento, Retifica...   \n",
       "\n",
       "                       Autor  Proposicao   Ano  \\\n",
       "0  VereadorValentim Blasius.         200  2021   \n",
       "1  VereadorValentim Blasius.         201  2021   \n",
       "\n",
       "                                               Texto  \n",
       "0  O Vereador abaixo firmado requer, após ouvido ...  \n",
       "1  O Vereador abaixo firmado requer, após ouvido ...  "
      ]
     },
     "execution_count": 122,
     "metadata": {},
     "output_type": "execute_result"
    }
   ],
   "source": [
    "# ========= INICIO =========\n",
    "ano = 2021\n",
    "\n",
    "dados_ano = SQLSelect(f'select Proposicao = max(Proposicao) from Proposicoes where Ano = {ano}')\n",
    "ultima_proposicao = dados_ano['Proposicao'].loc[0]\n",
    "\n",
    "proxima_proposicao = int(ultima_proposicao) + 1\n",
    "\n",
    "dados = Conteudo(proxima_proposicao,ano)\n",
    "tabela = pd.DataFrame([dados])\n",
    "SQLInsertProposicoes(tabela)\n",
    "# ========= FIM =========\n",
    "\n",
    "\n",
    "# visualizando dados\n",
    "SQLSelect('select * from Proposicoes')"
   ]
  },
  {
   "cell_type": "code",
   "execution_count": 216,
   "metadata": {},
   "outputs": [
    {
     "data": {
      "text/html": [
       "<div>\n",
       "<style scoped>\n",
       "    .dataframe tbody tr th:only-of-type {\n",
       "        vertical-align: middle;\n",
       "    }\n",
       "\n",
       "    .dataframe tbody tr th {\n",
       "        vertical-align: top;\n",
       "    }\n",
       "\n",
       "    .dataframe thead th {\n",
       "        text-align: right;\n",
       "    }\n",
       "</style>\n",
       "<table border=\"1\" class=\"dataframe\">\n",
       "  <thead>\n",
       "    <tr style=\"text-align: right;\">\n",
       "      <th></th>\n",
       "      <th>DataReuniao</th>\n",
       "      <th>DataDeliberacao</th>\n",
       "      <th>Situacao</th>\n",
       "      <th>Assunto</th>\n",
       "      <th>Autor</th>\n",
       "      <th>Proposicao</th>\n",
       "      <th>Ano</th>\n",
       "      <th>Texto</th>\n",
       "    </tr>\n",
       "  </thead>\n",
       "  <tbody>\n",
       "  </tbody>\n",
       "</table>\n",
       "</div>"
      ],
      "text/plain": [
       "Empty DataFrame\n",
       "Columns: [DataReuniao, DataDeliberacao, Situacao, Assunto, Autor, Proposicao, Ano, Texto]\n",
       "Index: []"
      ]
     },
     "execution_count": 216,
     "metadata": {},
     "output_type": "execute_result"
    }
   ],
   "source": [
    "# Limpando dados da tabela\n",
    "SQLTruncate('Proposicoes')\n",
    "\n",
    "# Visualizando a tabela\n",
    "SQLSelect('select *from Proposicoes')"
   ]
  },
  {
   "cell_type": "code",
   "execution_count": 190,
   "metadata": {},
   "outputs": [],
   "source": [
    "def InsereProposicao(ano, a_partir = 0):\n",
    "\n",
    "    ultima_proposicao = SQLSelect(f'select Proposicao = max(Proposicao) from Proposicoes where Ano = {str(ano)}')\n",
    "    ultima_proposicao = ultima_proposicao['Proposicao'].loc[0]\n",
    "    \n",
    "    # Se a Tabela estiver em branco...\n",
    "    proposicoes_ano = SQLSelect(f'select qtd = count(*) from Proposicoes where Ano = {str(ano)}')['qtd'][0]\n",
    "    \n",
    "    if proposicoes_ano > 0:\n",
    "        proxima_proposicao = int(ultima_proposicao) + 1       + a_partir\n",
    "    else:\n",
    "        proxima_proposicao = 1\n",
    "\n",
    "    dados = Conteudo(proxima_proposicao,ano)\n",
    "    tabela = pd.DataFrame([dados])\n",
    "    SQLInsertProposicoes(tabela)"
   ]
  },
  {
   "cell_type": "code",
   "execution_count": 193,
   "metadata": {},
   "outputs": [
    {
     "data": {
      "text/html": [
       "<div>\n",
       "<style scoped>\n",
       "    .dataframe tbody tr th:only-of-type {\n",
       "        vertical-align: middle;\n",
       "    }\n",
       "\n",
       "    .dataframe tbody tr th {\n",
       "        vertical-align: top;\n",
       "    }\n",
       "\n",
       "    .dataframe thead th {\n",
       "        text-align: right;\n",
       "    }\n",
       "</style>\n",
       "<table border=\"1\" class=\"dataframe\">\n",
       "  <thead>\n",
       "    <tr style=\"text-align: right;\">\n",
       "      <th></th>\n",
       "      <th>DataReuniao</th>\n",
       "      <th>DataDeliberacao</th>\n",
       "      <th>Situacao</th>\n",
       "      <th>Assunto</th>\n",
       "      <th>Autor</th>\n",
       "      <th>Proposicao</th>\n",
       "      <th>Ano</th>\n",
       "      <th>Texto</th>\n",
       "    </tr>\n",
       "  </thead>\n",
       "  <tbody>\n",
       "    <tr>\n",
       "      <th>0</th>\n",
       "      <td>2021-02-01</td>\n",
       "      <td>2021-02-01</td>\n",
       "      <td>Proposição Aprovada</td>\n",
       "      <td>Trânsito</td>\n",
       "      <td>VereadorRemir José de Faveri.</td>\n",
       "      <td>1</td>\n",
       "      <td>2021</td>\n",
       "      <td>O vereador que esta subscreve, no uso das atri...</td>\n",
       "    </tr>\n",
       "    <tr>\n",
       "      <th>1</th>\n",
       "      <td>2021-02-01</td>\n",
       "      <td>2021-02-01</td>\n",
       "      <td>Proposição Aprovada</td>\n",
       "      <td>Manutenção de via pública</td>\n",
       "      <td>VereadorRemir José de Faveri.</td>\n",
       "      <td>2</td>\n",
       "      <td>2021</td>\n",
       "      <td>O vereador abaixo firmado requer, após ouvido ...</td>\n",
       "    </tr>\n",
       "    <tr>\n",
       "      <th>2</th>\n",
       "      <td>2021-02-01</td>\n",
       "      <td>2021-02-01</td>\n",
       "      <td>Proposição Aprovada</td>\n",
       "      <td>Manutenção de via pública</td>\n",
       "      <td>VereadorValentim Blasius.</td>\n",
       "      <td>3</td>\n",
       "      <td>2021</td>\n",
       "      <td>O vereador abaixo firmado requer, após ouvido ...</td>\n",
       "    </tr>\n",
       "    <tr>\n",
       "      <th>3</th>\n",
       "      <td>2021-02-01</td>\n",
       "      <td>2021-02-01</td>\n",
       "      <td>Proposição Aprovada</td>\n",
       "      <td>Manutenção de via pública</td>\n",
       "      <td>VereadorValentim Blasius.</td>\n",
       "      <td>4</td>\n",
       "      <td>2021</td>\n",
       "      <td>O vereador abaixo firmado requer, após ouvido ...</td>\n",
       "    </tr>\n",
       "    <tr>\n",
       "      <th>4</th>\n",
       "      <td>2021-02-01</td>\n",
       "      <td>2021-02-01</td>\n",
       "      <td>Proposição Aprovada</td>\n",
       "      <td>Manutenção de via pública</td>\n",
       "      <td>VereadorRoger Michel Knipers.</td>\n",
       "      <td>25</td>\n",
       "      <td>2021</td>\n",
       "      <td>O vereador que esta subscreve requer, após ouv...</td>\n",
       "    </tr>\n",
       "    <tr>\n",
       "      <th>5</th>\n",
       "      <td>2021-02-01</td>\n",
       "      <td>2021-02-01</td>\n",
       "      <td>Proposição Aprovada</td>\n",
       "      <td>Iluminação Pública e Rede de Energia Elétrica</td>\n",
       "      <td>VereadorRoger Michel Knipers.</td>\n",
       "      <td>26</td>\n",
       "      <td>2021</td>\n",
       "      <td>O vereador abaixo firmado requer, após ouvido ...</td>\n",
       "    </tr>\n",
       "  </tbody>\n",
       "</table>\n",
       "</div>"
      ],
      "text/plain": [
       "  DataReuniao DataDeliberacao             Situacao  \\\n",
       "0  2021-02-01      2021-02-01  Proposição Aprovada   \n",
       "1  2021-02-01      2021-02-01  Proposição Aprovada   \n",
       "2  2021-02-01      2021-02-01  Proposição Aprovada   \n",
       "3  2021-02-01      2021-02-01  Proposição Aprovada   \n",
       "4  2021-02-01      2021-02-01  Proposição Aprovada   \n",
       "5  2021-02-01      2021-02-01  Proposição Aprovada   \n",
       "\n",
       "                                         Assunto  \\\n",
       "0                                       Trânsito   \n",
       "1                      Manutenção de via pública   \n",
       "2                      Manutenção de via pública   \n",
       "3                      Manutenção de via pública   \n",
       "4                      Manutenção de via pública   \n",
       "5  Iluminação Pública e Rede de Energia Elétrica   \n",
       "\n",
       "                           Autor  Proposicao   Ano  \\\n",
       "0  VereadorRemir José de Faveri.           1  2021   \n",
       "1  VereadorRemir José de Faveri.           2  2021   \n",
       "2      VereadorValentim Blasius.           3  2021   \n",
       "3      VereadorValentim Blasius.           4  2021   \n",
       "4  VereadorRoger Michel Knipers.          25  2021   \n",
       "5  VereadorRoger Michel Knipers.          26  2021   \n",
       "\n",
       "                                               Texto  \n",
       "0  O vereador que esta subscreve, no uso das atri...  \n",
       "1  O vereador abaixo firmado requer, após ouvido ...  \n",
       "2  O vereador abaixo firmado requer, após ouvido ...  \n",
       "3  O vereador abaixo firmado requer, após ouvido ...  \n",
       "4  O vereador que esta subscreve requer, após ouv...  \n",
       "5  O vereador abaixo firmado requer, após ouvido ...  "
      ]
     },
     "execution_count": 193,
     "metadata": {},
     "output_type": "execute_result"
    }
   ],
   "source": [
    "InsereProposicao(2021) # o segundo argumento é opcional, pois está pré-carregado\n",
    "SQLSelect('select * from Proposicoes')"
   ]
  },
  {
   "cell_type": "code",
   "execution_count": null,
   "metadata": {},
   "outputs": [],
   "source": []
  },
  {
   "cell_type": "code",
   "execution_count": 222,
   "metadata": {},
   "outputs": [
    {
     "data": {
      "text/html": [
       "<div>\n",
       "<style scoped>\n",
       "    .dataframe tbody tr th:only-of-type {\n",
       "        vertical-align: middle;\n",
       "    }\n",
       "\n",
       "    .dataframe tbody tr th {\n",
       "        vertical-align: top;\n",
       "    }\n",
       "\n",
       "    .dataframe thead th {\n",
       "        text-align: right;\n",
       "    }\n",
       "</style>\n",
       "<table border=\"1\" class=\"dataframe\">\n",
       "  <thead>\n",
       "    <tr style=\"text-align: right;\">\n",
       "      <th></th>\n",
       "      <th>DataReuniao</th>\n",
       "      <th>DataDeliberacao</th>\n",
       "      <th>Situacao</th>\n",
       "      <th>Assunto</th>\n",
       "      <th>Autor</th>\n",
       "      <th>Proposicao</th>\n",
       "      <th>Ano</th>\n",
       "      <th>Texto</th>\n",
       "    </tr>\n",
       "  </thead>\n",
       "  <tbody>\n",
       "    <tr>\n",
       "      <th>0</th>\n",
       "      <td>2021-02-01</td>\n",
       "      <td>2021-02-01</td>\n",
       "      <td>Proposição Aprovada</td>\n",
       "      <td>Trânsito</td>\n",
       "      <td>VereadorRemir José de Faveri.</td>\n",
       "      <td>1</td>\n",
       "      <td>2021</td>\n",
       "      <td>O vereador que esta subscreve, no uso das atri...</td>\n",
       "    </tr>\n",
       "    <tr>\n",
       "      <th>1</th>\n",
       "      <td>2021-06-29</td>\n",
       "      <td>2021-06-29</td>\n",
       "      <td>Proposição Aprovada</td>\n",
       "      <td>Lixo; Lixeira</td>\n",
       "      <td>VereadorAnderson Luz dos Santos.</td>\n",
       "      <td>800</td>\n",
       "      <td>2021</td>\n",
       "      <td>O vereador que esta subscreve, no uso das atri...</td>\n",
       "    </tr>\n",
       "    <tr>\n",
       "      <th>2</th>\n",
       "      <td>2021-06-29</td>\n",
       "      <td>2021-06-29</td>\n",
       "      <td>Proposição Aprovada</td>\n",
       "      <td>Pontes, Bueiros, boca de lobo</td>\n",
       "      <td>VereadorAnderson Luz dos Santos.</td>\n",
       "      <td>801</td>\n",
       "      <td>2021</td>\n",
       "      <td>O vereador que esta subscreve, no uso das atri...</td>\n",
       "    </tr>\n",
       "  </tbody>\n",
       "</table>\n",
       "</div>"
      ],
      "text/plain": [
       "  DataReuniao DataDeliberacao             Situacao  \\\n",
       "0  2021-02-01      2021-02-01  Proposição Aprovada   \n",
       "1  2021-06-29      2021-06-29  Proposição Aprovada   \n",
       "2  2021-06-29      2021-06-29  Proposição Aprovada   \n",
       "\n",
       "                         Assunto                             Autor  \\\n",
       "0                       Trânsito     VereadorRemir José de Faveri.   \n",
       "1                  Lixo; Lixeira  VereadorAnderson Luz dos Santos.   \n",
       "2  Pontes, Bueiros, boca de lobo  VereadorAnderson Luz dos Santos.   \n",
       "\n",
       "   Proposicao   Ano                                              Texto  \n",
       "0           1  2021  O vereador que esta subscreve, no uso das atri...  \n",
       "1         800  2021  O vereador que esta subscreve, no uso das atri...  \n",
       "2         801  2021  O vereador que esta subscreve, no uso das atri...  "
      ]
     },
     "execution_count": 222,
     "metadata": {},
     "output_type": "execute_result"
    }
   ],
   "source": [
    "ano = 2021\n",
    "a_partir = 800\n",
    "\n",
    "# Verifica tabela gravada\n",
    "ultima_proposicao = SQLSelect(f'select Proposicao = max(Proposicao) from Proposicoes where Ano = {str(ano)}')\n",
    "ultima_proposicao = ultima_proposicao['Proposicao'].loc[0]\n",
    "\n",
    "# Verifica qual regra se sobrepõe\n",
    "try:\n",
    "    if ultima_proposicao >= a_partir:\n",
    "        ultima_proposicao\n",
    "    else:\n",
    "        ultima_proposicao = a_partir - 1\n",
    "except:\n",
    "    ultima_proposicao = 0\n",
    "        \n",
    "# Se a Tabela estiver em branco...\n",
    "proposicoes_ano = SQLSelect(f'select qtd = count(*) from Proposicoes where Ano = {str(ano)}')['qtd'][0]\n",
    "\n",
    "if proposicoes_ano > 0:\n",
    "    proxima_proposicao = int(ultima_proposicao) + 1      \n",
    "else:\n",
    "    proxima_proposicao = 1\n",
    "\n",
    "# Insere\n",
    "dados = Conteudo(proxima_proposicao,ano)\n",
    "tabela = pd.DataFrame([dados])\n",
    "SQLInsertProposicoes(tabela)\n",
    "\n",
    "SQLSelect('select * from Proposicoes')"
   ]
  },
  {
   "cell_type": "code",
   "execution_count": null,
   "metadata": {},
   "outputs": [],
   "source": []
  },
  {
   "cell_type": "code",
   "execution_count": null,
   "metadata": {},
   "outputs": [],
   "source": []
  },
  {
   "cell_type": "code",
   "execution_count": null,
   "metadata": {},
   "outputs": [],
   "source": []
  },
  {
   "cell_type": "code",
   "execution_count": null,
   "metadata": {},
   "outputs": [],
   "source": []
  },
  {
   "cell_type": "code",
   "execution_count": null,
   "metadata": {},
   "outputs": [],
   "source": []
  },
  {
   "cell_type": "code",
   "execution_count": null,
   "metadata": {},
   "outputs": [],
   "source": []
  },
  {
   "cell_type": "code",
   "execution_count": null,
   "metadata": {},
   "outputs": [],
   "source": []
  },
  {
   "cell_type": "code",
   "execution_count": null,
   "metadata": {},
   "outputs": [],
   "source": []
  },
  {
   "cell_type": "code",
   "execution_count": null,
   "metadata": {},
   "outputs": [],
   "source": []
  },
  {
   "cell_type": "markdown",
   "metadata": {},
   "source": [
    "---"
   ]
  },
  {
   "cell_type": "markdown",
   "metadata": {},
   "source": [
    "# <font color=green> SAIBA MAIS SOBRE MIM\n"
   ]
  },
  {
   "cell_type": "markdown",
   "metadata": {},
   "source": [
    "### Conheça meu trabalho\n",
    "\n",
    "<a href=\"https://www.joviano.com\">\n",
    "<img src=\"https://raw.githubusercontent.com/jovianosilveira/img/master/joviano-silveira-site-logo.png\" alt=\"joviano.com\" width=\"5%\">\n",
    "</a>\n",
    "\n",
    "<a href=\"https://www.youtube.com/jovianosilveira\">\n",
    "<img src=\"https://github.com/jovianosilveira/img/blob/master/joviano-silveira-youtube-logo.png?raw=true\" alt=\"joviano.com\" width=\"5%\">\n",
    "</a>\n",
    "\n",
    "<a href=\"http://www.linkedin.com/in/jovianosilveira\">\n",
    "<img src=\"https://github.com/jovianosilveira/img/blob/master/joviano-silveira-linkedin-logo.png?raw=true\" alt=\"joviano.com\" width=\"5%\">\n",
    "</a>\n",
    "\n",
    "<a href=\"https://www.instagram.com/jovi.silveira\">\n",
    "<img src=\"https://github.com/jovianosilveira/img/blob/master/joviano-silveira-instagram-logo.png?raw=true\" alt=\"joviano.com\" width=\"5%\">\n",
    "</a>\n",
    "\n",
    "<a href=\"https://www.facebook.com/jovi.silveira.cursos\">\n",
    "<img src=\"https://github.com/jovianosilveira/img/blob/master/joviano-silveira-facebook-logo.png?raw=true\" alt=\"joviano.com\" width=\"5%\">\n",
    "</a>"
   ]
  }
 ],
 "metadata": {
  "kernelspec": {
   "display_name": "Python 3",
   "language": "python",
   "name": "python3"
  },
  "language_info": {
   "codemirror_mode": {
    "name": "ipython",
    "version": 3
   },
   "file_extension": ".py",
   "mimetype": "text/x-python",
   "name": "python",
   "nbconvert_exporter": "python",
   "pygments_lexer": "ipython3",
   "version": "3.6.6"
  }
 },
 "nbformat": 4,
 "nbformat_minor": 4
}
