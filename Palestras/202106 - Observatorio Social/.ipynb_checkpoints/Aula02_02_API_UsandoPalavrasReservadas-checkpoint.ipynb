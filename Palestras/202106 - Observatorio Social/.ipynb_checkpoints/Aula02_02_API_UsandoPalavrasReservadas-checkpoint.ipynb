{
 "cells": [
  {
   "cell_type": "markdown",
   "metadata": {},
   "source": [
    "<center><img width=\"70%\" src=\"img/logo.png\"></center>"
   ]
  },
  {
   "cell_type": "markdown",
   "metadata": {},
   "source": [
    "# **Projeto Observatório Social - Prefeitura Municipal de Indaial / SC**\n",
    "### <font color='#DC143C'> *Webcrapping com Python | Criação e Alimentação de DW*\n",
    "*by [JOVIANO SILVEIRA](https://www.joviano.com)*\n",
    "\n",
    "---"
   ]
  },
  {
   "cell_type": "markdown",
   "metadata": {},
   "source": [
    "# <font color=green> 1. MOSTRANDO POSSIVEL ERRO EM API\n"
   ]
  },
  {
   "cell_type": "code",
   "execution_count": 1,
   "metadata": {},
   "outputs": [],
   "source": [
    "import requests\n",
    "import ast\n",
    "import pandas as pd"
   ]
  },
  {
   "cell_type": "code",
   "execution_count": 2,
   "metadata": {},
   "outputs": [
    {
     "data": {
      "text/html": [
       "<div>\n",
       "<style scoped>\n",
       "    .dataframe tbody tr th:only-of-type {\n",
       "        vertical-align: middle;\n",
       "    }\n",
       "\n",
       "    .dataframe tbody tr th {\n",
       "        vertical-align: top;\n",
       "    }\n",
       "\n",
       "    .dataframe thead th {\n",
       "        text-align: right;\n",
       "    }\n",
       "</style>\n",
       "<table border=\"1\" class=\"dataframe\">\n",
       "  <thead>\n",
       "    <tr style=\"text-align: right;\">\n",
       "      <th></th>\n",
       "      <th>id</th>\n",
       "      <th>NomeCompleto</th>\n",
       "      <th>DataNascimento</th>\n",
       "      <th>Salario</th>\n",
       "    </tr>\n",
       "  </thead>\n",
       "  <tbody>\n",
       "    <tr>\n",
       "      <th>0</th>\n",
       "      <td>1</td>\n",
       "      <td>Kim Abercrombie</td>\n",
       "      <td>19720515</td>\n",
       "      <td>5796</td>\n",
       "    </tr>\n",
       "    <tr>\n",
       "      <th>1</th>\n",
       "      <td>2</td>\n",
       "      <td>Sagiv Hadaya</td>\n",
       "      <td>19770603</td>\n",
       "      <td>5796</td>\n",
       "    </tr>\n",
       "    <tr>\n",
       "      <th>2</th>\n",
       "      <td>3</td>\n",
       "      <td>Luka Abrus</td>\n",
       "      <td>19641213</td>\n",
       "      <td>5796</td>\n",
       "    </tr>\n",
       "    <tr>\n",
       "      <th>3</th>\n",
       "      <td>4</td>\n",
       "      <td>Kirk Nason</td>\n",
       "      <td>19650123</td>\n",
       "      <td>5796</td>\n",
       "    </tr>\n",
       "    <tr>\n",
       "      <th>4</th>\n",
       "      <td>5</td>\n",
       "      <td>Humberto Acevedo</td>\n",
       "      <td>19650123</td>\n",
       "      <td>5796</td>\n",
       "    </tr>\n",
       "    <tr>\n",
       "      <th>...</th>\n",
       "      <td>...</td>\n",
       "      <td>...</td>\n",
       "      <td>...</td>\n",
       "      <td>...</td>\n",
       "    </tr>\n",
       "    <tr>\n",
       "      <th>288</th>\n",
       "      <td>292</td>\n",
       "      <td>Nuria Gonzalez</td>\n",
       "      <td>19651031</td>\n",
       "      <td>1700</td>\n",
       "    </tr>\n",
       "    <tr>\n",
       "      <th>289</th>\n",
       "      <td>293</td>\n",
       "      <td>Stuart Glasson</td>\n",
       "      <td>19680206</td>\n",
       "      <td>1950</td>\n",
       "    </tr>\n",
       "    <tr>\n",
       "      <th>290</th>\n",
       "      <td>294</td>\n",
       "      <td>Daniel Goldschmidt</td>\n",
       "      <td>19650211</td>\n",
       "      <td>1000</td>\n",
       "    </tr>\n",
       "    <tr>\n",
       "      <th>291</th>\n",
       "      <td>295</td>\n",
       "      <td>Gerhard Goeschl</td>\n",
       "      <td>19650809</td>\n",
       "      <td>1750</td>\n",
       "    </tr>\n",
       "    <tr>\n",
       "      <th>292</th>\n",
       "      <td>296</td>\n",
       "      <td>Jossef Goldberg</td>\n",
       "      <td>19610418</td>\n",
       "      <td>1800</td>\n",
       "    </tr>\n",
       "  </tbody>\n",
       "</table>\n",
       "<p>293 rows × 4 columns</p>\n",
       "</div>"
      ],
      "text/plain": [
       "      id        NomeCompleto DataNascimento Salario\n",
       "0      1     Kim Abercrombie       19720515    5796\n",
       "1      2        Sagiv Hadaya       19770603    5796\n",
       "2      3          Luka Abrus       19641213    5796\n",
       "3      4          Kirk Nason       19650123    5796\n",
       "4      5    Humberto Acevedo       19650123    5796\n",
       "..   ...                 ...            ...     ...\n",
       "288  292      Nuria Gonzalez       19651031    1700\n",
       "289  293      Stuart Glasson       19680206    1950\n",
       "290  294  Daniel Goldschmidt       19650211    1000\n",
       "291  295     Gerhard Goeschl       19650809    1750\n",
       "292  296     Jossef Goldberg       19610418    1800\n",
       "\n",
       "[293 rows x 4 columns]"
      ]
     },
     "execution_count": 2,
     "metadata": {},
     "output_type": "execute_result"
    }
   ],
   "source": [
    "# Na Aula Passada\n",
    "url = \"http://api.willcode.tech/funcionarios/?USUARIO=USUARIO&SENHA=SENHA_SECRETA&ACAO=LISTAR-TODOS\"\n",
    "\n",
    "payload={}\n",
    "headers = {}\n",
    "\n",
    "response = requests.request(\"GET\", url, headers=headers, data=payload)\n",
    "pd.DataFrame.from_dict(ast.literal_eval(response.text))"
   ]
  },
  {
   "cell_type": "markdown",
   "metadata": {},
   "source": [
    "> Criamos um erro incluindo um ``&SHOW_EMPTY`` em nossa API, a qual, inclui 3 pessoas com cadastro zoado"
   ]
  },
  {
   "cell_type": "code",
   "execution_count": 3,
   "metadata": {},
   "outputs": [],
   "source": [
    "url = \"http://api.willcode.tech/funcionarios/?USUARIO=USUARIO&SENHA=SENHA_SECRETA&ACAO=LISTAR-TODOS&SHOW_EMPTY\"\n",
    "\n",
    "payload={}\n",
    "headers = {}\n",
    "\n",
    "response = requests.request(\"GET\", url, headers=headers, data=payload)"
   ]
  },
  {
   "cell_type": "code",
   "execution_count": 4,
   "metadata": {},
   "outputs": [
    {
     "ename": "ValueError",
     "evalue": "malformed node or string: <_ast.Name object at 0x0000024519A08320>",
     "output_type": "error",
     "traceback": [
      "\u001b[1;31m---------------------------------------------------------------------------\u001b[0m",
      "\u001b[1;31mValueError\u001b[0m                                Traceback (most recent call last)",
      "\u001b[1;32m<ipython-input-4-149e8b275a5a>\u001b[0m in \u001b[0;36m<module>\u001b[1;34m\u001b[0m\n\u001b[1;32m----> 1\u001b[1;33m \u001b[0mpd\u001b[0m\u001b[1;33m.\u001b[0m\u001b[0mDataFrame\u001b[0m\u001b[1;33m.\u001b[0m\u001b[0mfrom_dict\u001b[0m\u001b[1;33m(\u001b[0m\u001b[0mast\u001b[0m\u001b[1;33m.\u001b[0m\u001b[0mliteral_eval\u001b[0m\u001b[1;33m(\u001b[0m\u001b[0mresponse\u001b[0m\u001b[1;33m.\u001b[0m\u001b[0mtext\u001b[0m\u001b[1;33m)\u001b[0m\u001b[1;33m)\u001b[0m\u001b[1;33m\u001b[0m\u001b[0m\n\u001b[0m",
      "\u001b[1;32mc:\\python\\lib\\ast.py\u001b[0m in \u001b[0;36mliteral_eval\u001b[1;34m(node_or_string)\u001b[0m\n\u001b[0;32m     83\u001b[0m                     \u001b[1;32mreturn\u001b[0m \u001b[0mleft\u001b[0m \u001b[1;33m-\u001b[0m \u001b[0mright\u001b[0m\u001b[1;33m\u001b[0m\u001b[0m\n\u001b[0;32m     84\u001b[0m         \u001b[1;32mraise\u001b[0m \u001b[0mValueError\u001b[0m\u001b[1;33m(\u001b[0m\u001b[1;34m'malformed node or string: '\u001b[0m \u001b[1;33m+\u001b[0m \u001b[0mrepr\u001b[0m\u001b[1;33m(\u001b[0m\u001b[0mnode\u001b[0m\u001b[1;33m)\u001b[0m\u001b[1;33m)\u001b[0m\u001b[1;33m\u001b[0m\u001b[0m\n\u001b[1;32m---> 85\u001b[1;33m     \u001b[1;32mreturn\u001b[0m \u001b[0m_convert\u001b[0m\u001b[1;33m(\u001b[0m\u001b[0mnode_or_string\u001b[0m\u001b[1;33m)\u001b[0m\u001b[1;33m\u001b[0m\u001b[0m\n\u001b[0m\u001b[0;32m     86\u001b[0m \u001b[1;33m\u001b[0m\u001b[0m\n\u001b[0;32m     87\u001b[0m \u001b[1;33m\u001b[0m\u001b[0m\n",
      "\u001b[1;32mc:\\python\\lib\\ast.py\u001b[0m in \u001b[0;36m_convert\u001b[1;34m(node)\u001b[0m\n\u001b[0;32m     59\u001b[0m             \u001b[1;32mreturn\u001b[0m \u001b[0mtuple\u001b[0m\u001b[1;33m(\u001b[0m\u001b[0mmap\u001b[0m\u001b[1;33m(\u001b[0m\u001b[0m_convert\u001b[0m\u001b[1;33m,\u001b[0m \u001b[0mnode\u001b[0m\u001b[1;33m.\u001b[0m\u001b[0melts\u001b[0m\u001b[1;33m)\u001b[0m\u001b[1;33m)\u001b[0m\u001b[1;33m\u001b[0m\u001b[0m\n\u001b[0;32m     60\u001b[0m         \u001b[1;32melif\u001b[0m \u001b[0misinstance\u001b[0m\u001b[1;33m(\u001b[0m\u001b[0mnode\u001b[0m\u001b[1;33m,\u001b[0m \u001b[0mList\u001b[0m\u001b[1;33m)\u001b[0m\u001b[1;33m:\u001b[0m\u001b[1;33m\u001b[0m\u001b[0m\n\u001b[1;32m---> 61\u001b[1;33m             \u001b[1;32mreturn\u001b[0m \u001b[0mlist\u001b[0m\u001b[1;33m(\u001b[0m\u001b[0mmap\u001b[0m\u001b[1;33m(\u001b[0m\u001b[0m_convert\u001b[0m\u001b[1;33m,\u001b[0m \u001b[0mnode\u001b[0m\u001b[1;33m.\u001b[0m\u001b[0melts\u001b[0m\u001b[1;33m)\u001b[0m\u001b[1;33m)\u001b[0m\u001b[1;33m\u001b[0m\u001b[0m\n\u001b[0m\u001b[0;32m     62\u001b[0m         \u001b[1;32melif\u001b[0m \u001b[0misinstance\u001b[0m\u001b[1;33m(\u001b[0m\u001b[0mnode\u001b[0m\u001b[1;33m,\u001b[0m \u001b[0mSet\u001b[0m\u001b[1;33m)\u001b[0m\u001b[1;33m:\u001b[0m\u001b[1;33m\u001b[0m\u001b[0m\n\u001b[0;32m     63\u001b[0m             \u001b[1;32mreturn\u001b[0m \u001b[0mset\u001b[0m\u001b[1;33m(\u001b[0m\u001b[0mmap\u001b[0m\u001b[1;33m(\u001b[0m\u001b[0m_convert\u001b[0m\u001b[1;33m,\u001b[0m \u001b[0mnode\u001b[0m\u001b[1;33m.\u001b[0m\u001b[0melts\u001b[0m\u001b[1;33m)\u001b[0m\u001b[1;33m)\u001b[0m\u001b[1;33m\u001b[0m\u001b[0m\n",
      "\u001b[1;32mc:\\python\\lib\\ast.py\u001b[0m in \u001b[0;36m_convert\u001b[1;34m(node)\u001b[0m\n\u001b[0;32m     64\u001b[0m         \u001b[1;32melif\u001b[0m \u001b[0misinstance\u001b[0m\u001b[1;33m(\u001b[0m\u001b[0mnode\u001b[0m\u001b[1;33m,\u001b[0m \u001b[0mDict\u001b[0m\u001b[1;33m)\u001b[0m\u001b[1;33m:\u001b[0m\u001b[1;33m\u001b[0m\u001b[0m\n\u001b[0;32m     65\u001b[0m             return dict((_convert(k), _convert(v)) for k, v\n\u001b[1;32m---> 66\u001b[1;33m                         in zip(node.keys, node.values))\n\u001b[0m\u001b[0;32m     67\u001b[0m         \u001b[1;32melif\u001b[0m \u001b[0misinstance\u001b[0m\u001b[1;33m(\u001b[0m\u001b[0mnode\u001b[0m\u001b[1;33m,\u001b[0m \u001b[0mNameConstant\u001b[0m\u001b[1;33m)\u001b[0m\u001b[1;33m:\u001b[0m\u001b[1;33m\u001b[0m\u001b[0m\n\u001b[0;32m     68\u001b[0m             \u001b[1;32mreturn\u001b[0m \u001b[0mnode\u001b[0m\u001b[1;33m.\u001b[0m\u001b[0mvalue\u001b[0m\u001b[1;33m\u001b[0m\u001b[0m\n",
      "\u001b[1;32mc:\\python\\lib\\ast.py\u001b[0m in \u001b[0;36m<genexpr>\u001b[1;34m(.0)\u001b[0m\n\u001b[0;32m     63\u001b[0m             \u001b[1;32mreturn\u001b[0m \u001b[0mset\u001b[0m\u001b[1;33m(\u001b[0m\u001b[0mmap\u001b[0m\u001b[1;33m(\u001b[0m\u001b[0m_convert\u001b[0m\u001b[1;33m,\u001b[0m \u001b[0mnode\u001b[0m\u001b[1;33m.\u001b[0m\u001b[0melts\u001b[0m\u001b[1;33m)\u001b[0m\u001b[1;33m)\u001b[0m\u001b[1;33m\u001b[0m\u001b[0m\n\u001b[0;32m     64\u001b[0m         \u001b[1;32melif\u001b[0m \u001b[0misinstance\u001b[0m\u001b[1;33m(\u001b[0m\u001b[0mnode\u001b[0m\u001b[1;33m,\u001b[0m \u001b[0mDict\u001b[0m\u001b[1;33m)\u001b[0m\u001b[1;33m:\u001b[0m\u001b[1;33m\u001b[0m\u001b[0m\n\u001b[1;32m---> 65\u001b[1;33m             return dict((_convert(k), _convert(v)) for k, v\n\u001b[0m\u001b[0;32m     66\u001b[0m                         in zip(node.keys, node.values))\n\u001b[0;32m     67\u001b[0m         \u001b[1;32melif\u001b[0m \u001b[0misinstance\u001b[0m\u001b[1;33m(\u001b[0m\u001b[0mnode\u001b[0m\u001b[1;33m,\u001b[0m \u001b[0mNameConstant\u001b[0m\u001b[1;33m)\u001b[0m\u001b[1;33m:\u001b[0m\u001b[1;33m\u001b[0m\u001b[0m\n",
      "\u001b[1;32mc:\\python\\lib\\ast.py\u001b[0m in \u001b[0;36m_convert\u001b[1;34m(node)\u001b[0m\n\u001b[0;32m     82\u001b[0m                 \u001b[1;32melse\u001b[0m\u001b[1;33m:\u001b[0m\u001b[1;33m\u001b[0m\u001b[0m\n\u001b[0;32m     83\u001b[0m                     \u001b[1;32mreturn\u001b[0m \u001b[0mleft\u001b[0m \u001b[1;33m-\u001b[0m \u001b[0mright\u001b[0m\u001b[1;33m\u001b[0m\u001b[0m\n\u001b[1;32m---> 84\u001b[1;33m         \u001b[1;32mraise\u001b[0m \u001b[0mValueError\u001b[0m\u001b[1;33m(\u001b[0m\u001b[1;34m'malformed node or string: '\u001b[0m \u001b[1;33m+\u001b[0m \u001b[0mrepr\u001b[0m\u001b[1;33m(\u001b[0m\u001b[0mnode\u001b[0m\u001b[1;33m)\u001b[0m\u001b[1;33m)\u001b[0m\u001b[1;33m\u001b[0m\u001b[0m\n\u001b[0m\u001b[0;32m     85\u001b[0m     \u001b[1;32mreturn\u001b[0m \u001b[0m_convert\u001b[0m\u001b[1;33m(\u001b[0m\u001b[0mnode_or_string\u001b[0m\u001b[1;33m)\u001b[0m\u001b[1;33m\u001b[0m\u001b[0m\n\u001b[0;32m     86\u001b[0m \u001b[1;33m\u001b[0m\u001b[0m\n",
      "\u001b[1;31mValueError\u001b[0m: malformed node or string: <_ast.Name object at 0x0000024519A08320>"
     ]
    }
   ],
   "source": [
    "pd.DataFrame.from_dict(ast.literal_eval(response.text))"
   ]
  },
  {
   "cell_type": "code",
   "execution_count": 5,
   "metadata": {},
   "outputs": [
    {
     "data": {
      "text/plain": [
       "'[{\"id\":\"1\",\"NomeCompleto\":\"Kim Abercrombie\",\"DataNascimento\":\"19720515\",\"Salario\":\"5796\"},{\"id\":\"2\",\"NomeCompleto\":\"Sagiv Hadaya\",\"DataNascimento\":\"19770603\",\"Salario\":\"5796\"},{\"id\":\"3\",\"NomeCompleto\":\"Luka Abrus\",\"DataNascimento\":\"19641213\",\"Salario\":\"5796\"},{\"id\":\"4\",\"NomeCompleto\":\"Kirk Nason\",\"DataNascimento\":\"19650123\",\"Salario\":\"5796\"},{\"id\":\"5\",\"NomeCompleto\":\"Humberto Acevedo\",\"DataNascimento\":\"19650123\",\"Salario\":\"5796\"},{\"id\":\"6\",\"NomeCompleto\":\"Yoichiro Okada\",\"DataNascimento\":\"19490829\",\"Salario\":\"4400\"},{\"id\":\"7\",\"NomeCompleto\":\"Pilar Ackerman\",\"DataNascimento\":\"19650419\",\"Salario\":\"4400\"},{\"id\":\"8\",\"NomeCompleto\":\"Aaron Painter\",\"DataNascimento\":\"19650419\",\"Salario\":\"4400\"},{\"id\":\"9\",\"NomeCompleto\":\"Terry Adams\",\"DataNascimento\":\"19460216\",\"Salario\":\"4400\"},{\"id\":\"10\",\"NomeCompleto\":\"David Probst\",\"DataNascimento\":\"19460706\",\"Salario\":\"4400\"},{\"id\":\"11\",\"NomeCompleto\":\"Manoj Agarwal\",\"DataNascimento\":\"19421029\",\"Salario\":\"4400\"},{\"id\":\"12\",\"NomeCompleto\":\"Michael Raheem\",\"DataNascimento\":\"19460427\",\"Salario\":\"4400\"},{\"id\":\"13\",\"NomeCompleto\":\"David Ahs\",\"DataNascimento\":\"19490411\",\"Salario\":\"4400\"},{\"id\":\"14\",\"NomeCompleto\":\"Miguel Saenz\",\"DataNascimento\":\"19610901\",\"Salario\":\"2000\"},{\"id\":\"15\",\"NomeCompleto\":\"Kim Akers\",\"DataNascimento\":\"19461001\",\"Salario\":\"2000\"},{\"id\":\"16\",\"NomeCompleto\":\"Kate Taneyhill\",\"DataNascimento\":\"19460503\",\"Salario\":\"4400\"},{\"id\":\"17\",\"NomeCompleto\":\"David Alexander\",\"DataNascimento\":\"19460812\",\"Salario\":\"4400\"},{\"id\":\"18\",\"NomeCompleto\":\"Pieter Uittenbogaard\",\"DataNascimento\":\"19461109\",\"Salario\":\"20000\"},{\"id\":\"19\",\"NomeCompleto\":\"Michelle Alexander\",\"DataNascimento\":\"19460506\",\"Salario\":\"4400\"},{\"id\":\"20\",\"NomeCompleto\":\"Rene Valdes\",\"DataNascimento\":\"19460908\",\"Salario\":\"4400\"},{\"id\":\"21\",\"NomeCompleto\":\"Michael Allen\",\"DataNascimento\":\"19460430\",\"Salario\":\"4400\"},{\"id\":\"22\",\"NomeCompleto\":\"Rohinton Wadia\",\"DataNascimento\":\"19670615\",\"Salario\":\"4400\"},{\"id\":\"23\",\"NomeCompleto\":\"Luis Alverca\",\"DataNascimento\":\"19721204\",\"Salario\":\"4400\"},{\"id\":\"24\",\"NomeCompleto\":\"Ming-Yang Xie\",\"DataNascimento\":\"19521014\",\"Salario\":\"2000\"},{\"id\":\"25\",\"NomeCompleto\":\"Antonio Alwan\",\"DataNascimento\":\"19601118\",\"Salario\":\"2000\"},{\"id\":\"26\",\"NomeCompleto\":\"David Yalovsky\",\"DataNascimento\":\"19691203\",\"Salario\":\"4400\"},{\"id\":\"27\",\"NomeCompleto\":\"Oleg Anashkin\",\"DataNascimento\":\"19731126\",\"Salario\":\"4400\"},{\"id\":\"28\",\"NomeCompleto\":\"Marko Zajc\",\"DataNascimento\":\"19720204\",\"Salario\":\"4400\"},{\"id\":\"29\",\"NomeCompleto\":\"Christen Anderson\",\"DataNascimento\":\"19701215\",\"Salario\":\"4400\"},{\"id\":\"30\",\"NomeCompleto\":\"Mike Nash\",\"DataNascimento\":\"19670428\",\"Salario\":\"4400\"},{\"id\":\"31\",\"NomeCompleto\":\"Diogo Andrade\",\"DataNascimento\":\"19760630\",\"Salario\":\"4400\"},{\"id\":\"32\",\"NomeCompleto\":\"Aneta Olecka\",\"DataNascimento\":\"19660314\",\"Salario\":\"4400\"},{\"id\":\"33\",\"NomeCompleto\":\"Ben Andrews\",\"DataNascimento\":\"19790106\",\"Salario\":\"4400\"},{\"id\":\"34\",\"NomeCompleto\":\"Jae Pak\",\"DataNascimento\":\"19740926\",\"Salario\":\"2000\"},{\"id\":\"35\",\"NomeCompleto\":\"Roy Antebi\",\"DataNascimento\":\"19730827\",\"Salario\":\"950\"},{\"id\":\"36\",\"NomeCompleto\":\"Prithvi Raj\",\"DataNascimento\":\"19680320\",\"Salario\":\"1000\"},{\"id\":\"37\",\"NomeCompleto\":\"Luca Argentiero\",\"DataNascimento\":\"19670419\",\"Salario\":\"2000\"},{\"id\":\"38\",\"NomeCompleto\":\"Suriya Sajjateerakool\",\"DataNascimento\":\"19680227\",\"Salario\":\"1000\"},{\"id\":\"39\",\"NomeCompleto\":\"Zainal Arifin\",\"DataNascimento\":\"19800617\",\"Salario\":\"1000\"},{\"id\":\"40\",\"NomeCompleto\":\"Amy Strande\",\"DataNascimento\":\"19790309\",\"Salario\":\"2000\"},{\"id\":\"41\",\"NomeCompleto\":\"Ties Arts\",\"DataNascimento\":\"19741219\",\"Salario\":\"1000\"},{\"id\":\"42\",\"NomeCompleto\":\"Daniel Taylor\",\"DataNascimento\":\"19790517\",\"Salario\":\"1000\"},{\"id\":\"43\",\"NomeCompleto\":\"Ronen Ashkenazi\",\"DataNascimento\":\"19660419\",\"Salario\":\"2000\"},{\"id\":\"44\",\"NomeCompleto\":\"Hans-Walter Untch\",\"DataNascimento\":\"19660113\",\"Salario\":\"2000\"},{\"id\":\"45\",\"NomeCompleto\":\"Chris Ashton\",\"DataNascimento\":\"19621227\",\"Salario\":\"1000\"},{\"id\":\"46\",\"NomeCompleto\":\"Michael Vanderhyde\",\"DataNascimento\":\"19581019\",\"Salario\":\"2000\"},{\"id\":\"47\",\"NomeCompleto\":\"Vivian Atlas\",\"DataNascimento\":\"19790727\",\"Salario\":\"1000\"},{\"id\":\"48\",\"NomeCompleto\":\"Robin Wakefield\",\"DataNascimento\":\"19770621\",\"Salario\":\"2000\"},{\"id\":\"49\",\"NomeCompleto\":\"Anahita Bahrami\",\"DataNascimento\":\"19680818\",\"Salario\":\"2000\"},{\"id\":\"50\",\"NomeCompleto\":\"Pieter Wycoff\",\"DataNascimento\":\"19690806\",\"Salario\":\"1000\"},{\"id\":\"51\",\"NomeCompleto\":\"Dev Balasubramanian\",\"DataNascimento\":\"19660218\",\"Salario\":\"2000\"},{\"id\":\"52\",\"NomeCompleto\":\"Steven Wright\",\"DataNascimento\":\"19730503\",\"Salario\":\"1000\"},{\"id\":\"54\",\"NomeCompleto\":\"Eiji Yasuda\",\"DataNascimento\":\"19750310\",\"Salario\":\"1000\"},{\"id\":\"55\",\"NomeCompleto\":\"Ed Banti\",\"DataNascimento\":\"19750130\",\"Salario\":\"825\"},{\"id\":\"56\",\"NomeCompleto\":\"Mrina Natarajan\",\"DataNascimento\":\"19800529\",\"Salario\":\"3800\"},{\"id\":\"57\",\"NomeCompleto\":\"Dave Barnett\",\"DataNascimento\":\"19641116\",\"Salario\":\"375\"},{\"id\":\"58\",\"NomeCompleto\":\"Manuel Oliveira\",\"DataNascimento\":\"19760126\",\"Salario\":\"1450\"},{\"id\":\"59\",\"NomeCompleto\":\"Adam Barr\",\"DataNascimento\":\"19670127\",\"Salario\":\"425\"},{\"id\":\"60\",\"NomeCompleto\":\"Rok Palcic\",\"DataNascimento\":\"19680328\",\"Salario\":\"2325\"},{\"id\":\"61\",\"NomeCompleto\":\"Shai Bassli\",\"DataNascimento\":\"19660407\",\"Salario\":\"3000\"},{\"id\":\"62\",\"NomeCompleto\":\"Yossi Ran\",\"DataNascimento\":\"19761009\",\"Salario\":\"25\"},{\"id\":\"63\",\"NomeCompleto\":\"Shaun Beasley\",\"DataNascimento\":\"19731119\",\"Salario\":\"1050\"},{\"id\":\"64\",\"NomeCompleto\":\"Karolina Salas-Szlejter\",\"DataNascimento\":\"19670518\",\"Salario\":\"650\"},{\"id\":\"65\",\"NomeCompleto\":\"Anna Bedecs\",\"DataNascimento\":\"19780617\",\"Salario\":\"1725\"},{\"id\":\"66\",\"NomeCompleto\":\"Oliver Szimmetat\",\"DataNascimento\":\"19740513\",\"Salario\":\"3350\"},{\"id\":\"67\",\"NomeCompleto\":\"Ann Beebe\",\"DataNascimento\":\"19570402\",\"Salario\":\"250\"},{\"id\":\"68\",\"NomeCompleto\":\"Jeff Teper\",\"DataNascimento\":\"19750303\",\"Salario\":\"3550\"},{\"id\":\"69\",\"NomeCompleto\":\"Allie Bellew\",\"DataNascimento\":\"19690916\",\"Salario\":\"300\"},{\"id\":\"70\",\"NomeCompleto\":\"Siri Velauthapillai\",\"DataNascimento\":\"19701105\",\"Salario\":\"1650\"},{\"id\":\"71\",\"NomeCompleto\":\"Nuno Bento\",\"DataNascimento\":\"19770817\",\"Salario\":\"2400\"},{\"id\":\"72\",\"NomeCompleto\":\"Anne Wallace\",\"DataNascimento\":\"19741222\",\"Salario\":\"2550\"},{\"id\":\"73\",\"NomeCompleto\":\"Matt Berg\",\"DataNascimento\":\"19741112\",\"Salario\":\"2750\"},{\"id\":\"74\",\"NomeCompleto\":\"John Yokim\",\"DataNascimento\":\"19740601\",\"Salario\":\"2450\"},{\"id\":\"75\",\"NomeCompleto\":\"Antonio Bermejo\",\"DataNascimento\":\"19651206\",\"Salario\":\"925\"},{\"id\":\"76\",\"NomeCompleto\":\"Robert Zare\",\"DataNascimento\":\"19700530\",\"Salario\":\"3900\"},{\"id\":\"77\",\"NomeCompleto\":\"Michael Berroth\",\"DataNascimento\":\"19751226\",\"Salario\":\"2000\"},{\"id\":\"79\",\"NomeCompleto\":\"Jimmy Bischoff\",\"DataNascimento\":\"19660407\",\"Salario\":\"4100\"},{\"id\":\"80\",\"NomeCompleto\":\"Michael Neipper\",\"DataNascimento\":\"19770101\",\"Salario\":\"525\"},{\"id\":\"81\",\"NomeCompleto\":\"Ari Bixhorn\",\"DataNascimento\":\"19760706\",\"Salario\":\"3100\"},{\"id\":\"82\",\"NomeCompleto\":\"Paulo Neves\",\"DataNascimento\":\"19670811\",\"Salario\":\"575\"},{\"id\":\"83\",\"NomeCompleto\":\"Rex Bloesser\",\"DataNascimento\":\"19671105\",\"Salario\":\"1200\"},{\"id\":\"84\",\"NomeCompleto\":\"Aaron Nicholls\",\"DataNascimento\":\"19740902\",\"Salario\":\"2500\"},{\"id\":\"85\",\"NomeCompleto\":\"Tomasz Bochenek\",\"DataNascimento\":\"19680701\",\"Salario\":\"2275\"},{\"id\":\"86\",\"NomeCompleto\":\"Toby Nixon\",\"DataNascimento\":\"19781221\",\"Salario\":\"850\"},{\"id\":\"87\",\"NomeCompleto\":\"Corinna Bolender\",\"DataNascimento\":\"19621011\",\"Salario\":\"4650\"},{\"id\":\"88\",\"NomeCompleto\":\"Fabricio Noriega\",\"DataNascimento\":\"19710904\",\"Salario\":\"800\"},{\"id\":\"89\",\"NomeCompleto\":\"Raffaella Bonaldi\",\"DataNascimento\":\"19730802\",\"Salario\":\"3650\"},{\"id\":\"90\",\"NomeCompleto\":\"Jerry Orman\",\"DataNascimento\":\"19710126\",\"Salario\":\"1875\"},{\"id\":\"91\",\"NomeCompleto\":\"Laurent Bonnet\",\"DataNascimento\":\"19760620\",\"Salario\":\"450\"},{\"id\":\"92\",\"NomeCompleto\":\"Danni Ortman\",\"DataNascimento\":\"19660302\",\"Salario\":\"3850\"},{\"id\":\"93\",\"NomeCompleto\":\"Thomas Bouchard\",\"DataNascimento\":\"19781228\",\"Salario\":\"1225\"},{\"id\":\"94\",\"NomeCompleto\":\"Scott Oveson\",\"DataNascimento\":\"19790319\",\"Salario\":\"400\"},{\"id\":\"95\",\"NomeCompleto\":\"Marc Boyer\",\"DataNascimento\":\"19620715\",\"Salario\":\"1475\"},{\"id\":\"96\",\"NomeCompleto\":\"Tude Palma\",\"DataNascimento\":\"19660326\",\"Salario\":\"3050\"},{\"id\":\"97\",\"NomeCompleto\":\"Peter Bankov\",\"DataNascimento\":\"19690429\",\"Salario\":\"50\"},{\"id\":\"98\",\"NomeCompleto\":\"Dan Park\",\"DataNascimento\":\"19711208\",\"Salario\":\"2250\"},{\"id\":\"99\",\"NomeCompleto\":\"Bryan Bredehoeft\",\"DataNascimento\":\"19711208\",\"Salario\":\"2250\"},{\"id\":\"100\",\"NomeCompleto\":\"Rajesh Patel\",\"DataNascimento\":\"19791208\",\"Salario\":\"1075\"},{\"id\":\"101\",\"NomeCompleto\":\"Alan Brewer\",\"DataNascimento\":\"19770313\",\"Salario\":\"2150\"},{\"id\":\"102\",\"NomeCompleto\":\"Dorena Paschke\",\"DataNascimento\":\"19810204\",\"Salario\":\"1750\"},{\"id\":\"103\",\"NomeCompleto\":\"Nick Brigandi\",\"DataNascimento\":\"19641024\",\"Salario\":\"275\"},{\"id\":\"104\",\"NomeCompleto\":\"Leonids Paturskis\",\"DataNascimento\":\"19670307\",\"Salario\":\"325\"},{\"id\":\"105\",\"NomeCompleto\":\"Allison Brown\",\"DataNascimento\":\"19710728\",\"Salario\":\"3600\"},{\"id\":\"106\",\"NomeCompleto\":\"Yael Peled\",\"DataNascimento\":\"19540723\",\"Salario\":\"2800\"},{\"id\":\"107\",\"NomeCompleto\":\"Robert Brown\",\"DataNascimento\":\"19630225\",\"Salario\":\"175\"},{\"id\":\"108\",\"NomeCompleto\":\"Lori Penor\",\"DataNascimento\":\"19770313\",\"Salario\":\"1350\"},{\"id\":\"109\",\"NomeCompleto\":\"Daniel Brunner\",\"DataNascimento\":\"19521014\",\"Salario\":\"2300\"},{\"id\":\"110\",\"NomeCompleto\":\"Michel Pereira\",\"DataNascimento\":\"19680607\",\"Salario\":\"2425\"},{\"id\":\"111\",\"NomeCompleto\":\"Chris Bryant\",\"DataNascimento\":\"19750220\",\"Salario\":\"2000\"},{\"id\":\"112\",\"NomeCompleto\":\"Wirote Petchdenlarp\",\"DataNascimento\":\"19590302\",\"Salario\":\"4950\"},{\"id\":\"113\",\"NomeCompleto\":\"Brian Burke\",\"DataNascimento\":\"19790108\",\"Salario\":\"950\"},{\"id\":\"114\",\"NomeCompleto\":\"Palle Petersen\",\"DataNascimento\":\"19760531\",\"Salario\":\"4150\"},{\"id\":\"115\",\"NomeCompleto\":\"Tzipi Butnaru\",\"DataNascimento\":\"19620825\",\"Salario\":\"2025\"},{\"id\":\"116\",\"NomeCompleto\":\"Terrence Philip\",\"DataNascimento\":\"19761124\",\"Salario\":\"550\"},{\"id\":\"117\",\"NomeCompleto\":\"Rick Byham\",\"DataNascimento\":\"19690221\",\"Salario\":\"3150\"},{\"id\":\"118\",\"NomeCompleto\":\"Michal Piaseczny\",\"DataNascimento\":\"19801205\",\"Salario\":\"150\"},{\"id\":\"119\",\"NomeCompleto\":\"Reina Cabatana\",\"DataNascimento\":\"19771007\",\"Salario\":\"1400\"},{\"id\":\"120\",\"NomeCompleto\":\"Pilar Pinilla\",\"DataNascimento\":\"19650617\",\"Salario\":\"3350\"},{\"id\":\"121\",\"NomeCompleto\":\"Iulian Calinov\",\"DataNascimento\":\"19790910\",\"Salario\":\"200\"},{\"id\":\"122\",\"NomeCompleto\":\"Tanja Plate\",\"DataNascimento\":\"19690719\",\"Salario\":\"2350\"},{\"id\":\"123\",\"NomeCompleto\":\"Maria Cameron\",\"DataNascimento\":\"19810701\",\"Salario\":\"2300\"},{\"id\":\"124\",\"NomeCompleto\":\"Ekaterina Podkolzina\",\"DataNascimento\":\"19631213\",\"Salario\":\"4700\"},{\"id\":\"125\",\"NomeCompleto\":\"Jamie Campbell\",\"DataNascimento\":\"19630928\",\"Salario\":\"875\"},{\"id\":\"126\",\"NomeCompleto\":\"Grigory Pogulsky\",\"DataNascimento\":\"19670216\",\"Salario\":\"3700\"},{\"id\":\"127\",\"NomeCompleto\":\"Paul Cannon\",\"DataNascimento\":\"19770815\",\"Salario\":\"825\"},{\"id\":\"128\",\"NomeCompleto\":\"Josh Pollock\",\"DataNascimento\":\"19690802\",\"Salario\":\"425\"},{\"id\":\"129\",\"NomeCompleto\":\"Cyril Carbonati\",\"DataNascimento\":\"19790117\",\"Salario\":\"1900\"},{\"id\":\"130\",\"NomeCompleto\":\"Cristina Potra\",\"DataNascimento\":\"19770412\",\"Salario\":\"3900\"},{\"id\":\"131\",\"NomeCompleto\":\"Jason Carlson\",\"DataNascimento\":\"19660206\",\"Salario\":\"3300\"},{\"id\":\"132\",\"NomeCompleto\":\"Chris Preston\",\"DataNascimento\":\"19691026\",\"Salario\":\"475\"},{\"id\":\"133\",\"NomeCompleto\":\"Fernando Caro\",\"DataNascimento\":\"19741022\",\"Salario\":\"3100\"},{\"id\":\"134\",\"NomeCompleto\":\"Vishwa Ranjan\",\"DataNascimento\":\"19610930\",\"Salario\":\"75\"},{\"id\":\"135\",\"NomeCompleto\":\"Chase Carpenter\",\"DataNascimento\":\"19780122\",\"Salario\":\"2300\"},{\"id\":\"136\",\"NomeCompleto\":\"Arvind Rao\",\"DataNascimento\":\"19720728\",\"Salario\":\"1100\"},{\"id\":\"137\",\"NomeCompleto\":\"Carlos Carvallo\",\"DataNascimento\":\"19760206\",\"Salario\":\"700\"},{\"id\":\"138\",\"NomeCompleto\":\"Morten Rasmussen\",\"DataNascimento\":\"19710919\",\"Salario\":\"3450\"},{\"id\":\"139\",\"NomeCompleto\":\"Gitte Casparij\",\"DataNascimento\":\"19801202\",\"Salario\":\"2175\"},{\"id\":\"140\",\"NomeCompleto\":\"Mike Ray\",\"DataNascimento\":\"19791030\",\"Salario\":\"350\"},{\"id\":\"141\",\"NomeCompleto\":\"Giorgio Cavaglieri\",\"DataNascimento\":\"19670314\",\"Salario\":\"1375\"},{\"id\":\"142\",\"NomeCompleto\":\"April Reagan\",\"DataNascimento\":\"19730808\",\"Salario\":\"2850\"},{\"id\":\"143\",\"NomeCompleto\":\"Luisa Cazzaniga\",\"DataNascimento\":\"19660206\",\"Salario\":\"0\"},{\"id\":\"144\",\"NomeCompleto\":\"Barak Regev\",\"DataNascimento\":\"19660206\",\"Salario\":\"0\"},{\"id\":\"145\",\"NomeCompleto\":\"Sean Chai\",\"DataNascimento\":\"19640603\",\"Salario\":\"2450\"},{\"id\":\"146\",\"NomeCompleto\":\"Enoch Remick\",\"DataNascimento\":\"19731120\",\"Salario\":\"975\"},{\"id\":\"147\",\"NomeCompleto\":\"Greg Chapman\",\"DataNascimento\":\"19670508\",\"Salario\":\"2050\"},{\"id\":\"148\",\"NomeCompleto\":\"Bjorn Rettig\",\"DataNascimento\":\"19750401\",\"Salario\":\"2050\"},{\"id\":\"149\",\"NomeCompleto\":\"Neil Charney\",\"DataNascimento\":\"19790429\",\"Salario\":\"4200\"},{\"id\":\"150\",\"NomeCompleto\":\"Don Richardson\",\"DataNascimento\":\"19790209\",\"Salario\":\"575\"},{\"id\":\"151\",\"NomeCompleto\":\"Ankur Chavda\",\"DataNascimento\":\"19671106\",\"Salario\":\"300\"},{\"id\":\"152\",\"NomeCompleto\":\"Wendy Richardson\",\"DataNascimento\":\"19730207\",\"Salario\":\"3200\"},{\"id\":\"153\",\"NomeCompleto\":\"Aik Chen\",\"DataNascimento\":\"19780414\",\"Salario\":\"3650\"},{\"id\":\"154\",\"NomeCompleto\":\"Anders Riis\",\"DataNascimento\":\"19740426\",\"Salario\":\"3400\"},{\"id\":\"155\",\"NomeCompleto\":\"Jeff Chia\",\"DataNascimento\":\"19771223\",\"Salario\":\"175\"},{\"id\":\"156\",\"NomeCompleto\":\"Titti Ringstrom\",\"DataNascimento\":\"19791212\",\"Salario\":\"1250\"},{\"id\":\"157\",\"NomeCompleto\":\"Michal Chmiela\",\"DataNascimento\":\"19780807\",\"Salario\":\"225\"},{\"id\":\"158\",\"NomeCompleto\":\"John Rodman\",\"DataNascimento\":\"19670519\",\"Salario\":\"2600\"},{\"id\":\"159\",\"NomeCompleto\":\"Ray Chow\",\"DataNascimento\":\"19800514\",\"Salario\":\"1925\"},{\"id\":\"160\",\"NomeCompleto\":\"Don Roessler\",\"DataNascimento\":\"19660313\",\"Salario\":\"900\"},{\"id\":\"161\",\"NomeCompleto\":\"Alice Ciccu\",\"DataNascimento\":\"19670211\",\"Salario\":\"550\"},{\"id\":\"162\",\"NomeCompleto\":\"Kelly Rollin\",\"DataNascimento\":\"19770327\",\"Salario\":\"3050\"},{\"id\":\"163\",\"NomeCompleto\":\"Izak Cohen\",\"DataNascimento\":\"19800624\",\"Salario\":\"3750\"},{\"id\":\"164\",\"NomeCompleto\":\"Daniel Roth\",\"DataNascimento\":\"19760506\",\"Salario\":\"450\"},{\"id\":\"165\",\"NomeCompleto\":\"Aaron Con\",\"DataNascimento\":\"19660125\",\"Salario\":\"3950\"},{\"id\":\"166\",\"NomeCompleto\":\"Pablo Rovira Diez\",\"DataNascimento\":\"19740901\",\"Salario\":\"500\"},{\"id\":\"167\",\"NomeCompleto\":\"Kevin Cook\",\"DataNascimento\":\"19760421\",\"Salario\":\"0\"},{\"id\":\"168\",\"NomeCompleto\":\"Erik Rucker\",\"DataNascimento\":\"19740918\",\"Salario\":\"2950\"},{\"id\":\"169\",\"NomeCompleto\":\"Jim Corbin\",\"DataNascimento\":\"19680727\",\"Salario\":\"100\"},{\"id\":\"170\",\"NomeCompleto\":\"Michael Ruggiero\",\"DataNascimento\":\"19670318\",\"Salario\":\"3150\"},{\"id\":\"171\",\"NomeCompleto\":\"Cecilia Cornejo\",\"DataNascimento\":\"19781118\",\"Salario\":\"1125\"},{\"id\":\"172\",\"NomeCompleto\":\"Sharon Salavaria\",\"DataNascimento\":\"19630905\",\"Salario\":\"1775\"},{\"id\":\"173\",\"NomeCompleto\":\"Robin Counts\",\"DataNascimento\":\"19610714\",\"Salario\":\"2200\"},{\"id\":\"174\",\"NomeCompleto\":\"Ken S\\\\ufffdnchez\",\"DataNascimento\":\"19740430\",\"Salario\":\"2350\"},{\"id\":\"175\",\"NomeCompleto\":\"Ioan Crisiarcu\",\"DataNascimento\":\"19751025\",\"Salario\":\"725\"},{\"id\":\"176\",\"NomeCompleto\":\"Mandar Samant\",\"DataNascimento\":\"19801107\",\"Salario\":\"1800\"},{\"id\":\"177\",\"NomeCompleto\":\"Scott Culp\",\"DataNascimento\":\"19790302\",\"Salario\":\"3500\"},{\"id\":\"178\",\"NomeCompleto\":\"Patrick Sands\",\"DataNascimento\":\"19810507\",\"Salario\":\"775\"},{\"id\":\"179\",\"NomeCompleto\":\"Pawel Czernek\",\"DataNascimento\":\"19770711\",\"Salario\":\"375\"},{\"id\":\"180\",\"NomeCompleto\":\"Mark Sargent\",\"DataNascimento\":\"19680619\",\"Salario\":\"3700\"},{\"id\":\"181\",\"NomeCompleto\":\"Apurva Dalia\",\"DataNascimento\":\"19750109\",\"Salario\":\"325\"},{\"id\":\"182\",\"NomeCompleto\":\"Tihomir Sasic\",\"DataNascimento\":\"19660204\",\"Salario\":\"2900\"},{\"id\":\"183\",\"NomeCompleto\":\"Jim Daly\",\"DataNascimento\":\"19800904\",\"Salario\":\"2475\"},{\"id\":\"184\",\"NomeCompleto\":\"Michiyo Sato\",\"DataNascimento\":\"19671015\",\"Salario\":\"1000\"},{\"id\":\"185\",\"NomeCompleto\":\"Mike Danseglio\",\"DataNascimento\":\"19591019\",\"Salario\":\"2075\"},{\"id\":\"186\",\"NomeCompleto\":\"Rimvydas Saulis\",\"DataNascimento\":\"19741220\",\"Salario\":\"2100\"},{\"id\":\"187\",\"NomeCompleto\":\"Shannon Dascher\",\"DataNascimento\":\"19720314\",\"Salario\":\"600\"},{\"id\":\"188\",\"NomeCompleto\":\"George Schaller\",\"DataNascimento\":\"19730723\",\"Salario\":\"3400\"},{\"id\":\"189\",\"NomeCompleto\":\"Andrew Davis\",\"DataNascimento\":\"19781008\",\"Salario\":\"3250\"},{\"id\":\"190\",\"NomeCompleto\":\"Rainer Schiller\",\"DataNascimento\":\"19760510\",\"Salario\":\"1675\"},{\"id\":\"191\",\"NomeCompleto\":\"Eric Davison\",\"DataNascimento\":\"19610824\",\"Salario\":\"250\"},{\"id\":\"192\",\"NomeCompleto\":\"Boris Scholl\",\"DataNascimento\":\"19700629\",\"Salario\":\"3450\"},{\"id\":\"193\",\"NomeCompleto\":\"Denis Dehenne\",\"DataNascimento\":\"19641006\",\"Salario\":\"200\"},{\"id\":\"194\",\"NomeCompleto\":\"Andreas Schou\",\"DataNascimento\":\"19710629\",\"Salario\":\"1275\"},{\"id\":\"195\",\"NomeCompleto\":\"Axel Delgado\",\"DataNascimento\":\"19660518\",\"Salario\":\"3300\"},{\"id\":\"196\",\"NomeCompleto\":\"Miguel Severino\",\"DataNascimento\":\"19790717\",\"Salario\":\"2350\"},{\"id\":\"197\",\"NomeCompleto\":\"Luca Dellamore\",\"DataNascimento\":\"19780415\",\"Salario\":\"1950\"},{\"id\":\"198\",\"NomeCompleto\":\"Jill Shrader\",\"DataNascimento\":\"19760211\",\"Salario\":\"925\"},{\"id\":\"199\",\"NomeCompleto\":\"Molly Dempsey\",\"DataNascimento\":\"19750605\",\"Salario\":\"2400\"},{\"id\":\"200\",\"NomeCompleto\":\"Alexandre Silva\",\"DataNascimento\":\"19721019\",\"Salario\":\"875\"},{\"id\":\"201\",\"NomeCompleto\":\"Prashanth Desai\",\"DataNascimento\":\"19700819\",\"Salario\":\"3800\"},{\"id\":\"202\",\"NomeCompleto\":\"Alex Simmons\",\"DataNascimento\":\"19640921\",\"Salario\":\"3000\"},{\"id\":\"203\",\"NomeCompleto\":\"Michael DeVoe\",\"DataNascimento\":\"19660121\",\"Salario\":\"475\"},{\"id\":\"204\",\"NomeCompleto\":\"David Simpson\",\"DataNascimento\":\"19671127\",\"Salario\":\"4000\"},{\"id\":\"205\",\"NomeCompleto\":\"Cari Dick\",\"DataNascimento\":\"19690409\",\"Salario\":\"3200\"},{\"id\":\"206\",\"NomeCompleto\":\"Ashima Singhal\",\"DataNascimento\":\"19800226\",\"Salario\":\"125\"},{\"id\":\"207\",\"NomeCompleto\":\"Cliff Didcock\",\"DataNascimento\":\"19760307\",\"Salario\":\"2200\"},{\"id\":\"208\",\"NomeCompleto\":\"Bonnie Skelly\",\"DataNascimento\":\"19720424\",\"Salario\":\"675\"},{\"id\":\"209\",\"NomeCompleto\":\"Blaine Dockter\",\"DataNascimento\":\"19730613\",\"Salario\":\"1150\"},{\"id\":\"210\",\"NomeCompleto\":\"Egil Skjold\",\"DataNascimento\":\"19740912\",\"Salario\":\"2400\"},{\"id\":\"211\",\"NomeCompleto\":\"Chris Downs\",\"DataNascimento\":\"19770707\",\"Salario\":\"2225\"},{\"id\":\"212\",\"NomeCompleto\":\"Ben Smith\",\"DataNascimento\":\"19660314\",\"Salario\":\"800\"},{\"id\":\"213\",\"NomeCompleto\":\"Jan Dryml\",\"DataNascimento\":\"19641216\",\"Salario\":\"750\"},{\"id\":\"214\",\"NomeCompleto\":\"Brian Smith\",\"DataNascimento\":\"19730331\",\"Salario\":\"3550\"},{\"id\":\"215\",\"NomeCompleto\":\"Bernard Duerr\",\"DataNascimento\":\"19781026\",\"Salario\":\"1825\"},{\"id\":\"216\",\"NomeCompleto\":\"Lorrin Smith-Bates\",\"DataNascimento\":\"19770626\",\"Salario\":\"3750\"},{\"id\":\"217\",\"NomeCompleto\":\"Andrea Dunker\",\"DataNascimento\":\"19760907\",\"Salario\":\"400\"},{\"id\":\"218\",\"NomeCompleto\":\"Martin Spona\",\"DataNascimento\":\"19770108\",\"Salario\":\"350\"},{\"id\":\"219\",\"NomeCompleto\":\"Bart Duncan\",\"DataNascimento\":\"19780611\",\"Salario\":\"1425\"},{\"id\":\"220\",\"NomeCompleto\":\"Jeff Stammler\",\"DataNascimento\":\"19690801\",\"Salario\":\"2950\"},{\"id\":\"221\",\"NomeCompleto\":\"Shelley Dyck\",\"DataNascimento\":\"19750101\",\"Salario\":\"800\"},{\"id\":\"222\",\"NomeCompleto\":\"Mark Steele\",\"DataNascimento\":\"19610321\",\"Salario\":\"4300\"},{\"id\":\"223\",\"NomeCompleto\":\"Witold Dyszkiewicz\",\"DataNascimento\":\"19611003\",\"Salario\":\"675\"},{\"id\":\"224\",\"NomeCompleto\":\"Brad Sutton\",\"DataNascimento\":\"19761023\",\"Salario\":\"2325\"},{\"id\":\"225\",\"NomeCompleto\":\"Terry Earls\",\"DataNascimento\":\"19601213\",\"Salario\":\"100\"},{\"id\":\"226\",\"NomeCompleto\":\"Bernard Tham\",\"DataNascimento\":\"19610123\",\"Salario\":\"1575\"},{\"id\":\"227\",\"NomeCompleto\":\"Josh Edwards\",\"DataNascimento\":\"19601231\",\"Salario\":\"2800\"},{\"id\":\"228\",\"NomeCompleto\":\"Sandhya Thodla\",\"DataNascimento\":\"19330117\",\"Salario\":\"2475\"},{\"id\":\"229\",\"NomeCompleto\":\"Vladimir Egorov\",\"DataNascimento\":\"19610927\",\"Salario\":\"4350\"},{\"id\":\"230\",\"NomeCompleto\":\"Iben Thorell\",\"DataNascimento\":\"19600407\",\"Salario\":\"700\"},{\"id\":\"231\",\"NomeCompleto\":\"Patrick Elliott\",\"DataNascimento\":\"19761020\",\"Salario\":\"2350\"},{\"id\":\"232\",\"NomeCompleto\":\"Justin Thorp\",\"DataNascimento\":\"19761020\",\"Salario\":\"2250\"},{\"id\":\"233\",\"NomeCompleto\":\"Anil Elson\",\"DataNascimento\":\"19610409\",\"Salario\":\"1600\"},{\"id\":\"234\",\"NomeCompleto\":\"Danielle Tiedt\",\"DataNascimento\":\"19761011\",\"Salario\":\"2225\"},{\"id\":\"235\",\"NomeCompleto\":\"Michael Entin\",\"DataNascimento\":\"19601225\",\"Salario\":\"2850\"},{\"id\":\"236\",\"NomeCompleto\":\"Olinda Turner\",\"DataNascimento\":\"19611123\",\"Salario\":\"0\"},{\"id\":\"237\",\"NomeCompleto\":\"Ebru Ersan\",\"DataNascimento\":\"19321230\",\"Salario\":\"2600\"},{\"id\":\"238\",\"NomeCompleto\":\"Tjeerd Veninga\",\"DataNascimento\":\"19761014\",\"Salario\":\"2375\"},{\"id\":\"239\",\"NomeCompleto\":\"Modesto Estrada\",\"DataNascimento\":\"19330114\",\"Salario\":\"600\"},{\"id\":\"240\",\"NomeCompleto\":\"Gregory Verny\",\"DataNascimento\":\"19610103\",\"Salario\":\"1625\"},{\"id\":\"241\",\"NomeCompleto\":\"Ken Ewert\",\"DataNascimento\":\"19430601\",\"Salario\":\"125\"},{\"id\":\"242\",\"NomeCompleto\":\"Peter Villadsen\",\"DataNascimento\":\"19420613\",\"Salario\":\"2900\"},{\"id\":\"243\",\"NomeCompleto\":\"Antoine Faisandier\",\"DataNascimento\":\"19641011\",\"Salario\":\"25\"},{\"id\":\"244\",\"NomeCompleto\":\"Florian Voss\",\"DataNascimento\":\"19330108\",\"Salario\":\"1500\"},{\"id\":\"246\",\"NomeCompleto\":\"Kelly Weadock\",\"DataNascimento\":\"19610103\",\"Salario\":\"2225\"},{\"id\":\"247\",\"NomeCompleto\":\"Yaniv Feinberg\",\"DataNascimento\":\"19450302\",\"Salario\":\"750\"},{\"id\":\"248\",\"NomeCompleto\":\"Martin Weber\",\"DataNascimento\":\"19610204\",\"Salario\":\"3300\"},{\"id\":\"249\",\"NomeCompleto\":\"Dan Fennell\",\"DataNascimento\":\"19761011\",\"Salario\":\"2400\"},{\"id\":\"250\",\"NomeCompleto\":\"Cindy White\",\"DataNascimento\":\"19420403\",\"Salario\":\"1650\"},{\"id\":\"251\",\"NomeCompleto\":\"Franziska Fiegler\",\"DataNascimento\":\"19611012\",\"Salario\":\"625\"},{\"id\":\"252\",\"NomeCompleto\":\"Greg Winston\",\"DataNascimento\":\"19761101\",\"Salario\":\"2275\"},{\"id\":\"253\",\"NomeCompleto\":\"William Flash\",\"DataNascimento\":\"19640124\",\"Salario\":\"1525\"},{\"id\":\"254\",\"NomeCompleto\":\"Robin Wood\",\"DataNascimento\":\"19611006\",\"Salario\":\"50\"},{\"id\":\"255\",\"NomeCompleto\":\"Raymond Fong\",\"DataNascimento\":\"19600831\",\"Salario\":\"2250\"},{\"id\":\"256\",\"NomeCompleto\":\"Karin Zimprich\",\"DataNascimento\":\"19761008\",\"Salario\":\"2425\"},{\"id\":\"257\",\"NomeCompleto\":\"Jeff Ford\",\"DataNascimento\":\"19330105\",\"Salario\":\"4250\"},{\"id\":\"258\",\"NomeCompleto\":\"Aziz Hassouneh\",\"DataNascimento\":\"19631007\",\"Salario\":\"650\"},{\"id\":\"259\",\"NomeCompleto\":\"Diane Forsyth\",\"DataNascimento\":\"19600529\",\"Salario\":\"725\"},{\"id\":\"260\",\"NomeCompleto\":\"Arno Harteveld\",\"DataNascimento\":\"19761029\",\"Salario\":\"2300\"},{\"id\":\"261\",\"NomeCompleto\":\"Soren Francker\",\"DataNascimento\":\"19630930\",\"Salario\":\"1550\"},{\"id\":\"262\",\"NomeCompleto\":\"Mark Harrington\",\"DataNascimento\":\"19600505\",\"Salario\":\"75\"},{\"id\":\"263\",\"NomeCompleto\":\"Joel Frauenheim\",\"DataNascimento\":\"19620117\",\"Salario\":\"2200\"},{\"id\":\"264\",\"NomeCompleto\":\"Eran Harel\",\"DataNascimento\":\"19440525\",\"Salario\":\"2275\"},{\"id\":\"265\",\"NomeCompleto\":\"Victor Freitas\",\"DataNascimento\":\"19630705\",\"Salario\":\"2750\"},{\"id\":\"266\",\"NomeCompleto\":\"Claus Hansen\",\"DataNascimento\":\"19761101\",\"Salario\":\"2450\"},{\"id\":\"267\",\"NomeCompleto\":\"Gabe Frost\",\"DataNascimento\":\"19680218\",\"Salario\":\"350\"},{\"id\":\"268\",\"NomeCompleto\":\"Jim Hance\",\"DataNascimento\":\"19680301\",\"Salario\":\"2500\"},{\"id\":\"269\",\"NomeCompleto\":\"Kari Furse\",\"DataNascimento\":\"19790629\",\"Salario\":\"400\"},{\"id\":\"270\",\"NomeCompleto\":\"David Hamilton\",\"DataNascimento\":\"19680218\",\"Salario\":\"2550\"},{\"id\":\"271\",\"NomeCompleto\":\"Mike Gahrns\",\"DataNascimento\":\"19690717\",\"Salario\":\"150\"},{\"id\":\"272\",\"NomeCompleto\":\"Dean Halstead\",\"DataNascimento\":\"19411117\",\"Salario\":\"700\"},{\"id\":\"273\",\"NomeCompleto\":\"Janet Galore\",\"DataNascimento\":\"19650417\",\"Salario\":\"2050\"},{\"id\":\"274\",\"NomeCompleto\":\"Adina Hagege\",\"DataNascimento\":\"19510603\",\"Salario\":\"200\"},{\"id\":\"275\",\"NomeCompleto\":\"Cesar Garcia\",\"DataNascimento\":\"19680406\",\"Salario\":\"2400\"},{\"id\":\"276\",\"NomeCompleto\":\"Mary Andersen\",\"DataNascimento\":\"19680301\",\"Salario\":\"2150\"},{\"id\":\"277\",\"NomeCompleto\":\"Hugo Garcia\",\"DataNascimento\":\"19670708\",\"Salario\":\"500\"},{\"id\":\"278\",\"NomeCompleto\":\"Allan Guinot\",\"DataNascimento\":\"19680313\",\"Salario\":\"2450\"},{\"id\":\"279\",\"NomeCompleto\":\"Davide Garghentini\",\"DataNascimento\":\"19680313\",\"Salario\":\"2450\"},{\"id\":\"280\",\"NomeCompleto\":\"Eric Gruber\",\"DataNascimento\":\"19680313\",\"Salario\":\"2450\"},{\"id\":\"281\",\"NomeCompleto\":\"Inbar Gazit\",\"DataNascimento\":\"19590126\",\"Salario\":\"1900\"},{\"id\":\"282\",\"NomeCompleto\":\"Seth Grossman\",\"DataNascimento\":\"19700330\",\"Salario\":\"1350\"},{\"id\":\"283\",\"NomeCompleto\":\"Christa Geller\",\"DataNascimento\":\"19520929\",\"Salario\":\"1200\"},{\"id\":\"284\",\"NomeCompleto\":\"Carlos Grilo\",\"DataNascimento\":\"19650307\",\"Salario\":\"1650\"},{\"id\":\"285\",\"NomeCompleto\":\"Tom Getzinger\",\"DataNascimento\":\"19640219\",\"Salario\":\"1450\"},{\"id\":\"286\",\"NomeCompleto\":\"Kirk Gregersen\",\"DataNascimento\":\"19650106\",\"Salario\":\"1100\"},{\"id\":\"287\",\"NomeCompleto\":\"Leo Giakoumakis\",\"DataNascimento\":\"19340410\",\"Salario\":\"1300\"},{\"id\":\"288\",\"NomeCompleto\":\"Nikolay Grachev\",\"DataNascimento\":\"19300111\",\"Salario\":\"1550\"},{\"id\":\"289\",\"NomeCompleto\":\"Enrique Gil\",\"DataNascimento\":\"19640314\",\"Salario\":\"1150\"},{\"id\":\"290\",\"NomeCompleto\":\"Mojca Gostincar\",\"DataNascimento\":\"19471022\",\"Salario\":\"1050\"},{\"id\":\"291\",\"NomeCompleto\":\"Eric Gilmore\",\"DataNascimento\":\"19580418\",\"Salario\":\"1850\"},{\"id\":\"292\",\"NomeCompleto\":\"Nuria Gonzalez\",\"DataNascimento\":\"19651031\",\"Salario\":\"1700\"},{\"id\":\"293\",\"NomeCompleto\":\"Stuart Glasson\",\"DataNascimento\":\"19680206\",\"Salario\":\"1950\"},{\"id\":\"294\",\"NomeCompleto\":\"Daniel Goldschmidt\",\"DataNascimento\":\"19650211\",\"Salario\":\"1000\"},{\"id\":\"295\",\"NomeCompleto\":\"Gerhard Goeschl\",\"DataNascimento\":\"19650809\",\"Salario\":\"1750\"},{\"id\":\"296\",\"NomeCompleto\":\"Jossef Goldberg\",\"DataNascimento\":\"19610418\",\"Salario\":\"1800\"},{\"id\":\"297\",\"NomeCompleto\":\"Jo\\\\u00e3o P\\\\u00e9 de Feij\\\\u00e3o\",\"DataNascimento\":\"19610418\",\"Salario\":true},{\"id\":\"298\",\"NomeCompleto\":\"M\\\\u00f4nica\",\"DataNascimento\":\"19930101\",\"Salario\":false},{\"id\":\"299\",\"NomeCompleto\":\"Dick Vigarista\",\"DataNascimento\":\"19800707\",\"Salario\":\"None\"}]'"
      ]
     },
     "execution_count": 5,
     "metadata": {},
     "output_type": "execute_result"
    }
   ],
   "source": [
    "# Mostra o Texto\n",
    "response.text"
   ]
  },
  {
   "cell_type": "code",
   "execution_count": 6,
   "metadata": {},
   "outputs": [],
   "source": [
    "# Fazemos um dicionário com DE -> PARA\n",
    "de_para = {\n",
    "    \"true\": \"'true'\",\n",
    "    \"false\": \"'false'\",\n",
    "    \"null\": \"'null'\"\n",
    "}"
   ]
  },
  {
   "cell_type": "code",
   "execution_count": 7,
   "metadata": {},
   "outputs": [
    {
     "data": {
      "text/html": [
       "<div>\n",
       "<style scoped>\n",
       "    .dataframe tbody tr th:only-of-type {\n",
       "        vertical-align: middle;\n",
       "    }\n",
       "\n",
       "    .dataframe tbody tr th {\n",
       "        vertical-align: top;\n",
       "    }\n",
       "\n",
       "    .dataframe thead th {\n",
       "        text-align: right;\n",
       "    }\n",
       "</style>\n",
       "<table border=\"1\" class=\"dataframe\">\n",
       "  <thead>\n",
       "    <tr style=\"text-align: right;\">\n",
       "      <th></th>\n",
       "      <th>id</th>\n",
       "      <th>NomeCompleto</th>\n",
       "      <th>DataNascimento</th>\n",
       "      <th>Salario</th>\n",
       "    </tr>\n",
       "  </thead>\n",
       "  <tbody>\n",
       "    <tr>\n",
       "      <th>0</th>\n",
       "      <td>1</td>\n",
       "      <td>Kim Abercrombie</td>\n",
       "      <td>19720515</td>\n",
       "      <td>5796</td>\n",
       "    </tr>\n",
       "    <tr>\n",
       "      <th>1</th>\n",
       "      <td>2</td>\n",
       "      <td>Sagiv Hadaya</td>\n",
       "      <td>19770603</td>\n",
       "      <td>5796</td>\n",
       "    </tr>\n",
       "    <tr>\n",
       "      <th>2</th>\n",
       "      <td>3</td>\n",
       "      <td>Luka Abrus</td>\n",
       "      <td>19641213</td>\n",
       "      <td>5796</td>\n",
       "    </tr>\n",
       "    <tr>\n",
       "      <th>3</th>\n",
       "      <td>4</td>\n",
       "      <td>Kirk Nason</td>\n",
       "      <td>19650123</td>\n",
       "      <td>5796</td>\n",
       "    </tr>\n",
       "    <tr>\n",
       "      <th>4</th>\n",
       "      <td>5</td>\n",
       "      <td>Humberto Acevedo</td>\n",
       "      <td>19650123</td>\n",
       "      <td>5796</td>\n",
       "    </tr>\n",
       "    <tr>\n",
       "      <th>...</th>\n",
       "      <td>...</td>\n",
       "      <td>...</td>\n",
       "      <td>...</td>\n",
       "      <td>...</td>\n",
       "    </tr>\n",
       "    <tr>\n",
       "      <th>291</th>\n",
       "      <td>295</td>\n",
       "      <td>Gerhard Goeschl</td>\n",
       "      <td>19650809</td>\n",
       "      <td>1750</td>\n",
       "    </tr>\n",
       "    <tr>\n",
       "      <th>292</th>\n",
       "      <td>296</td>\n",
       "      <td>Jossef Goldberg</td>\n",
       "      <td>19610418</td>\n",
       "      <td>1800</td>\n",
       "    </tr>\n",
       "    <tr>\n",
       "      <th>293</th>\n",
       "      <td>297</td>\n",
       "      <td>João Pé de Feijão</td>\n",
       "      <td>19610418</td>\n",
       "      <td>true</td>\n",
       "    </tr>\n",
       "    <tr>\n",
       "      <th>294</th>\n",
       "      <td>298</td>\n",
       "      <td>Mônica</td>\n",
       "      <td>19930101</td>\n",
       "      <td>false</td>\n",
       "    </tr>\n",
       "    <tr>\n",
       "      <th>295</th>\n",
       "      <td>299</td>\n",
       "      <td>Dick Vigarista</td>\n",
       "      <td>19800707</td>\n",
       "      <td>None</td>\n",
       "    </tr>\n",
       "  </tbody>\n",
       "</table>\n",
       "<p>296 rows × 4 columns</p>\n",
       "</div>"
      ],
      "text/plain": [
       "      id       NomeCompleto DataNascimento Salario\n",
       "0      1    Kim Abercrombie       19720515    5796\n",
       "1      2       Sagiv Hadaya       19770603    5796\n",
       "2      3         Luka Abrus       19641213    5796\n",
       "3      4         Kirk Nason       19650123    5796\n",
       "4      5   Humberto Acevedo       19650123    5796\n",
       "..   ...                ...            ...     ...\n",
       "291  295    Gerhard Goeschl       19650809    1750\n",
       "292  296    Jossef Goldberg       19610418    1800\n",
       "293  297  João Pé de Feijão       19610418    true\n",
       "294  298             Mônica       19930101   false\n",
       "295  299     Dick Vigarista       19800707    None\n",
       "\n",
       "[296 rows x 4 columns]"
      ]
     },
     "execution_count": 7,
     "metadata": {},
     "output_type": "execute_result"
    }
   ],
   "source": [
    "# É só \"rodar\" pra substituir os valores e ser feliz\n",
    "texto = response.text\n",
    "\n",
    "for i in de_para:\n",
    "    texto = texto.replace(i, de_para[i])\n",
    "df = pd.DataFrame.from_dict(eval(texto))\n",
    "df"
   ]
  },
  {
   "cell_type": "markdown",
   "metadata": {},
   "source": [
    "# <font color=green> SAIBA MAIS SOBRE MIM\n"
   ]
  },
  {
   "cell_type": "markdown",
   "metadata": {},
   "source": [
    "### Conheça meu trabalho\n",
    "\n",
    "<a href=\"https://www.joviano.com\">\n",
    "<img src=\"https://raw.githubusercontent.com/jovianosilveira/img/master/joviano-silveira-site-logo.png\" alt=\"joviano.com\" width=\"5%\">\n",
    "</a>\n",
    "\n",
    "<a href=\"https://www.youtube.com/jovianosilveira\">\n",
    "<img src=\"https://github.com/jovianosilveira/img/blob/master/joviano-silveira-youtube-logo.png?raw=true\" alt=\"joviano.com\" width=\"5%\">\n",
    "</a>\n",
    "\n",
    "<a href=\"http://www.linkedin.com/in/jovianosilveira\">\n",
    "<img src=\"https://github.com/jovianosilveira/img/blob/master/joviano-silveira-linkedin-logo.png?raw=true\" alt=\"joviano.com\" width=\"5%\">\n",
    "</a>\n",
    "\n",
    "<a href=\"https://www.instagram.com/jovi.silveira\">\n",
    "<img src=\"https://github.com/jovianosilveira/img/blob/master/joviano-silveira-instagram-logo.png?raw=true\" alt=\"joviano.com\" width=\"5%\">\n",
    "</a>\n",
    "\n",
    "<a href=\"https://www.facebook.com/jovi.silveira.cursos\">\n",
    "<img src=\"https://github.com/jovianosilveira/img/blob/master/joviano-silveira-facebook-logo.png?raw=true\" alt=\"joviano.com\" width=\"5%\">\n",
    "</a>"
   ]
  },
  {
   "cell_type": "code",
   "execution_count": null,
   "metadata": {},
   "outputs": [],
   "source": []
  }
 ],
 "metadata": {
  "kernelspec": {
   "display_name": "Python 3",
   "language": "python",
   "name": "python3"
  },
  "language_info": {
   "codemirror_mode": {
    "name": "ipython",
    "version": 3
   },
   "file_extension": ".py",
   "mimetype": "text/x-python",
   "name": "python",
   "nbconvert_exporter": "python",
   "pygments_lexer": "ipython3",
   "version": "3.6.6"
  }
 },
 "nbformat": 4,
 "nbformat_minor": 4
}
