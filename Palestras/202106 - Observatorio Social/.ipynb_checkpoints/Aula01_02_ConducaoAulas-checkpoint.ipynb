{
 "cells": [
  {
   "cell_type": "markdown",
   "metadata": {},
   "source": [
    "<center><img width=\"70%\" src=\"img/logo.png\"></center>"
   ]
  },
  {
   "cell_type": "markdown",
   "metadata": {},
   "source": [
    "# **Projeto Observatório Social - Prefeitura Municipal de Indaial / SC**\n",
    "### <font color='#DC143C'> *Webcrapping com Python | Criação e Alimentação de DW*\n",
    "*by [JOVIANO SILVEIRA](https://www.joviano.com)*\n",
    "\n",
    "---"
   ]
  },
  {
   "cell_type": "markdown",
   "metadata": {},
   "source": [
    "# <font color=green> 1. EXPLICAÇÕES FOCADAS"
   ]
  },
  {
   "cell_type": "markdown",
   "metadata": {},
   "source": [
    "> <font color='#DC143C'>**Se você está esperando um curso completo de Python, infelizmente esse não é o lugar**.\n",
    ">\n",
    "> <font color='black'> Aqui vou te mostrar passo-a-passo como usar as ferramentas citadas para resolver um problema de negócio.\n",
    ">\n",
    "> Inevitavelmente vamos passar por vários conceitos os quais receberão a atenção focada."
   ]
  },
  {
   "cell_type": "markdown",
   "metadata": {},
   "source": [
    "# <font color=green> 2. PROGRAMAS E PLATAFORMAS\n"
   ]
  },
  {
   "cell_type": "markdown",
   "metadata": {},
   "source": [
    "> Optei por fazer tudo localmente, não usando o Google Colab, pois vamos fazer um case que vai manipular o SQL Server Local.\n",
    ">\n",
    "> Além disso eu comento nos cursos que é importante ter as instalações locais, pois quando necessário for, usar uma biblioteca Python no PowerBI, você não poderá contar com o COLAB."
   ]
  },
  {
   "cell_type": "markdown",
   "metadata": {},
   "source": [
    "> Todo o treinamento será na plataforma Windows, e se você usa outro sistema operacional, terá alguns detalhes a pesquisar \"por fora\"."
   ]
  },
  {
   "cell_type": "markdown",
   "metadata": {},
   "source": [
    "> Os programas a seguir são demorados de instalar, e a live demoraria demais, se eu fosse instalar tudo junto a vocês."
   ]
  },
  {
   "cell_type": "markdown",
   "metadata": {},
   "source": [
    "> Utilizaremos somente softwares gratuitos: \n",
    ">> - Python na versão 3.6.6\n",
    ">>> - https://www.python.org/downloads/release/python-366/\n",
    ">>> - Quando instalar, instale numa pasta denominada ``C:/Python``\n",
    ">>> - Manter selecionado a opção de inserir ``variável de ambiente``\n",
    ">>> - Gosto de instalar versão especifica por alguns motivos:\n",
    ">>>> - Garantir que sua execução seja exatamente igual a minha, mesmo fazendo no futuro\n",
    ">>>> - Lhe treinar para criação de seu ambiente de produção\n",
    ">>> - Bibliotecas serão instaladas e explicadas durante as aulas\n",
    ">>>> - Conforme as aulas vão acontecendo, vou indicando a instalação de cada biblioteca;\n",
    ">>>> - Algumas já vou deixar recomandada a instalação (nessa ordem)\n",
    ">>>>> - python -m pip install pip==20.3.1\n",
    ">>>>> - pip install jupyterlab==2.2.9\n",
    ">>>>> - pip install numpy==1.18.3\n",
    ">>>>> - pip install pandas==1.1.5\n",
    ">>>>> - pip install matplotlib==3.3.3\n",
    ">>>>> - pip install seaborn==0.11.0\n",
    ">>>>> - pip install openpyxl==3.0.5\n",
    ">>>>> - pip install xlrd==1.2.0\n",
    ">>>>> - pip install folium==0.12.1\n",
    ">>>> - Específicas para webscraping nesse projeto\n",
    ">>>>> - pip install beautifulsoup4==4.9.3\n",
    ">>>>> - pip install html5lib==1.1\n",
    ">>>>> - pip install requests==2.25.1\n",
    ">>>>> - pip install lxml==4.6.2\n",
    ">>>> - Atenção: \n",
    ">>>>> - algumas versões possuem incompatibilidade, por isso, selecionei as que vão tornar nosso projeto replicável;\n",
    ">>>>> - No seu dia a dia você vai se deparar com várias bibliotecas incompatíveis, aonde bastará encontrar qual versão que \"caiba\" no projeto; \n",
    ">> - PowerBI (versão mais recente)\n",
    ">>> - https://powerbi.microsoft.com/pt-br/downloads/\n",
    ">>> - Visuais personalizados serão importados e explicados durante as aulas\n",
    ">> - SQL Server Developer Edition (versão mais recente)\n",
    ">>> - Versão desenvolvedor\n",
    ">>> - https://www.microsoft.com/pt-br/sql-server/sql-server-downloads\n",
    ">> - SSMS - Microsoft Management Studio (versão mais recente)\n",
    ">>> - https://docs.microsoft.com/pt-br/sql/ssms/download-sql-server-management-studio-ssms?view=sql-server-ver15"
   ]
  },
  {
   "cell_type": "markdown",
   "metadata": {},
   "source": [
    "<font color='#DC143C'> **Por que não mencionei ANACONDA**"
   ]
  },
  {
   "cell_type": "markdown",
   "metadata": {},
   "source": [
    "> Se você se deparar com o termo ANACONDA, é um pacote de instalação de vários programas e bibliotecas escolhidos por uma determinada equipe, como essenciais.\n",
    "> \n",
    "> Porém a facilidade tem seus pontos negativos:\n",
    ">> - Perda de oportunidade de ensinar você criar seu ambiente;\n",
    ">> - Instalação de um monte de biblioteca que você nem vai chegar a usar (gasta tempo de instalação e gasta espaço da máquina);\n",
    ">> - Não instalação de alguma biblioteca que você gostaria (ai vc vai ter que instalar a mão);"
   ]
  },
  {
   "cell_type": "markdown",
   "metadata": {},
   "source": [
    "> Se você fazer um trabalho lindo, e quiser colocar a rodar em seu servidor, provavelmente *o cara do TI* não vai querer instalar 4Gb de tranqueira no servidor.\n",
    ">\n",
    "> E pense em questões de segurança, aonde você vai querer que *o cara do TI* instale um pacote de bibliotecas, confiando numa organização de curadoria denominada Anaconda...\n",
    ">> **E se ANACONDA deixar passar algum malware? quem paga a conta?**"
   ]
  },
  {
   "cell_type": "markdown",
   "metadata": {},
   "source": [
    "<font color='#DC143C'> **Debugue os erros**"
   ]
  },
  {
   "cell_type": "markdown",
   "metadata": {},
   "source": [
    "> Os erros do Python na maioria dos casos são auto-explicativos, mas as vezes, carecem de uma atenção especial.\n",
    "> \n",
    "> Nesses casos, faça como qualquer programador: **Digite o erro no Google, e geralmente o StackOverFlow vai ter a resposta**"
   ]
  },
  {
   "cell_type": "markdown",
   "metadata": {},
   "source": [
    "<font color='#DC143C'> Olhe para a imagem a seguir, e entenda o que estou fazendo com você!"
   ]
  },
  {
   "cell_type": "markdown",
   "metadata": {},
   "source": [
    "<center><img width=\"70%\" src=\"img/pesca.jpg\"></center>"
   ]
  },
  {
   "cell_type": "markdown",
   "metadata": {},
   "source": [
    "# <font color=green> 3. VÁRIOS PROGRAMAS QUE EXECUTAM PYTHON"
   ]
  },
  {
   "cell_type": "markdown",
   "metadata": {},
   "source": [
    "> Acima indicamos a instalação do jupyterlab, que é um dos mais usados pelos \"exploradores\" de dados.\n",
    ">\n",
    "> Porém você vai encontrar outros programas para \"rodar\" o python, como por exemplo:\n",
    ">\n",
    ">> - o próprio cmd\n",
    ">> - [Google Colab (na \"nuvem\")](https://colab.research.google.com/)\n",
    ">> - [Pycharm](https://www.jetbrains.com/pt-br/pycharm/download/#section=windows)\n",
    ">> - [Spyder](https://www.spyder-ide.org/)\n",
    ">> - [Visual Studio Code](https://code.visualstudio.com/download)\n",
    ">> - E muitos outros...\n",
    "> \n",
    "> Cada projeto tem suas necessidades, e cada \"explorador\" tem suas preferências.\n",
    "> \n",
    "> Em meus projetos, eu uso da seguinte maneira:\n",
    ">> - ``Jupyter Notebook`` predominantemente para projetos exploratórios, e códigos beta, aonde quero ir \"olhando\" para o resultado, e analisando;\n",
    ">> - ``Visual Studio`` ou ``Notepad ++`` ou ``editor de texto`` para pegar um código que gerei no Jupyter e limpar, para tornar em um script executável;\n",
    ">> - ``Py Charm`` quando estou criando um projeto robusto, usando módulos próprios e/ou usando ambiente virtual."
   ]
  },
  {
   "cell_type": "markdown",
   "metadata": {},
   "source": [
    "### 3.1 Não existe jeito certo"
   ]
  },
  {
   "cell_type": "markdown",
   "metadata": {},
   "source": [
    "> Existem várias formas de resolver cada pedaço do problema que vamos expor, e eu escolhi uma das formas que faço para explicar.\n",
    ">\n",
    "> Algoritmo é resultado da lógica + experiência + preferência do programador.\n",
    ">\n",
    "> Eu posso escolher fazer algo com ``listas`` que você prefira com ``dicionários``. E os dois podem chegar ao mesmo resultado.\n",
    ">\n",
    "> Isso também se aplica ao uso de ``bibliotecas`` e ``métodos`` (funções dentro delas), aonde você pode conhecer alguma que eu não conheço e vice versa."
   ]
  },
  {
   "cell_type": "markdown",
   "metadata": {},
   "source": [
    "---"
   ]
  },
  {
   "cell_type": "markdown",
   "metadata": {},
   "source": [
    "# <font color=green> SAIBA MAIS SOBRE MIM\n"
   ]
  },
  {
   "cell_type": "markdown",
   "metadata": {},
   "source": [
    "### Conheça meu trabalho\n",
    "\n",
    "<a href=\"https://www.joviano.com\">\n",
    "<img src=\"https://raw.githubusercontent.com/jovianosilveira/img/master/joviano-silveira-site-logo.png\" alt=\"joviano.com\" width=\"5%\">\n",
    "</a>\n",
    "\n",
    "<a href=\"https://www.youtube.com/jovianosilveira\">\n",
    "<img src=\"https://github.com/jovianosilveira/img/blob/master/joviano-silveira-youtube-logo.png?raw=true\" alt=\"joviano.com\" width=\"5%\">\n",
    "</a>\n",
    "\n",
    "<a href=\"http://www.linkedin.com/in/jovianosilveira\">\n",
    "<img src=\"https://github.com/jovianosilveira/img/blob/master/joviano-silveira-linkedin-logo.png?raw=true\" alt=\"joviano.com\" width=\"5%\">\n",
    "</a>\n",
    "\n",
    "<a href=\"https://www.instagram.com/jovi.silveira\">\n",
    "<img src=\"https://github.com/jovianosilveira/img/blob/master/joviano-silveira-instagram-logo.png?raw=true\" alt=\"joviano.com\" width=\"5%\">\n",
    "</a>\n",
    "\n",
    "<a href=\"https://www.facebook.com/jovi.silveira.cursos\">\n",
    "<img src=\"https://github.com/jovianosilveira/img/blob/master/joviano-silveira-facebook-logo.png?raw=true\" alt=\"joviano.com\" width=\"5%\">\n",
    "</a>"
   ]
  }
 ],
 "metadata": {
  "kernelspec": {
   "display_name": "Python 3",
   "language": "python",
   "name": "python3"
  },
  "language_info": {
   "codemirror_mode": {
    "name": "ipython",
    "version": 3
   },
   "file_extension": ".py",
   "mimetype": "text/x-python",
   "name": "python",
   "nbconvert_exporter": "python",
   "pygments_lexer": "ipython3",
   "version": "3.6.6"
  }
 },
 "nbformat": 4,
 "nbformat_minor": 4
}
