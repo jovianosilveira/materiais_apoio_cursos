{
 "cells": [
  {
   "cell_type": "markdown",
   "metadata": {},
   "source": [
    "<center><img width=\"70%\" src=\"img/logo.png\"></center>"
   ]
  },
  {
   "cell_type": "markdown",
   "metadata": {},
   "source": [
    "# **Projeto Observatório Social - Prefeitura Municipal de Indaial / SC**\n",
    "### <font color='#DC143C'> *Webcrapping com Python | Criação e Alimentação de DW*\n",
    "*by [JOVIANO SILVEIRA](https://www.joviano.com)*\n",
    "\n",
    "---"
   ]
  },
  {
   "cell_type": "markdown",
   "metadata": {},
   "source": [
    "# <font color=green> 1. REVISÃO\n"
   ]
  },
  {
   "cell_type": "markdown",
   "metadata": {},
   "source": [
    "🏆 Aula 1 - Preparação do ambiente e seu primeiro webscraping;\n",
    "\n",
    "✅ Mostramos uma solução para resolver o problema de retorno de API´s contendo palavras reservadas (None, True, False...)\n",
    "\n",
    "✅ Aprendemos a criar funções personalizadas;\n",
    "\n",
    "✅ Falamos sobre a importância de tratar e se precaver de erros;\n",
    "\n",
    "✅ Mostramos como \"quebrar texto\" manualmente e evoluindo para o BS4;\n",
    "\n",
    "✅ Criamos uma tabela de informações coletadas na página;\n",
    "\n",
    "✅ Por fim, falamos de ``loop`` que são responsáveis por \"ficar executando\" o código repetidas vezes."
   ]
  },
  {
   "cell_type": "markdown",
   "metadata": {},
   "source": [
    "---"
   ]
  },
  {
   "cell_type": "markdown",
   "metadata": {},
   "source": [
    "# <font color=green> SAIBA MAIS SOBRE MIM\n"
   ]
  },
  {
   "cell_type": "markdown",
   "metadata": {},
   "source": [
    "### Conheça meu trabalho\n",
    "\n",
    "<a href=\"https://www.joviano.com\">\n",
    "<img src=\"https://raw.githubusercontent.com/jovianosilveira/img/master/joviano-silveira-site-logo.png\" alt=\"joviano.com\" width=\"5%\">\n",
    "</a>\n",
    "\n",
    "<a href=\"https://www.youtube.com/jovianosilveira\">\n",
    "<img src=\"https://github.com/jovianosilveira/img/blob/master/joviano-silveira-youtube-logo.png?raw=true\" alt=\"joviano.com\" width=\"5%\">\n",
    "</a>\n",
    "\n",
    "<a href=\"http://www.linkedin.com/in/jovianosilveira\">\n",
    "<img src=\"https://github.com/jovianosilveira/img/blob/master/joviano-silveira-linkedin-logo.png?raw=true\" alt=\"joviano.com\" width=\"5%\">\n",
    "</a>\n",
    "\n",
    "<a href=\"https://www.instagram.com/jovi.silveira\">\n",
    "<img src=\"https://github.com/jovianosilveira/img/blob/master/joviano-silveira-instagram-logo.png?raw=true\" alt=\"joviano.com\" width=\"5%\">\n",
    "</a>\n",
    "\n",
    "<a href=\"https://www.facebook.com/jovi.silveira.cursos\">\n",
    "<img src=\"https://github.com/jovianosilveira/img/blob/master/joviano-silveira-facebook-logo.png?raw=true\" alt=\"joviano.com\" width=\"5%\">\n",
    "</a>"
   ]
  },
  {
   "cell_type": "code",
   "execution_count": null,
   "metadata": {},
   "outputs": [],
   "source": []
  }
 ],
 "metadata": {
  "kernelspec": {
   "display_name": "Python 3",
   "language": "python",
   "name": "python3"
  },
  "language_info": {
   "codemirror_mode": {
    "name": "ipython",
    "version": 3
   },
   "file_extension": ".py",
   "mimetype": "text/x-python",
   "name": "python",
   "nbconvert_exporter": "python",
   "pygments_lexer": "ipython3",
   "version": "3.6.6"
  }
 },
 "nbformat": 4,
 "nbformat_minor": 4
}
