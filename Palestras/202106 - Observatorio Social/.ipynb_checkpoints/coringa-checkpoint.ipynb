{
 "cells": [
  {
   "cell_type": "markdown",
   "metadata": {},
   "source": [
    "<center><img width=\"70%\" src=\"img/logo.png\"></center>"
   ]
  },
  {
   "cell_type": "markdown",
   "metadata": {},
   "source": [
    "# **Projeto Observatório Social - Prefeitura Municipal de Indaial / SC**\n",
    "### <font color='#DC143C'> *Webcrapping com Python | Criação e Alimentação de DW*\n",
    "*by [JOVIANO SILVEIRA](https://www.joviano.com)*\n",
    "\n",
    "---"
   ]
  },
  {
   "cell_type": "markdown",
   "metadata": {},
   "source": [
    "# <font color=green> 1. SOBRE MIM\n"
   ]
  },
  {
   "cell_type": "code",
   "execution_count": null,
   "metadata": {},
   "outputs": [],
   "source": []
  },
  {
   "cell_type": "code",
   "execution_count": null,
   "metadata": {},
   "outputs": [],
   "source": []
  },
  {
   "cell_type": "code",
   "execution_count": null,
   "metadata": {},
   "outputs": [],
   "source": []
  },
  {
   "cell_type": "code",
   "execution_count": null,
   "metadata": {},
   "outputs": [],
   "source": []
  },
  {
   "cell_type": "markdown",
   "metadata": {},
   "source": [
    "---"
   ]
  },
  {
   "cell_type": "markdown",
   "metadata": {},
   "source": [
    "# <font color=green> SAIBA MAIS SOBRE MIM\n"
   ]
  },
  {
   "cell_type": "markdown",
   "metadata": {},
   "source": [
    "### Conheça meu trabalho\n",
    "\n",
    "<a href=\"https://www.joviano.com\">\n",
    "<img src=\"https://raw.githubusercontent.com/jovianosilveira/img/master/joviano-silveira-site-logo.png\" alt=\"joviano.com\" width=\"5%\">\n",
    "</a>\n",
    "\n",
    "<a href=\"https://www.youtube.com/jovianosilveira\">\n",
    "<img src=\"https://github.com/jovianosilveira/img/blob/master/joviano-silveira-youtube-logo.png?raw=true\" alt=\"joviano.com\" width=\"5%\">\n",
    "</a>\n",
    "\n",
    "<a href=\"http://www.linkedin.com/in/jovianosilveira\">\n",
    "<img src=\"https://github.com/jovianosilveira/img/blob/master/joviano-silveira-linkedin-logo.png?raw=true\" alt=\"joviano.com\" width=\"5%\">\n",
    "</a>\n",
    "\n",
    "<a href=\"https://www.instagram.com/jovi.silveira\">\n",
    "<img src=\"https://github.com/jovianosilveira/img/blob/master/joviano-silveira-instagram-logo.png?raw=true\" alt=\"joviano.com\" width=\"5%\">\n",
    "</a>\n",
    "\n",
    "<a href=\"https://www.facebook.com/jovi.silveira.cursos\">\n",
    "<img src=\"https://github.com/jovianosilveira/img/blob/master/joviano-silveira-facebook-logo.png?raw=true\" alt=\"joviano.com\" width=\"5%\">\n",
    "</a>"
   ]
  }
 ],
 "metadata": {
  "kernelspec": {
   "display_name": "Python 3",
   "language": "python",
   "name": "python3"
  },
  "language_info": {
   "codemirror_mode": {
    "name": "ipython",
    "version": 3
   },
   "file_extension": ".py",
   "mimetype": "text/x-python",
   "name": "python",
   "nbconvert_exporter": "python",
   "pygments_lexer": "ipython3",
   "version": "3.6.6"
  }
 },
 "nbformat": 4,
 "nbformat_minor": 4
}
